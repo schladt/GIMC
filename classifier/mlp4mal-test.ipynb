{
 "cells": [
  {
   "cell_type": "markdown",
   "metadata": {},
   "source": [
    "# MLP for NLP Classification\n",
    "Reference Docs:\n",
    "- https://colab.research.google.com/drive/1WUy4G2SsoLelrZDkO2I0v9tHx9x27NJK?usp=sharing"
   ]
  },
  {
   "cell_type": "markdown",
   "metadata": {},
   "source": [
    "### Imports and Settings"
   ]
  },
  {
   "cell_type": "code",
   "execution_count": 1,
   "metadata": {},
   "outputs": [],
   "source": [
    "%load_ext autoreload\n",
    "%autoreload 2\n",
    "\n",
    "import os\n",
    "import random\n",
    "import torch\n",
    "%matplotlib inline\n",
    "\n",
    "import json\n",
    "import torch\n",
    "\n",
    "with open ('../settings.json') as f:\n",
    "    settings = json.load(f)\n",
    "\n",
    "DATA_DIR = os.path.join(settings['data_path'], 'classifier')\n",
    "os.makedirs(DATA_DIR, exist_ok=True)\n",
    "CHECKPOINT_DIR = os.path.join(DATA_DIR, \"model_data\")\n",
    "os.makedirs(CHECKPOINT_DIR, exist_ok=True)\n",
    "CHECKPOINT_PREFIX = os.path.join(CHECKPOINT_DIR, \"mlp4mal-test\")\n",
    "\n",
    "RANDOM_SEED = 4444\n",
    "torch.manual_seed(RANDOM_SEED)\n",
    "random.seed(RANDOM_SEED)\n",
    "torch.manual_seed(RANDOM_SEED)\n",
    "torch.backends.cudnn.deterministic = True\n",
    "\n",
    "VOCABULARY_SIZE = 20000\n",
    "DROPOUT = 0.25\n",
    "LEARNING_RATE = 1e-3\n",
    "EMBEDDING_DIM = 128\n",
    "BATCH_SIZE = 64\n",
    "NUM_EPOCHS = 15\n",
    "NUM_CLASSES = 4\n",
    "MAX_LENGTH = 20480 * 2\n",
    "DEVICE = torch.device('cuda:0' if torch.cuda.is_available() else 'cpu')\n",
    "\n"
   ]
  },
  {
   "cell_type": "markdown",
   "metadata": {},
   "source": [
    "### Set up CUDA debug environment"
   ]
  },
  {
   "cell_type": "code",
   "execution_count": 2,
   "metadata": {},
   "outputs": [
    {
     "name": "stdout",
     "output_type": "stream",
     "text": [
      "CUDA_LAUNCH_BLOCKING = 1\n",
      "TORCH_USE_CUDA_DSA = 1\n"
     ]
    }
   ],
   "source": [
    "# Enable synchronous CUDA execution for better error reporting\n",
    "os.environ['CUDA_LAUNCH_BLOCKING'] = '1'\n",
    "\n",
    "# Enable device-side assertions in CUDA kernels\n",
    "os.environ['TORCH_USE_CUDA_DSA'] = '1'\n",
    "\n",
    "# Confirm the variables are set\n",
    "print(\"CUDA_LAUNCH_BLOCKING =\", os.getenv('CUDA_LAUNCH_BLOCKING'))\n",
    "print(\"TORCH_USE_CUDA_DSA =\", os.getenv('TORCH_USE_CUDA_DSA'))"
   ]
  },
  {
   "cell_type": "markdown",
   "metadata": {},
   "source": [
    "### Load Data (already cleaned and selected)"
   ]
  },
  {
   "cell_type": "code",
   "execution_count": 3,
   "metadata": {},
   "outputs": [
    {
     "name": "stdout",
     "output_type": "stream",
     "text": [
      "['/media/mike/Data/gimc/classifier/report_data/json_0.json', '/media/mike/Data/gimc/classifier/report_data/json_1.json', '/media/mike/Data/gimc/classifier/report_data/json_10.json', '/media/mike/Data/gimc/classifier/report_data/json_11.json', '/media/mike/Data/gimc/classifier/report_data/json_12.json', '/media/mike/Data/gimc/classifier/report_data/json_13.json', '/media/mike/Data/gimc/classifier/report_data/json_14.json', '/media/mike/Data/gimc/classifier/report_data/json_15.json', '/media/mike/Data/gimc/classifier/report_data/json_2.json', '/media/mike/Data/gimc/classifier/report_data/json_3.json', '/media/mike/Data/gimc/classifier/report_data/json_4.json', '/media/mike/Data/gimc/classifier/report_data/json_5.json', '/media/mike/Data/gimc/classifier/report_data/json_6.json', '/media/mike/Data/gimc/classifier/report_data/json_7.json', '/media/mike/Data/gimc/classifier/report_data/json_8.json', '/media/mike/Data/gimc/classifier/report_data/json_9.json']\n",
      "Dataset({\n",
      "    features: ['text', 'label'],\n",
      "    num_rows: 16000\n",
      "})\n"
     ]
    }
   ],
   "source": [
    "from datasets import load_dataset\n",
    "\n",
    "REPORT_DIR = os.path.join(DATA_DIR, \"report_data\")\n",
    "os.makedirs(REPORT_DIR, exist_ok=True)\n",
    "\n",
    "# get all files in the report directory\n",
    "file_paths = [os.path.join(REPORT_DIR, f) for f in os.listdir(REPORT_DIR) if os.path.isfile(os.path.join(REPORT_DIR, f))]\n",
    "print(file_paths)\n",
    "\n",
    "dataset = load_dataset('json', data_files=file_paths)['train']\n",
    "print(dataset)\n",
    "# # get 1000 random samples\n",
    "# dataset = dataset.shuffle(seed=RANDOM_SEED)\n",
    "# dataset = dataset.select(list(range(1000)))\n",
    "# print(dataset)"
   ]
  },
  {
   "cell_type": "markdown",
   "metadata": {},
   "source": [
    "### Split Data for k-fold cross validation"
   ]
  },
  {
   "cell_type": "code",
   "execution_count": 4,
   "metadata": {},
   "outputs": [
    {
     "name": "stdout",
     "output_type": "stream",
     "text": [
      "Train+Val pool: 14400 samples\n",
      "Test set: 1600 samples\n"
     ]
    }
   ],
   "source": [
    "# reserve 10% as test, use 90% for training+validation\n",
    "train_val_split = dataset.train_test_split(test_size=0.1, seed=42, shuffle=True)\n",
    "train_val_dataset = train_val_split['train']   # 90% of data for K-fold CV\n",
    "test_dataset      = train_val_split['test']    # 10% hold-out test set\n",
    "\n",
    "print(f\"Train+Val pool: {len(train_val_dataset)} samples\")\n",
    "print(f\"Test set: {len(test_dataset)} samples\")"
   ]
  },
  {
   "cell_type": "markdown",
   "metadata": {},
   "source": [
    "### Load Tokenizer"
   ]
  },
  {
   "cell_type": "code",
   "execution_count": 5,
   "metadata": {},
   "outputs": [
    {
     "name": "stdout",
     "output_type": "stream",
     "text": [
      "Tokenizer path: /media/mike/Data/gimc/classifier/model_data/mal-reformer\n"
     ]
    }
   ],
   "source": [
    "tokenizer_path = os.path.join(DATA_DIR, 'model_data', 'mal-reformer')\n",
    "print(f\"Tokenizer path: {tokenizer_path}\")\n",
    "\n",
    "import torch\n",
    "from transformers import AutoTokenizer\n",
    "\n",
    "# Load the tokenizer\n",
    "tokenizer = AutoTokenizer.from_pretrained(tokenizer_path)\n",
    "tokenizer.pad_token = \"[PAD]\"\n",
    "tokenizer.cls_token = \"[CLS]\"\n",
    "tokenizer.sep_token = \"[SEP]\""
   ]
  },
  {
   "cell_type": "markdown",
   "metadata": {},
   "source": [
    "### Tokenizer Function"
   ]
  },
  {
   "cell_type": "code",
   "execution_count": 6,
   "metadata": {},
   "outputs": [],
   "source": [
    "def tokenize_function(example):\n",
    "    return tokenizer(\n",
    "        example['text'],\n",
    "        padding='max_length',\n",
    "        truncation=True,\n",
    "        max_length=MAX_LENGTH\n",
    "    )"
   ]
  },
  {
   "cell_type": "code",
   "execution_count": 7,
   "metadata": {},
   "outputs": [
    {
     "data": {
      "application/vnd.jupyter.widget-view+json": {
       "model_id": "36f6207f7438422aa09275631a412c77",
       "version_major": 2,
       "version_minor": 0
      },
      "text/plain": [
       "Map:   0%|          | 0/14400 [00:00<?, ? examples/s]"
      ]
     },
     "metadata": {},
     "output_type": "display_data"
    },
    {
     "data": {
      "application/vnd.jupyter.widget-view+json": {
       "model_id": "084b00f8cafd4f03953a71e9c850992a",
       "version_major": 2,
       "version_minor": 0
      },
      "text/plain": [
       "Map:   0%|          | 0/1600 [00:00<?, ? examples/s]"
      ]
     },
     "metadata": {},
     "output_type": "display_data"
    }
   ],
   "source": [
    "# Tokenize the train+val combined data and the test set\n",
    "tokenized_train_val = train_val_dataset.map(tokenize_function, batched=True)\n",
    "tokenized_test = test_dataset.map(tokenize_function, batched=True)\n"
   ]
  },
  {
   "cell_type": "markdown",
   "metadata": {},
   "source": [
    "### Implement Stratified K-Fold Cross-Validation"
   ]
  },
  {
   "cell_type": "code",
   "execution_count": 8,
   "metadata": {},
   "outputs": [],
   "source": [
    "import numpy as np\n",
    "from sklearn.model_selection import StratifiedKFold\n",
    "\n",
    "K = 10  # for example, 5-fold cross-validation\n",
    "skf = StratifiedKFold(n_splits=K, shuffle=True, random_state=42)\n",
    "\n",
    "# Prepare arrays of all inputs and labels from the tokenized training pool\n",
    "all_inputs = np.array(tokenized_train_val[\"input_ids\"])\n",
    "all_labels = np.array(tokenized_train_val[\"label\"])"
   ]
  },
  {
   "cell_type": "code",
   "execution_count": 9,
   "metadata": {},
   "outputs": [
    {
     "name": "stdout",
     "output_type": "stream",
     "text": [
      "The autoreload extension is already loaded. To reload it, use:\n",
      "  %reload_ext autoreload\n",
      "\n",
      "Fold 1:\n",
      "No checkpoint found at None. Start training from scratch.\n"
     ]
    },
    {
     "name": "stderr",
     "output_type": "stream",
     "text": [
      "                                                                                      \r"
     ]
    },
    {
     "name": "stdout",
     "output_type": "stream",
     "text": [
      "Epoch: 001/015 | Train: 92.96% | Validation: 93.47% | Elapsed: 0.12 min\n"
     ]
    },
    {
     "name": "stderr",
     "output_type": "stream",
     "text": [
      "                                                                                      \r"
     ]
    },
    {
     "name": "stdout",
     "output_type": "stream",
     "text": [
      "Epoch: 002/015 | Train: 92.69% | Validation: 92.99% | Elapsed: 0.23 min\n"
     ]
    },
    {
     "name": "stderr",
     "output_type": "stream",
     "text": [
      "                                                                                      \r"
     ]
    },
    {
     "name": "stdout",
     "output_type": "stream",
     "text": [
      "Epoch: 003/015 | Train: 93.04% | Validation: 93.33% | Elapsed: 0.35 min\n"
     ]
    },
    {
     "name": "stderr",
     "output_type": "stream",
     "text": [
      "                                                                                      \r"
     ]
    },
    {
     "name": "stdout",
     "output_type": "stream",
     "text": [
      "Epoch: 004/015 | Train: 93.10% | Validation: 93.40% | Elapsed: 0.47 min\n"
     ]
    },
    {
     "name": "stderr",
     "output_type": "stream",
     "text": [
      "                                                                                      \r"
     ]
    },
    {
     "name": "stdout",
     "output_type": "stream",
     "text": [
      "Epoch: 005/015 | Train: 93.24% | Validation: 93.61% | Elapsed: 0.59 min\n"
     ]
    },
    {
     "name": "stderr",
     "output_type": "stream",
     "text": [
      "                                                                                      \r"
     ]
    },
    {
     "name": "stdout",
     "output_type": "stream",
     "text": [
      "Epoch: 006/015 | Train: 93.29% | Validation: 93.68% | Elapsed: 0.70 min\n"
     ]
    },
    {
     "name": "stderr",
     "output_type": "stream",
     "text": [
      "                                                                                      \r"
     ]
    },
    {
     "name": "stdout",
     "output_type": "stream",
     "text": [
      "Epoch: 007/015 | Train: 93.35% | Validation: 93.82% | Elapsed: 0.82 min\n"
     ]
    },
    {
     "name": "stderr",
     "output_type": "stream",
     "text": [
      "                                                                                      \r"
     ]
    },
    {
     "name": "stdout",
     "output_type": "stream",
     "text": [
      "Epoch: 008/015 | Train: 93.39% | Validation: 93.89% | Elapsed: 0.93 min\n"
     ]
    },
    {
     "name": "stderr",
     "output_type": "stream",
     "text": [
      "                                                                                      \r"
     ]
    },
    {
     "name": "stdout",
     "output_type": "stream",
     "text": [
      "Epoch: 009/015 | Train: 93.45% | Validation: 93.89% | Elapsed: 1.05 min\n"
     ]
    },
    {
     "name": "stderr",
     "output_type": "stream",
     "text": [
      "                                                                                       \r"
     ]
    },
    {
     "name": "stdout",
     "output_type": "stream",
     "text": [
      "Epoch: 010/015 | Train: 93.51% | Validation: 94.03% | Elapsed: 1.17 min\n"
     ]
    },
    {
     "name": "stderr",
     "output_type": "stream",
     "text": [
      "                                                                                       \r"
     ]
    },
    {
     "name": "stdout",
     "output_type": "stream",
     "text": [
      "Epoch: 011/015 | Train: 93.57% | Validation: 94.17% | Elapsed: 1.29 min\n"
     ]
    },
    {
     "name": "stderr",
     "output_type": "stream",
     "text": [
      "                                                                                       \r"
     ]
    },
    {
     "name": "stdout",
     "output_type": "stream",
     "text": [
      "Epoch: 012/015 | Train: 93.46% | Validation: 94.10% | Elapsed: 1.42 min\n"
     ]
    },
    {
     "name": "stderr",
     "output_type": "stream",
     "text": [
      "                                                                                       \r"
     ]
    },
    {
     "name": "stdout",
     "output_type": "stream",
     "text": [
      "Epoch: 013/015 | Train: 93.48% | Validation: 93.96% | Elapsed: 1.55 min\n"
     ]
    },
    {
     "name": "stderr",
     "output_type": "stream",
     "text": [
      "                                                                                       \r"
     ]
    },
    {
     "name": "stdout",
     "output_type": "stream",
     "text": [
      "Epoch: 014/015 | Train: 94.33% | Validation: 94.51% | Elapsed: 1.69 min\n"
     ]
    },
    {
     "name": "stderr",
     "output_type": "stream",
     "text": [
      "                                                                                       \r"
     ]
    },
    {
     "name": "stdout",
     "output_type": "stream",
     "text": [
      "Epoch: 015/015 | Train: 94.29% | Validation: 94.38% | Elapsed: 1.82 min\n",
      "Total Training Time: 1.82 min\n",
      "Fold 1 final validation accuracy: 94.38%\n",
      "\n",
      "Fold 2:\n",
      "No checkpoint found at None. Start training from scratch.\n"
     ]
    },
    {
     "name": "stderr",
     "output_type": "stream",
     "text": [
      "                                                                                      \r"
     ]
    },
    {
     "name": "stdout",
     "output_type": "stream",
     "text": [
      "Epoch: 001/015 | Train: 92.43% | Validation: 93.06% | Elapsed: 0.13 min\n"
     ]
    },
    {
     "name": "stderr",
     "output_type": "stream",
     "text": [
      "                                                                                      \r"
     ]
    },
    {
     "name": "stdout",
     "output_type": "stream",
     "text": [
      "Epoch: 002/015 | Train: 92.97% | Validation: 93.47% | Elapsed: 0.26 min\n"
     ]
    },
    {
     "name": "stderr",
     "output_type": "stream",
     "text": [
      "                                                                                      \r"
     ]
    },
    {
     "name": "stdout",
     "output_type": "stream",
     "text": [
      "Epoch: 003/015 | Train: 93.21% | Validation: 93.82% | Elapsed: 0.39 min\n"
     ]
    },
    {
     "name": "stderr",
     "output_type": "stream",
     "text": [
      "                                                                                      \r"
     ]
    },
    {
     "name": "stdout",
     "output_type": "stream",
     "text": [
      "Epoch: 004/015 | Train: 93.28% | Validation: 94.10% | Elapsed: 0.53 min\n"
     ]
    },
    {
     "name": "stderr",
     "output_type": "stream",
     "text": [
      "                                                                                      \r"
     ]
    },
    {
     "name": "stdout",
     "output_type": "stream",
     "text": [
      "Epoch: 005/015 | Train: 93.32% | Validation: 93.96% | Elapsed: 0.66 min\n"
     ]
    },
    {
     "name": "stderr",
     "output_type": "stream",
     "text": [
      "                                                                                      \r"
     ]
    },
    {
     "name": "stdout",
     "output_type": "stream",
     "text": [
      "Epoch: 006/015 | Train: 93.35% | Validation: 94.10% | Elapsed: 0.79 min\n"
     ]
    },
    {
     "name": "stderr",
     "output_type": "stream",
     "text": [
      "                                                                                      \r"
     ]
    },
    {
     "name": "stdout",
     "output_type": "stream",
     "text": [
      "Epoch: 007/015 | Train: 93.89% | Validation: 94.38% | Elapsed: 0.92 min\n"
     ]
    },
    {
     "name": "stderr",
     "output_type": "stream",
     "text": [
      "                                                                                      \r"
     ]
    },
    {
     "name": "stdout",
     "output_type": "stream",
     "text": [
      "Epoch: 008/015 | Train: 93.87% | Validation: 94.51% | Elapsed: 1.05 min\n"
     ]
    },
    {
     "name": "stderr",
     "output_type": "stream",
     "text": [
      "                                                                                      \r"
     ]
    },
    {
     "name": "stdout",
     "output_type": "stream",
     "text": [
      "Epoch: 009/015 | Train: 93.45% | Validation: 94.24% | Elapsed: 1.19 min\n"
     ]
    },
    {
     "name": "stderr",
     "output_type": "stream",
     "text": [
      "                                                                                       \r"
     ]
    },
    {
     "name": "stdout",
     "output_type": "stream",
     "text": [
      "Epoch: 010/015 | Train: 94.25% | Validation: 94.72% | Elapsed: 1.32 min\n"
     ]
    },
    {
     "name": "stderr",
     "output_type": "stream",
     "text": [
      "                                                                                       \r"
     ]
    },
    {
     "name": "stdout",
     "output_type": "stream",
     "text": [
      "Epoch: 011/015 | Train: 93.94% | Validation: 94.58% | Elapsed: 1.45 min\n"
     ]
    },
    {
     "name": "stderr",
     "output_type": "stream",
     "text": [
      "                                                                                       \r"
     ]
    },
    {
     "name": "stdout",
     "output_type": "stream",
     "text": [
      "Epoch: 012/015 | Train: 93.83% | Validation: 94.31% | Elapsed: 1.58 min\n"
     ]
    },
    {
     "name": "stderr",
     "output_type": "stream",
     "text": [
      "                                                                                       \r"
     ]
    },
    {
     "name": "stdout",
     "output_type": "stream",
     "text": [
      "Epoch: 013/015 | Train: 93.74% | Validation: 94.31% | Elapsed: 1.71 min\n"
     ]
    },
    {
     "name": "stderr",
     "output_type": "stream",
     "text": [
      "                                                                                       \r"
     ]
    },
    {
     "name": "stdout",
     "output_type": "stream",
     "text": [
      "Epoch: 014/015 | Train: 93.64% | Validation: 94.31% | Elapsed: 1.85 min\n"
     ]
    },
    {
     "name": "stderr",
     "output_type": "stream",
     "text": [
      "                                                                                       \r"
     ]
    },
    {
     "name": "stdout",
     "output_type": "stream",
     "text": [
      "Epoch: 015/015 | Train: 93.67% | Validation: 94.38% | Elapsed: 1.98 min\n",
      "Total Training Time: 1.98 min\n",
      "Fold 2 final validation accuracy: 94.38%\n",
      "\n",
      "Fold 3:\n",
      "No checkpoint found at None. Start training from scratch.\n"
     ]
    },
    {
     "name": "stderr",
     "output_type": "stream",
     "text": [
      "                                                                                      \r"
     ]
    },
    {
     "name": "stdout",
     "output_type": "stream",
     "text": [
      "Epoch: 001/015 | Train: 93.03% | Validation: 93.61% | Elapsed: 0.13 min\n"
     ]
    },
    {
     "name": "stderr",
     "output_type": "stream",
     "text": [
      "                                                                                      \r"
     ]
    },
    {
     "name": "stdout",
     "output_type": "stream",
     "text": [
      "Epoch: 002/015 | Train: 93.29% | Validation: 93.68% | Elapsed: 0.26 min\n"
     ]
    },
    {
     "name": "stderr",
     "output_type": "stream",
     "text": [
      "                                                                                      \r"
     ]
    },
    {
     "name": "stdout",
     "output_type": "stream",
     "text": [
      "Epoch: 003/015 | Train: 93.35% | Validation: 93.96% | Elapsed: 0.39 min\n"
     ]
    },
    {
     "name": "stderr",
     "output_type": "stream",
     "text": [
      "                                                                                      \r"
     ]
    },
    {
     "name": "stdout",
     "output_type": "stream",
     "text": [
      "Epoch: 004/015 | Train: 93.34% | Validation: 93.68% | Elapsed: 0.53 min\n"
     ]
    },
    {
     "name": "stderr",
     "output_type": "stream",
     "text": [
      "                                                                                      \r"
     ]
    },
    {
     "name": "stdout",
     "output_type": "stream",
     "text": [
      "Epoch: 005/015 | Train: 93.53% | Validation: 94.03% | Elapsed: 0.66 min\n"
     ]
    },
    {
     "name": "stderr",
     "output_type": "stream",
     "text": [
      "                                                                                      \r"
     ]
    },
    {
     "name": "stdout",
     "output_type": "stream",
     "text": [
      "Epoch: 006/015 | Train: 93.33% | Validation: 93.89% | Elapsed: 0.79 min\n"
     ]
    },
    {
     "name": "stderr",
     "output_type": "stream",
     "text": [
      "                                                                                      \r"
     ]
    },
    {
     "name": "stdout",
     "output_type": "stream",
     "text": [
      "Epoch: 007/015 | Train: 93.63% | Validation: 93.89% | Elapsed: 0.92 min\n"
     ]
    },
    {
     "name": "stderr",
     "output_type": "stream",
     "text": [
      "                                                                                      \r"
     ]
    },
    {
     "name": "stdout",
     "output_type": "stream",
     "text": [
      "Epoch: 008/015 | Train: 94.12% | Validation: 94.24% | Elapsed: 1.05 min\n"
     ]
    },
    {
     "name": "stderr",
     "output_type": "stream",
     "text": [
      "                                                                                      \r"
     ]
    },
    {
     "name": "stdout",
     "output_type": "stream",
     "text": [
      "Epoch: 009/015 | Train: 93.50% | Validation: 93.96% | Elapsed: 1.19 min\n"
     ]
    },
    {
     "name": "stderr",
     "output_type": "stream",
     "text": [
      "                                                                                       \r"
     ]
    },
    {
     "name": "stdout",
     "output_type": "stream",
     "text": [
      "Epoch: 010/015 | Train: 93.53% | Validation: 93.82% | Elapsed: 1.32 min\n"
     ]
    },
    {
     "name": "stderr",
     "output_type": "stream",
     "text": [
      "                                                                                       \r"
     ]
    },
    {
     "name": "stdout",
     "output_type": "stream",
     "text": [
      "Epoch: 011/015 | Train: 93.83% | Validation: 94.10% | Elapsed: 1.45 min\n"
     ]
    },
    {
     "name": "stderr",
     "output_type": "stream",
     "text": [
      "                                                                                       \r"
     ]
    },
    {
     "name": "stdout",
     "output_type": "stream",
     "text": [
      "Epoch: 012/015 | Train: 93.73% | Validation: 94.10% | Elapsed: 1.58 min\n"
     ]
    },
    {
     "name": "stderr",
     "output_type": "stream",
     "text": [
      "                                                                                       \r"
     ]
    },
    {
     "name": "stdout",
     "output_type": "stream",
     "text": [
      "Epoch: 013/015 | Train: 94.43% | Validation: 94.93% | Elapsed: 1.71 min\n"
     ]
    },
    {
     "name": "stderr",
     "output_type": "stream",
     "text": [
      "                                                                                       \r"
     ]
    },
    {
     "name": "stdout",
     "output_type": "stream",
     "text": [
      "Epoch: 014/015 | Train: 94.48% | Validation: 94.72% | Elapsed: 1.84 min\n"
     ]
    },
    {
     "name": "stderr",
     "output_type": "stream",
     "text": [
      "                                                                                       \r"
     ]
    },
    {
     "name": "stdout",
     "output_type": "stream",
     "text": [
      "Epoch: 015/015 | Train: 94.44% | Validation: 94.65% | Elapsed: 1.98 min\n",
      "Total Training Time: 1.98 min\n",
      "Fold 3 final validation accuracy: 94.65%\n",
      "\n",
      "Fold 4:\n",
      "No checkpoint found at None. Start training from scratch.\n"
     ]
    },
    {
     "name": "stderr",
     "output_type": "stream",
     "text": [
      "                                                                                      \r"
     ]
    },
    {
     "name": "stdout",
     "output_type": "stream",
     "text": [
      "Epoch: 001/015 | Train: 93.07% | Validation: 92.92% | Elapsed: 0.13 min\n"
     ]
    },
    {
     "name": "stderr",
     "output_type": "stream",
     "text": [
      "                                                                                      \r"
     ]
    },
    {
     "name": "stdout",
     "output_type": "stream",
     "text": [
      "Epoch: 002/015 | Train: 93.33% | Validation: 93.06% | Elapsed: 0.26 min\n"
     ]
    },
    {
     "name": "stderr",
     "output_type": "stream",
     "text": [
      "                                                                                      \r"
     ]
    },
    {
     "name": "stdout",
     "output_type": "stream",
     "text": [
      "Epoch: 003/015 | Train: 93.49% | Validation: 93.26% | Elapsed: 0.39 min\n"
     ]
    },
    {
     "name": "stderr",
     "output_type": "stream",
     "text": [
      "                                                                                      \r"
     ]
    },
    {
     "name": "stdout",
     "output_type": "stream",
     "text": [
      "Epoch: 004/015 | Train: 93.57% | Validation: 93.19% | Elapsed: 0.53 min\n"
     ]
    },
    {
     "name": "stderr",
     "output_type": "stream",
     "text": [
      "                                                                                      \r"
     ]
    },
    {
     "name": "stdout",
     "output_type": "stream",
     "text": [
      "Epoch: 005/015 | Train: 93.70% | Validation: 93.12% | Elapsed: 0.66 min\n"
     ]
    },
    {
     "name": "stderr",
     "output_type": "stream",
     "text": [
      "                                                                                      \r"
     ]
    },
    {
     "name": "stdout",
     "output_type": "stream",
     "text": [
      "Epoch: 006/015 | Train: 93.62% | Validation: 93.19% | Elapsed: 0.79 min\n"
     ]
    },
    {
     "name": "stderr",
     "output_type": "stream",
     "text": [
      "                                                                                      \r"
     ]
    },
    {
     "name": "stdout",
     "output_type": "stream",
     "text": [
      "Epoch: 007/015 | Train: 93.78% | Validation: 93.33% | Elapsed: 0.92 min\n"
     ]
    },
    {
     "name": "stderr",
     "output_type": "stream",
     "text": [
      "                                                                                      \r"
     ]
    },
    {
     "name": "stdout",
     "output_type": "stream",
     "text": [
      "Epoch: 008/015 | Train: 93.53% | Validation: 93.12% | Elapsed: 1.05 min\n"
     ]
    },
    {
     "name": "stderr",
     "output_type": "stream",
     "text": [
      "                                                                                      \r"
     ]
    },
    {
     "name": "stdout",
     "output_type": "stream",
     "text": [
      "Epoch: 009/015 | Train: 93.70% | Validation: 93.26% | Elapsed: 1.19 min\n"
     ]
    },
    {
     "name": "stderr",
     "output_type": "stream",
     "text": [
      "                                                                                       \r"
     ]
    },
    {
     "name": "stdout",
     "output_type": "stream",
     "text": [
      "Epoch: 010/015 | Train: 93.63% | Validation: 93.12% | Elapsed: 1.32 min\n"
     ]
    },
    {
     "name": "stderr",
     "output_type": "stream",
     "text": [
      "                                                                                       \r"
     ]
    },
    {
     "name": "stdout",
     "output_type": "stream",
     "text": [
      "Epoch: 011/015 | Train: 94.44% | Validation: 94.17% | Elapsed: 1.45 min\n"
     ]
    },
    {
     "name": "stderr",
     "output_type": "stream",
     "text": [
      "                                                                                       \r"
     ]
    },
    {
     "name": "stdout",
     "output_type": "stream",
     "text": [
      "Epoch: 012/015 | Train: 94.01% | Validation: 93.54% | Elapsed: 1.58 min\n"
     ]
    },
    {
     "name": "stderr",
     "output_type": "stream",
     "text": [
      "                                                                                       \r"
     ]
    },
    {
     "name": "stdout",
     "output_type": "stream",
     "text": [
      "Epoch: 013/015 | Train: 94.09% | Validation: 93.54% | Elapsed: 1.71 min\n"
     ]
    },
    {
     "name": "stderr",
     "output_type": "stream",
     "text": [
      "                                                                                       \r"
     ]
    },
    {
     "name": "stdout",
     "output_type": "stream",
     "text": [
      "Epoch: 014/015 | Train: 93.96% | Validation: 93.54% | Elapsed: 1.85 min\n"
     ]
    },
    {
     "name": "stderr",
     "output_type": "stream",
     "text": [
      "                                                                                       \r"
     ]
    },
    {
     "name": "stdout",
     "output_type": "stream",
     "text": [
      "Epoch: 015/015 | Train: 94.48% | Validation: 94.31% | Elapsed: 1.98 min\n",
      "Total Training Time: 1.98 min\n",
      "Fold 4 final validation accuracy: 94.31%\n",
      "\n",
      "Fold 5:\n",
      "No checkpoint found at None. Start training from scratch.\n"
     ]
    },
    {
     "name": "stderr",
     "output_type": "stream",
     "text": [
      "                                                                                      \r"
     ]
    },
    {
     "name": "stdout",
     "output_type": "stream",
     "text": [
      "Epoch: 001/015 | Train: 92.30% | Validation: 91.60% | Elapsed: 0.13 min\n"
     ]
    },
    {
     "name": "stderr",
     "output_type": "stream",
     "text": [
      "                                                                                      \r"
     ]
    },
    {
     "name": "stdout",
     "output_type": "stream",
     "text": [
      "Epoch: 002/015 | Train: 93.35% | Validation: 93.19% | Elapsed: 0.26 min\n"
     ]
    },
    {
     "name": "stderr",
     "output_type": "stream",
     "text": [
      "                                                                                      \r"
     ]
    },
    {
     "name": "stdout",
     "output_type": "stream",
     "text": [
      "Epoch: 003/015 | Train: 93.37% | Validation: 93.26% | Elapsed: 0.40 min\n"
     ]
    },
    {
     "name": "stderr",
     "output_type": "stream",
     "text": [
      "                                                                                      \r"
     ]
    },
    {
     "name": "stdout",
     "output_type": "stream",
     "text": [
      "Epoch: 004/015 | Train: 93.30% | Validation: 92.92% | Elapsed: 0.53 min\n"
     ]
    },
    {
     "name": "stderr",
     "output_type": "stream",
     "text": [
      "                                                                                      \r"
     ]
    },
    {
     "name": "stdout",
     "output_type": "stream",
     "text": [
      "Epoch: 005/015 | Train: 93.27% | Validation: 93.19% | Elapsed: 0.66 min\n"
     ]
    },
    {
     "name": "stderr",
     "output_type": "stream",
     "text": [
      "                                                                                      \r"
     ]
    },
    {
     "name": "stdout",
     "output_type": "stream",
     "text": [
      "Epoch: 006/015 | Train: 93.40% | Validation: 93.06% | Elapsed: 0.79 min\n"
     ]
    },
    {
     "name": "stderr",
     "output_type": "stream",
     "text": [
      "                                                                                      \r"
     ]
    },
    {
     "name": "stdout",
     "output_type": "stream",
     "text": [
      "Epoch: 007/015 | Train: 93.44% | Validation: 93.12% | Elapsed: 0.92 min\n"
     ]
    },
    {
     "name": "stderr",
     "output_type": "stream",
     "text": [
      "                                                                                      \r"
     ]
    },
    {
     "name": "stdout",
     "output_type": "stream",
     "text": [
      "Epoch: 008/015 | Train: 94.12% | Validation: 93.68% | Elapsed: 1.05 min\n"
     ]
    },
    {
     "name": "stderr",
     "output_type": "stream",
     "text": [
      "                                                                                      \r"
     ]
    },
    {
     "name": "stdout",
     "output_type": "stream",
     "text": [
      "Epoch: 009/015 | Train: 93.67% | Validation: 93.47% | Elapsed: 1.19 min\n"
     ]
    },
    {
     "name": "stderr",
     "output_type": "stream",
     "text": [
      "                                                                                       \r"
     ]
    },
    {
     "name": "stdout",
     "output_type": "stream",
     "text": [
      "Epoch: 010/015 | Train: 94.35% | Validation: 94.31% | Elapsed: 1.32 min\n"
     ]
    },
    {
     "name": "stderr",
     "output_type": "stream",
     "text": [
      "                                                                                       \r"
     ]
    },
    {
     "name": "stdout",
     "output_type": "stream",
     "text": [
      "Epoch: 011/015 | Train: 93.70% | Validation: 93.61% | Elapsed: 1.45 min\n"
     ]
    },
    {
     "name": "stderr",
     "output_type": "stream",
     "text": [
      "                                                                                       \r"
     ]
    },
    {
     "name": "stdout",
     "output_type": "stream",
     "text": [
      "Epoch: 012/015 | Train: 94.44% | Validation: 94.31% | Elapsed: 1.58 min\n"
     ]
    },
    {
     "name": "stderr",
     "output_type": "stream",
     "text": [
      "                                                                                       \r"
     ]
    },
    {
     "name": "stdout",
     "output_type": "stream",
     "text": [
      "Epoch: 013/015 | Train: 94.14% | Validation: 93.96% | Elapsed: 1.71 min\n"
     ]
    },
    {
     "name": "stderr",
     "output_type": "stream",
     "text": [
      "                                                                                       \r"
     ]
    },
    {
     "name": "stdout",
     "output_type": "stream",
     "text": [
      "Epoch: 014/015 | Train: 94.58% | Validation: 94.03% | Elapsed: 1.85 min\n"
     ]
    },
    {
     "name": "stderr",
     "output_type": "stream",
     "text": [
      "                                                                                       \r"
     ]
    },
    {
     "name": "stdout",
     "output_type": "stream",
     "text": [
      "Epoch: 015/015 | Train: 94.57% | Validation: 94.44% | Elapsed: 1.98 min\n",
      "Total Training Time: 1.98 min\n",
      "Fold 5 final validation accuracy: 94.44%\n",
      "\n",
      "Fold 6:\n",
      "No checkpoint found at None. Start training from scratch.\n"
     ]
    },
    {
     "name": "stderr",
     "output_type": "stream",
     "text": [
      "                                                                                      \r"
     ]
    },
    {
     "name": "stdout",
     "output_type": "stream",
     "text": [
      "Epoch: 001/015 | Train: 92.88% | Validation: 93.26% | Elapsed: 0.13 min\n"
     ]
    },
    {
     "name": "stderr",
     "output_type": "stream",
     "text": [
      "                                                                                      \r"
     ]
    },
    {
     "name": "stdout",
     "output_type": "stream",
     "text": [
      "Epoch: 002/015 | Train: 93.16% | Validation: 93.54% | Elapsed: 0.26 min\n"
     ]
    },
    {
     "name": "stderr",
     "output_type": "stream",
     "text": [
      "                                                                                      \r"
     ]
    },
    {
     "name": "stdout",
     "output_type": "stream",
     "text": [
      "Epoch: 003/015 | Train: 93.19% | Validation: 93.75% | Elapsed: 0.40 min\n"
     ]
    },
    {
     "name": "stderr",
     "output_type": "stream",
     "text": [
      "                                                                                      \r"
     ]
    },
    {
     "name": "stdout",
     "output_type": "stream",
     "text": [
      "Epoch: 004/015 | Train: 93.29% | Validation: 93.75% | Elapsed: 0.53 min\n"
     ]
    },
    {
     "name": "stderr",
     "output_type": "stream",
     "text": [
      "                                                                                      \r"
     ]
    },
    {
     "name": "stdout",
     "output_type": "stream",
     "text": [
      "Epoch: 005/015 | Train: 93.33% | Validation: 93.68% | Elapsed: 0.66 min\n"
     ]
    },
    {
     "name": "stderr",
     "output_type": "stream",
     "text": [
      "                                                                                      \r"
     ]
    },
    {
     "name": "stdout",
     "output_type": "stream",
     "text": [
      "Epoch: 006/015 | Train: 93.51% | Validation: 94.10% | Elapsed: 0.79 min\n"
     ]
    },
    {
     "name": "stderr",
     "output_type": "stream",
     "text": [
      "                                                                                      \r"
     ]
    },
    {
     "name": "stdout",
     "output_type": "stream",
     "text": [
      "Epoch: 007/015 | Train: 93.53% | Validation: 93.96% | Elapsed: 0.92 min\n"
     ]
    },
    {
     "name": "stderr",
     "output_type": "stream",
     "text": [
      "                                                                                      \r"
     ]
    },
    {
     "name": "stdout",
     "output_type": "stream",
     "text": [
      "Epoch: 008/015 | Train: 93.63% | Validation: 94.10% | Elapsed: 1.05 min\n"
     ]
    },
    {
     "name": "stderr",
     "output_type": "stream",
     "text": [
      "                                                                                      \r"
     ]
    },
    {
     "name": "stdout",
     "output_type": "stream",
     "text": [
      "Epoch: 009/015 | Train: 93.93% | Validation: 94.17% | Elapsed: 1.19 min\n"
     ]
    },
    {
     "name": "stderr",
     "output_type": "stream",
     "text": [
      "                                                                                       \r"
     ]
    },
    {
     "name": "stdout",
     "output_type": "stream",
     "text": [
      "Epoch: 010/015 | Train: 93.72% | Validation: 93.96% | Elapsed: 1.32 min\n"
     ]
    },
    {
     "name": "stderr",
     "output_type": "stream",
     "text": [
      "                                                                                       \r"
     ]
    },
    {
     "name": "stdout",
     "output_type": "stream",
     "text": [
      "Epoch: 011/015 | Train: 94.31% | Validation: 94.86% | Elapsed: 1.45 min\n"
     ]
    },
    {
     "name": "stderr",
     "output_type": "stream",
     "text": [
      "                                                                                       \r"
     ]
    },
    {
     "name": "stdout",
     "output_type": "stream",
     "text": [
      "Epoch: 012/015 | Train: 93.58% | Validation: 93.82% | Elapsed: 1.58 min\n"
     ]
    },
    {
     "name": "stderr",
     "output_type": "stream",
     "text": [
      "                                                                                       \r"
     ]
    },
    {
     "name": "stdout",
     "output_type": "stream",
     "text": [
      "Epoch: 013/015 | Train: 93.94% | Validation: 94.24% | Elapsed: 1.71 min\n"
     ]
    },
    {
     "name": "stderr",
     "output_type": "stream",
     "text": [
      "                                                                                       \r"
     ]
    },
    {
     "name": "stdout",
     "output_type": "stream",
     "text": [
      "Epoch: 014/015 | Train: 94.45% | Validation: 95.07% | Elapsed: 1.84 min\n"
     ]
    },
    {
     "name": "stderr",
     "output_type": "stream",
     "text": [
      "                                                                                       \r"
     ]
    },
    {
     "name": "stdout",
     "output_type": "stream",
     "text": [
      "Epoch: 015/015 | Train: 94.54% | Validation: 95.14% | Elapsed: 1.98 min\n",
      "Total Training Time: 1.98 min\n",
      "Fold 6 final validation accuracy: 95.14%\n",
      "\n",
      "Fold 7:\n",
      "No checkpoint found at None. Start training from scratch.\n"
     ]
    },
    {
     "name": "stderr",
     "output_type": "stream",
     "text": [
      "                                                                                      \r"
     ]
    },
    {
     "name": "stdout",
     "output_type": "stream",
     "text": [
      "Epoch: 001/015 | Train: 93.02% | Validation: 92.22% | Elapsed: 0.13 min\n"
     ]
    },
    {
     "name": "stderr",
     "output_type": "stream",
     "text": [
      "                                                                                      \r"
     ]
    },
    {
     "name": "stdout",
     "output_type": "stream",
     "text": [
      "Epoch: 002/015 | Train: 92.60% | Validation: 90.56% | Elapsed: 0.26 min\n"
     ]
    },
    {
     "name": "stderr",
     "output_type": "stream",
     "text": [
      "                                                                                      \r"
     ]
    },
    {
     "name": "stdout",
     "output_type": "stream",
     "text": [
      "Epoch: 003/015 | Train: 93.31% | Validation: 92.57% | Elapsed: 0.40 min\n"
     ]
    },
    {
     "name": "stderr",
     "output_type": "stream",
     "text": [
      "                                                                                      \r"
     ]
    },
    {
     "name": "stdout",
     "output_type": "stream",
     "text": [
      "Epoch: 004/015 | Train: 93.39% | Validation: 92.43% | Elapsed: 0.53 min\n"
     ]
    },
    {
     "name": "stderr",
     "output_type": "stream",
     "text": [
      "                                                                                      \r"
     ]
    },
    {
     "name": "stdout",
     "output_type": "stream",
     "text": [
      "Epoch: 005/015 | Train: 93.39% | Validation: 92.50% | Elapsed: 0.66 min\n"
     ]
    },
    {
     "name": "stderr",
     "output_type": "stream",
     "text": [
      "                                                                                      \r"
     ]
    },
    {
     "name": "stdout",
     "output_type": "stream",
     "text": [
      "Epoch: 006/015 | Train: 94.09% | Validation: 93.19% | Elapsed: 0.79 min\n"
     ]
    },
    {
     "name": "stderr",
     "output_type": "stream",
     "text": [
      "                                                                                      \r"
     ]
    },
    {
     "name": "stdout",
     "output_type": "stream",
     "text": [
      "Epoch: 007/015 | Train: 93.50% | Validation: 92.15% | Elapsed: 0.92 min\n"
     ]
    },
    {
     "name": "stderr",
     "output_type": "stream",
     "text": [
      "                                                                                      \r"
     ]
    },
    {
     "name": "stdout",
     "output_type": "stream",
     "text": [
      "Epoch: 008/015 | Train: 93.58% | Validation: 92.71% | Elapsed: 1.06 min\n"
     ]
    },
    {
     "name": "stderr",
     "output_type": "stream",
     "text": [
      "                                                                                      \r"
     ]
    },
    {
     "name": "stdout",
     "output_type": "stream",
     "text": [
      "Epoch: 009/015 | Train: 94.15% | Validation: 93.33% | Elapsed: 1.19 min\n"
     ]
    },
    {
     "name": "stderr",
     "output_type": "stream",
     "text": [
      "                                                                                       \r"
     ]
    },
    {
     "name": "stdout",
     "output_type": "stream",
     "text": [
      "Epoch: 010/015 | Train: 94.38% | Validation: 93.68% | Elapsed: 1.32 min\n"
     ]
    },
    {
     "name": "stderr",
     "output_type": "stream",
     "text": [
      "                                                                                       \r"
     ]
    },
    {
     "name": "stdout",
     "output_type": "stream",
     "text": [
      "Epoch: 011/015 | Train: 93.90% | Validation: 92.92% | Elapsed: 1.45 min\n"
     ]
    },
    {
     "name": "stderr",
     "output_type": "stream",
     "text": [
      "                                                                                       \r"
     ]
    },
    {
     "name": "stdout",
     "output_type": "stream",
     "text": [
      "Epoch: 012/015 | Train: 94.30% | Validation: 93.54% | Elapsed: 1.58 min\n"
     ]
    },
    {
     "name": "stderr",
     "output_type": "stream",
     "text": [
      "                                                                                       \r"
     ]
    },
    {
     "name": "stdout",
     "output_type": "stream",
     "text": [
      "Epoch: 013/015 | Train: 94.38% | Validation: 93.68% | Elapsed: 1.71 min\n"
     ]
    },
    {
     "name": "stderr",
     "output_type": "stream",
     "text": [
      "                                                                                       \r"
     ]
    },
    {
     "name": "stdout",
     "output_type": "stream",
     "text": [
      "Epoch: 014/015 | Train: 93.87% | Validation: 92.99% | Elapsed: 1.85 min\n"
     ]
    },
    {
     "name": "stderr",
     "output_type": "stream",
     "text": [
      "                                                                                       \r"
     ]
    },
    {
     "name": "stdout",
     "output_type": "stream",
     "text": [
      "Epoch: 015/015 | Train: 94.31% | Validation: 93.82% | Elapsed: 1.98 min\n",
      "Total Training Time: 1.98 min\n",
      "Fold 7 final validation accuracy: 93.82%\n",
      "\n",
      "Fold 8:\n",
      "No checkpoint found at None. Start training from scratch.\n"
     ]
    },
    {
     "name": "stderr",
     "output_type": "stream",
     "text": [
      "                                                                                      \r"
     ]
    },
    {
     "name": "stdout",
     "output_type": "stream",
     "text": [
      "Epoch: 001/015 | Train: 92.89% | Validation: 92.78% | Elapsed: 0.13 min\n"
     ]
    },
    {
     "name": "stderr",
     "output_type": "stream",
     "text": [
      "                                                                                      \r"
     ]
    },
    {
     "name": "stdout",
     "output_type": "stream",
     "text": [
      "Epoch: 002/015 | Train: 92.95% | Validation: 92.71% | Elapsed: 0.26 min\n"
     ]
    },
    {
     "name": "stderr",
     "output_type": "stream",
     "text": [
      "                                                                                      \r"
     ]
    },
    {
     "name": "stdout",
     "output_type": "stream",
     "text": [
      "Epoch: 003/015 | Train: 93.31% | Validation: 92.85% | Elapsed: 0.39 min\n"
     ]
    },
    {
     "name": "stderr",
     "output_type": "stream",
     "text": [
      "                                                                                      \r"
     ]
    },
    {
     "name": "stdout",
     "output_type": "stream",
     "text": [
      "Epoch: 004/015 | Train: 93.34% | Validation: 92.92% | Elapsed: 0.53 min\n"
     ]
    },
    {
     "name": "stderr",
     "output_type": "stream",
     "text": [
      "                                                                                      \r"
     ]
    },
    {
     "name": "stdout",
     "output_type": "stream",
     "text": [
      "Epoch: 005/015 | Train: 93.45% | Validation: 92.92% | Elapsed: 0.66 min\n"
     ]
    },
    {
     "name": "stderr",
     "output_type": "stream",
     "text": [
      "                                                                                      \r"
     ]
    },
    {
     "name": "stdout",
     "output_type": "stream",
     "text": [
      "Epoch: 006/015 | Train: 93.45% | Validation: 92.92% | Elapsed: 0.79 min\n"
     ]
    },
    {
     "name": "stderr",
     "output_type": "stream",
     "text": [
      "                                                                                      \r"
     ]
    },
    {
     "name": "stdout",
     "output_type": "stream",
     "text": [
      "Epoch: 007/015 | Train: 93.56% | Validation: 92.92% | Elapsed: 0.92 min\n"
     ]
    },
    {
     "name": "stderr",
     "output_type": "stream",
     "text": [
      "                                                                                      \r"
     ]
    },
    {
     "name": "stdout",
     "output_type": "stream",
     "text": [
      "Epoch: 008/015 | Train: 93.50% | Validation: 92.92% | Elapsed: 1.05 min\n"
     ]
    },
    {
     "name": "stderr",
     "output_type": "stream",
     "text": [
      "                                                                                      \r"
     ]
    },
    {
     "name": "stdout",
     "output_type": "stream",
     "text": [
      "Epoch: 009/015 | Train: 93.66% | Validation: 92.92% | Elapsed: 1.18 min\n"
     ]
    },
    {
     "name": "stderr",
     "output_type": "stream",
     "text": [
      "                                                                                       \r"
     ]
    },
    {
     "name": "stdout",
     "output_type": "stream",
     "text": [
      "Epoch: 010/015 | Train: 93.56% | Validation: 92.92% | Elapsed: 1.31 min\n"
     ]
    },
    {
     "name": "stderr",
     "output_type": "stream",
     "text": [
      "                                                                                       \r"
     ]
    },
    {
     "name": "stdout",
     "output_type": "stream",
     "text": [
      "Epoch: 011/015 | Train: 93.63% | Validation: 93.06% | Elapsed: 1.45 min\n"
     ]
    },
    {
     "name": "stderr",
     "output_type": "stream",
     "text": [
      "                                                                                       \r"
     ]
    },
    {
     "name": "stdout",
     "output_type": "stream",
     "text": [
      "Epoch: 012/015 | Train: 93.67% | Validation: 93.12% | Elapsed: 1.58 min\n"
     ]
    },
    {
     "name": "stderr",
     "output_type": "stream",
     "text": [
      "                                                                                       \r"
     ]
    },
    {
     "name": "stdout",
     "output_type": "stream",
     "text": [
      "Epoch: 013/015 | Train: 93.75% | Validation: 93.19% | Elapsed: 1.71 min\n"
     ]
    },
    {
     "name": "stderr",
     "output_type": "stream",
     "text": [
      "                                                                                       \r"
     ]
    },
    {
     "name": "stdout",
     "output_type": "stream",
     "text": [
      "Epoch: 014/015 | Train: 94.34% | Validation: 93.68% | Elapsed: 1.84 min\n"
     ]
    },
    {
     "name": "stderr",
     "output_type": "stream",
     "text": [
      "                                                                                       \r"
     ]
    },
    {
     "name": "stdout",
     "output_type": "stream",
     "text": [
      "Epoch: 015/015 | Train: 93.73% | Validation: 93.26% | Elapsed: 1.97 min\n",
      "Total Training Time: 1.97 min\n",
      "Fold 8 final validation accuracy: 93.26%\n",
      "\n",
      "Fold 9:\n",
      "No checkpoint found at None. Start training from scratch.\n"
     ]
    },
    {
     "name": "stderr",
     "output_type": "stream",
     "text": [
      "                                                                                      \r"
     ]
    },
    {
     "name": "stdout",
     "output_type": "stream",
     "text": [
      "Epoch: 001/015 | Train: 93.14% | Validation: 92.71% | Elapsed: 0.13 min\n"
     ]
    },
    {
     "name": "stderr",
     "output_type": "stream",
     "text": [
      "                                                                                      \r"
     ]
    },
    {
     "name": "stdout",
     "output_type": "stream",
     "text": [
      "Epoch: 002/015 | Train: 93.36% | Validation: 93.06% | Elapsed: 0.26 min\n"
     ]
    },
    {
     "name": "stderr",
     "output_type": "stream",
     "text": [
      "                                                                                      \r"
     ]
    },
    {
     "name": "stdout",
     "output_type": "stream",
     "text": [
      "Epoch: 003/015 | Train: 93.36% | Validation: 93.06% | Elapsed: 0.40 min\n"
     ]
    },
    {
     "name": "stderr",
     "output_type": "stream",
     "text": [
      "                                                                                      \r"
     ]
    },
    {
     "name": "stdout",
     "output_type": "stream",
     "text": [
      "Epoch: 004/015 | Train: 93.31% | Validation: 92.78% | Elapsed: 0.53 min\n"
     ]
    },
    {
     "name": "stderr",
     "output_type": "stream",
     "text": [
      "                                                                                      \r"
     ]
    },
    {
     "name": "stdout",
     "output_type": "stream",
     "text": [
      "Epoch: 005/015 | Train: 93.50% | Validation: 93.19% | Elapsed: 0.66 min\n"
     ]
    },
    {
     "name": "stderr",
     "output_type": "stream",
     "text": [
      "                                                                                      \r"
     ]
    },
    {
     "name": "stdout",
     "output_type": "stream",
     "text": [
      "Epoch: 006/015 | Train: 93.89% | Validation: 93.68% | Elapsed: 0.79 min\n"
     ]
    },
    {
     "name": "stderr",
     "output_type": "stream",
     "text": [
      "                                                                                      \r"
     ]
    },
    {
     "name": "stdout",
     "output_type": "stream",
     "text": [
      "Epoch: 007/015 | Train: 93.61% | Validation: 93.26% | Elapsed: 0.93 min\n"
     ]
    },
    {
     "name": "stderr",
     "output_type": "stream",
     "text": [
      "                                                                                      \r"
     ]
    },
    {
     "name": "stdout",
     "output_type": "stream",
     "text": [
      "Epoch: 008/015 | Train: 93.50% | Validation: 93.19% | Elapsed: 1.06 min\n"
     ]
    },
    {
     "name": "stderr",
     "output_type": "stream",
     "text": [
      "                                                                                      \r"
     ]
    },
    {
     "name": "stdout",
     "output_type": "stream",
     "text": [
      "Epoch: 009/015 | Train: 94.14% | Validation: 93.82% | Elapsed: 1.19 min\n"
     ]
    },
    {
     "name": "stderr",
     "output_type": "stream",
     "text": [
      "                                                                                       \r"
     ]
    },
    {
     "name": "stdout",
     "output_type": "stream",
     "text": [
      "Epoch: 010/015 | Train: 93.53% | Validation: 93.12% | Elapsed: 1.32 min\n"
     ]
    },
    {
     "name": "stderr",
     "output_type": "stream",
     "text": [
      "                                                                                       \r"
     ]
    },
    {
     "name": "stdout",
     "output_type": "stream",
     "text": [
      "Epoch: 011/015 | Train: 94.31% | Validation: 93.96% | Elapsed: 1.45 min\n"
     ]
    },
    {
     "name": "stderr",
     "output_type": "stream",
     "text": [
      "                                                                                       \r"
     ]
    },
    {
     "name": "stdout",
     "output_type": "stream",
     "text": [
      "Epoch: 012/015 | Train: 93.76% | Validation: 93.47% | Elapsed: 1.58 min\n"
     ]
    },
    {
     "name": "stderr",
     "output_type": "stream",
     "text": [
      "                                                                                       \r"
     ]
    },
    {
     "name": "stdout",
     "output_type": "stream",
     "text": [
      "Epoch: 013/015 | Train: 93.73% | Validation: 93.40% | Elapsed: 1.71 min\n"
     ]
    },
    {
     "name": "stderr",
     "output_type": "stream",
     "text": [
      "                                                                                       \r"
     ]
    },
    {
     "name": "stdout",
     "output_type": "stream",
     "text": [
      "Epoch: 014/015 | Train: 93.68% | Validation: 93.47% | Elapsed: 1.85 min\n"
     ]
    },
    {
     "name": "stderr",
     "output_type": "stream",
     "text": [
      "                                                                                       \r"
     ]
    },
    {
     "name": "stdout",
     "output_type": "stream",
     "text": [
      "Epoch: 015/015 | Train: 94.35% | Validation: 93.82% | Elapsed: 1.98 min\n",
      "Total Training Time: 1.98 min\n",
      "Fold 9 final validation accuracy: 93.82%\n",
      "\n",
      "Fold 10:\n",
      "No checkpoint found at None. Start training from scratch.\n"
     ]
    },
    {
     "name": "stderr",
     "output_type": "stream",
     "text": [
      "                                                                                      \r"
     ]
    },
    {
     "name": "stdout",
     "output_type": "stream",
     "text": [
      "Epoch: 001/015 | Train: 92.98% | Validation: 92.29% | Elapsed: 0.13 min\n"
     ]
    },
    {
     "name": "stderr",
     "output_type": "stream",
     "text": [
      "                                                                                      \r"
     ]
    },
    {
     "name": "stdout",
     "output_type": "stream",
     "text": [
      "Epoch: 002/015 | Train: 93.15% | Validation: 92.64% | Elapsed: 0.26 min\n"
     ]
    },
    {
     "name": "stderr",
     "output_type": "stream",
     "text": [
      "                                                                                      \r"
     ]
    },
    {
     "name": "stdout",
     "output_type": "stream",
     "text": [
      "Epoch: 003/015 | Train: 93.26% | Validation: 92.57% | Elapsed: 0.40 min\n"
     ]
    },
    {
     "name": "stderr",
     "output_type": "stream",
     "text": [
      "                                                                                      \r"
     ]
    },
    {
     "name": "stdout",
     "output_type": "stream",
     "text": [
      "Epoch: 004/015 | Train: 93.23% | Validation: 92.78% | Elapsed: 0.53 min\n"
     ]
    },
    {
     "name": "stderr",
     "output_type": "stream",
     "text": [
      "                                                                                      \r"
     ]
    },
    {
     "name": "stdout",
     "output_type": "stream",
     "text": [
      "Epoch: 005/015 | Train: 93.27% | Validation: 92.92% | Elapsed: 0.66 min\n"
     ]
    },
    {
     "name": "stderr",
     "output_type": "stream",
     "text": [
      "                                                                                      \r"
     ]
    },
    {
     "name": "stdout",
     "output_type": "stream",
     "text": [
      "Epoch: 006/015 | Train: 93.44% | Validation: 92.99% | Elapsed: 0.79 min\n"
     ]
    },
    {
     "name": "stderr",
     "output_type": "stream",
     "text": [
      "                                                                                      \r"
     ]
    },
    {
     "name": "stdout",
     "output_type": "stream",
     "text": [
      "Epoch: 007/015 | Train: 93.46% | Validation: 93.12% | Elapsed: 0.92 min\n"
     ]
    },
    {
     "name": "stderr",
     "output_type": "stream",
     "text": [
      "                                                                                      \r"
     ]
    },
    {
     "name": "stdout",
     "output_type": "stream",
     "text": [
      "Epoch: 008/015 | Train: 94.12% | Validation: 93.96% | Elapsed: 1.05 min\n"
     ]
    },
    {
     "name": "stderr",
     "output_type": "stream",
     "text": [
      "                                                                                      \r"
     ]
    },
    {
     "name": "stdout",
     "output_type": "stream",
     "text": [
      "Epoch: 009/015 | Train: 93.75% | Validation: 93.47% | Elapsed: 1.19 min\n"
     ]
    },
    {
     "name": "stderr",
     "output_type": "stream",
     "text": [
      "                                                                                       \r"
     ]
    },
    {
     "name": "stdout",
     "output_type": "stream",
     "text": [
      "Epoch: 010/015 | Train: 94.36% | Validation: 94.10% | Elapsed: 1.32 min\n"
     ]
    },
    {
     "name": "stderr",
     "output_type": "stream",
     "text": [
      "                                                                                       \r"
     ]
    },
    {
     "name": "stdout",
     "output_type": "stream",
     "text": [
      "Epoch: 011/015 | Train: 94.54% | Validation: 94.17% | Elapsed: 1.45 min\n"
     ]
    },
    {
     "name": "stderr",
     "output_type": "stream",
     "text": [
      "                                                                                       \r"
     ]
    },
    {
     "name": "stdout",
     "output_type": "stream",
     "text": [
      "Epoch: 012/015 | Train: 93.56% | Validation: 93.26% | Elapsed: 1.58 min\n"
     ]
    },
    {
     "name": "stderr",
     "output_type": "stream",
     "text": [
      "                                                                                       \r"
     ]
    },
    {
     "name": "stdout",
     "output_type": "stream",
     "text": [
      "Epoch: 013/015 | Train: 93.97% | Validation: 93.54% | Elapsed: 1.71 min\n"
     ]
    },
    {
     "name": "stderr",
     "output_type": "stream",
     "text": [
      "                                                                                       \r"
     ]
    },
    {
     "name": "stdout",
     "output_type": "stream",
     "text": [
      "Epoch: 014/015 | Train: 94.01% | Validation: 93.75% | Elapsed: 1.85 min\n"
     ]
    },
    {
     "name": "stderr",
     "output_type": "stream",
     "text": [
      "                                                                                       "
     ]
    },
    {
     "name": "stdout",
     "output_type": "stream",
     "text": [
      "Epoch: 015/015 | Train: 94.58% | Validation: 93.89% | Elapsed: 1.98 min\n",
      "Total Training Time: 1.98 min\n",
      "Fold 10 final validation accuracy: 93.89%\n"
     ]
    },
    {
     "name": "stderr",
     "output_type": "stream",
     "text": [
      "\r"
     ]
    }
   ],
   "source": [
    "%load_ext autoreload\n",
    "%autoreload 2\n",
    "from utils.train import train_model\n",
    "from torch.utils.data import DataLoader, TensorDataset\n",
    "from utils.plot import plot_accuracy, plot_training_loss\n",
    "from torch import optim\n",
    "from models.mlp_nlp import MLP_NLP\n",
    "\n",
    "fold_accuracies = []  # to collect validation accuracies from each fold\n",
    "\n",
    "for fold, (train_idx, val_idx) in enumerate(skf.split(all_inputs, all_labels), start=1):\n",
    "    print(f\"\\nFold {fold}:\")\n",
    "    # Split the data into training and validation sets for this fold\n",
    "    X_train_fold = all_inputs[train_idx]\n",
    "    y_train_fold = all_labels[train_idx]\n",
    "    X_val_fold   = all_inputs[val_idx]\n",
    "    y_val_fold   = all_labels[val_idx]\n",
    "    \n",
    "    # Create TensorDatasets for this fold\n",
    "    train_data = TensorDataset(torch.tensor(X_train_fold), torch.tensor(y_train_fold))\n",
    "    val_data   = TensorDataset(torch.tensor(X_val_fold),   torch.tensor(y_val_fold))\n",
    "    \n",
    "    # DataLoaders for this fold\n",
    "    train_loader = DataLoader(train_data, batch_size=BATCH_SIZE, shuffle=True)\n",
    "    val_loader   = DataLoader(val_data, batch_size=BATCH_SIZE, shuffle=False)\n",
    "    \n",
    "    # Initialize a fresh model and optimizer for each fold\n",
    "    model = MLP_NLP(vocab_size=VOCABULARY_SIZE, \n",
    "                    embed_dim=EMBEDDING_DIM, \n",
    "                    num_class=NUM_CLASSES,\n",
    "                    hidden_size1=513, hidden_size2=256, hidden_size3=128, \n",
    "                    dropout=DROPOUT).to(DEVICE)\n",
    "    optimizer = optim.Adam(model.parameters(), lr=LEARNING_RATE)\n",
    "    \n",
    "    # Train the model on this fold's data\n",
    "    _, train_acc_list, val_acc_list = train_model(\n",
    "        model=model,\n",
    "        num_epochs=NUM_EPOCHS,\n",
    "        train_loader=train_loader,\n",
    "        valid_loader=val_loader,\n",
    "        test_loader=None,             # No test evaluation during CV folds\n",
    "        optimizer=optimizer,\n",
    "        device=DEVICE,\n",
    "        scheduler=None,               # (Optional: use a scheduler if desired)\n",
    "        checkpoint_prefix=None,       # Disable checkpointing for CV\n",
    "        logging_interval=100\n",
    "    )\n",
    "    # Record this fold's final validation accuracy\n",
    "    fold_final_acc = val_acc_list[-1]\n",
    "    fold_accuracies.append(fold_final_acc)\n",
    "    print(f\"Fold {fold} final validation accuracy: {fold_final_acc:.2f}%\")\n"
   ]
  },
  {
   "cell_type": "code",
   "execution_count": 10,
   "metadata": {},
   "outputs": [
    {
     "name": "stdout",
     "output_type": "stream",
     "text": [
      "\n",
      "10-Fold CV Mean Validation Accuracy: 94.21%\n",
      "10-Fold CV Std. Dev.: 0.50%\n"
     ]
    }
   ],
   "source": [
    "# Calculate mean and std of validation accuracies across folds\n",
    "mean_val_accuracy = np.mean(fold_accuracies)\n",
    "std_val_accuracy  = np.std(fold_accuracies)\n",
    "print(f\"\\n{K}-Fold CV Mean Validation Accuracy: {mean_val_accuracy:.2f}%\")\n",
    "print(f\"{K}-Fold CV Std. Dev.: {std_val_accuracy:.2f}%\")\n"
   ]
  },
  {
   "cell_type": "markdown",
   "metadata": {},
   "source": [
    "### Final Modal Training and Evaluation"
   ]
  },
  {
   "cell_type": "code",
   "execution_count": 11,
   "metadata": {},
   "outputs": [
    {
     "name": "stdout",
     "output_type": "stream",
     "text": [
      "Full training set size: 14400\n",
      "Test set size: 1600\n"
     ]
    }
   ],
   "source": [
    "from torch.utils.data import TensorDataset, DataLoader, RandomSampler, SequentialSampler\n",
    "from tqdm import tqdm\n",
    "import torch\n",
    "\n",
    "\n",
    "# Prepare arrays of all inputs and labels from the tokenized training and test pools\n",
    "train_inputs = np.array(tokenized_train_val[\"input_ids\"])\n",
    "train_labels = np.array(tokenized_train_val[\"label\"])\n",
    "\n",
    "test_inputs = np.array(tokenized_test[\"input_ids\"])\n",
    "test_labels = np.array(tokenized_test[\"label\"])\n",
    "\n",
    "# Convert lists to torch.Tensor\n",
    "train_inputs = torch.tensor(train_inputs)\n",
    "train_labels = torch.tensor(train_labels)\n",
    "test_inputs  = torch.tensor(test_inputs)\n",
    "test_labels  = torch.tensor(test_labels)\n",
    "\n",
    "# Create TensorDataset objects\n",
    "train_data = TensorDataset(train_inputs, train_labels)\n",
    "test_data  = TensorDataset(test_inputs, test_labels)\n",
    "\n",
    "# Create DataLoaders\n",
    "train_dataloader = DataLoader(train_data, sampler=RandomSampler(train_data), batch_size=BATCH_SIZE)\n",
    "test_dataloader  = DataLoader(test_data, sampler=SequentialSampler(test_data), batch_size=BATCH_SIZE)\n",
    "\n",
    "print(f\"Full training set size: {len(train_data)}\")\n",
    "print(f\"Test set size: {len(test_data)}\")"
   ]
  },
  {
   "cell_type": "markdown",
   "metadata": {},
   "source": [
    "### Train Loop"
   ]
  },
  {
   "cell_type": "code",
   "execution_count": 12,
   "metadata": {},
   "outputs": [
    {
     "name": "stdout",
     "output_type": "stream",
     "text": [
      "No checkpoint found at /media/mike/Data/gimc/classifier/model_data/mlp4mal-test_checkpoint.pth. Start training from scratch.\n"
     ]
    },
    {
     "name": "stderr",
     "output_type": "stream",
     "text": [
      "                                                                                      \r"
     ]
    },
    {
     "name": "stdout",
     "output_type": "stream",
     "text": [
      "Epoch: 001/015 | Train: 93.12% | Validation: 93.62% | Elapsed: 0.15 min\n"
     ]
    },
    {
     "name": "stderr",
     "output_type": "stream",
     "text": [
      "                                                                                      \r"
     ]
    },
    {
     "name": "stdout",
     "output_type": "stream",
     "text": [
      "Epoch: 002/015 | Train: 93.07% | Validation: 93.12% | Elapsed: 0.29 min\n"
     ]
    },
    {
     "name": "stderr",
     "output_type": "stream",
     "text": [
      "                                                                                      \r"
     ]
    },
    {
     "name": "stdout",
     "output_type": "stream",
     "text": [
      "Epoch: 003/015 | Train: 93.08% | Validation: 93.12% | Elapsed: 0.43 min\n"
     ]
    },
    {
     "name": "stderr",
     "output_type": "stream",
     "text": [
      "                                                                                      \r"
     ]
    },
    {
     "name": "stdout",
     "output_type": "stream",
     "text": [
      "Epoch: 004/015 | Train: 93.25% | Validation: 93.31% | Elapsed: 0.58 min\n"
     ]
    },
    {
     "name": "stderr",
     "output_type": "stream",
     "text": [
      "                                                                                      \r"
     ]
    },
    {
     "name": "stdout",
     "output_type": "stream",
     "text": [
      "Epoch: 005/015 | Train: 93.47% | Validation: 93.56% | Elapsed: 0.72 min\n"
     ]
    },
    {
     "name": "stderr",
     "output_type": "stream",
     "text": [
      "                                                                                      \r"
     ]
    },
    {
     "name": "stdout",
     "output_type": "stream",
     "text": [
      "Epoch: 006/015 | Train: 93.59% | Validation: 93.81% | Elapsed: 0.86 min\n"
     ]
    },
    {
     "name": "stderr",
     "output_type": "stream",
     "text": [
      "                                                                                      \r"
     ]
    },
    {
     "name": "stdout",
     "output_type": "stream",
     "text": [
      "Epoch: 007/015 | Train: 93.40% | Validation: 93.62% | Elapsed: 1.00 min\n"
     ]
    },
    {
     "name": "stderr",
     "output_type": "stream",
     "text": [
      "                                                                                      \r"
     ]
    },
    {
     "name": "stdout",
     "output_type": "stream",
     "text": [
      "Epoch: 008/015 | Train: 93.53% | Validation: 93.75% | Elapsed: 1.15 min\n"
     ]
    },
    {
     "name": "stderr",
     "output_type": "stream",
     "text": [
      "                                                                                      \r"
     ]
    },
    {
     "name": "stdout",
     "output_type": "stream",
     "text": [
      "Epoch: 009/015 | Train: 93.67% | Validation: 94.06% | Elapsed: 1.29 min\n"
     ]
    },
    {
     "name": "stderr",
     "output_type": "stream",
     "text": [
      "                                                                                       \r"
     ]
    },
    {
     "name": "stdout",
     "output_type": "stream",
     "text": [
      "Epoch: 010/015 | Train: 93.52% | Validation: 93.69% | Elapsed: 1.44 min\n"
     ]
    },
    {
     "name": "stderr",
     "output_type": "stream",
     "text": [
      "                                                                                       \r"
     ]
    },
    {
     "name": "stdout",
     "output_type": "stream",
     "text": [
      "Epoch: 011/015 | Train: 94.17% | Validation: 94.44% | Elapsed: 1.58 min\n"
     ]
    },
    {
     "name": "stderr",
     "output_type": "stream",
     "text": [
      "                                                                                       \r"
     ]
    },
    {
     "name": "stdout",
     "output_type": "stream",
     "text": [
      "Epoch: 012/015 | Train: 94.45% | Validation: 94.44% | Elapsed: 1.73 min\n"
     ]
    },
    {
     "name": "stderr",
     "output_type": "stream",
     "text": [
      "                                                                                       \r"
     ]
    },
    {
     "name": "stdout",
     "output_type": "stream",
     "text": [
      "Epoch: 013/015 | Train: 94.51% | Validation: 94.38% | Elapsed: 1.88 min\n"
     ]
    },
    {
     "name": "stderr",
     "output_type": "stream",
     "text": [
      "                                                                                       \r"
     ]
    },
    {
     "name": "stdout",
     "output_type": "stream",
     "text": [
      "Epoch: 014/015 | Train: 93.87% | Validation: 94.06% | Elapsed: 2.02 min\n"
     ]
    },
    {
     "name": "stderr",
     "output_type": "stream",
     "text": [
      "                                                                                       \r"
     ]
    },
    {
     "name": "stdout",
     "output_type": "stream",
     "text": [
      "Epoch: 015/015 | Train: 94.61% | Validation: 94.25% | Elapsed: 2.17 min\n",
      "Total Training Time: 2.18 min\n"
     ]
    },
    {
     "data": {
      "image/png": "[encoded data removed]",
      "text/plain": [
       "<Figure size 640x480 with 2 Axes>"
      ]
     },
     "metadata": {},
     "output_type": "display_data"
    },
    {
     "data": {
      "image/png": "[encoded data removed]",
      "text/plain": [
       "<Figure size 640x480 with 1 Axes>"
      ]
     },
     "metadata": {},
     "output_type": "display_data"
    }
   ],
   "source": [
    "from utils.train import train_model\n",
    "from utils.plot import plot_accuracy, plot_training_loss\n",
    "from torch import optim\n",
    "from models.mlp_nlp import MLP_NLP\n",
    "\n",
    "model = MLP_NLP(vocab_size=VOCABULARY_SIZE,\n",
    "                embed_dim=EMBEDDING_DIM,\n",
    "                num_class=NUM_CLASSES,\n",
    "                hidden_size1=513,\n",
    "                hidden_size2=256,\n",
    "                hidden_size3=128,\n",
    "                dropout=DROPOUT)\n",
    "\n",
    "optimizer = optim.Adam(model.parameters(), lr=LEARNING_RATE)\n",
    "scheduler = optim.lr_scheduler.ReduceLROnPlateau(optimizer, mode='max', factor=0.1, patience=2)\n",
    "\n",
    "model = model.to(DEVICE)\n",
    "\n",
    "minibatch_loss_list, train_acc_list, valid_acc_list = train_model(\n",
    "    model=model,\n",
    "    num_epochs=NUM_EPOCHS,\n",
    "    train_loader=train_dataloader,\n",
    "    valid_loader=test_dataloader,\n",
    "    test_loader=None,\n",
    "    optimizer=optimizer,\n",
    "    checkpoint_prefix=CHECKPOINT_PREFIX,\n",
    "    device=DEVICE,\n",
    "    logging_interval=100)\n",
    "\n",
    "plot_training_loss(minibatch_loss_list=minibatch_loss_list,\n",
    "                   num_epochs=NUM_EPOCHS,\n",
    "                   iter_per_epoch=len(train_dataloader),\n",
    "                   results_dir=None,\n",
    "                   averaging_iterations=100)\n",
    "\n",
    "plot_accuracy(train_acc_list=train_acc_list,\n",
    "              valid_acc_list=valid_acc_list,\n",
    "              results_dir=None)"
   ]
  }
 ],
 "metadata": {
  "kernelspec": {
   "display_name": "env (3.12.3)",
   "language": "python",
   "name": "python3"
  },
  "language_info": {
   "codemirror_mode": {
    "name": "ipython",
    "version": 3
   },
   "file_extension": ".py",
   "mimetype": "text/x-python",
   "name": "python",
   "nbconvert_exporter": "python",
   "pygments_lexer": "ipython3",
   "version": "3.12.3"
  }
 },
 "nbformat": 4,
 "nbformat_minor": 2
}
