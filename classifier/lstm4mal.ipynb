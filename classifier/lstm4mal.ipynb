{
 "cells": [
  {
   "cell_type": "markdown",
   "metadata": {},
   "source": [
    "# LSTM for NLP Classification"
   ]
  },
  {
   "cell_type": "markdown",
   "metadata": {},
   "source": [
    "### Imports"
   ]
  },
  {
   "cell_type": "code",
   "execution_count": 1,
   "metadata": {},
   "outputs": [],
   "source": [
    "%load_ext autoreload\n",
    "%autoreload 2\n",
    "\n",
    "import os, gc\n",
    "import numpy as np\n",
    "import random\n",
    "from tqdm import tqdm\n",
    "import torch\n",
    "%matplotlib inline\n",
    "\n",
    "import json\n",
    "import torch\n",
    "\n",
    "with open ('../settings.json') as f:\n",
    "    settings = json.load(f)\n",
    "\n",
    "DATA_DIR = os.path.join(settings['data_path'], 'classifier')\n",
    "os.makedirs(DATA_DIR, exist_ok=True)\n",
    "CHECKPOINT_DIR = os.path.join(DATA_DIR, \"model_data\")\n",
    "os.makedirs(CHECKPOINT_DIR, exist_ok=True)\n",
    "CHECKPOINT_PREFIX = os.path.join(CHECKPOINT_DIR, \"lstm4mal\")\n",
    "\n",
    "db_uri = settings['sqlalchemy_database_uri']\n",
    "\n",
    "RANDOM_SEED = 4321\n",
    "torch.manual_seed(RANDOM_SEED)\n",
    "random.seed(RANDOM_SEED)\n",
    "torch.manual_seed(RANDOM_SEED)\n",
    "torch.backends.cudnn.deterministic = True\n",
    "\n",
    "VOCABULARY_SIZE = 20000\n",
    "DROPOUT = 0.25\n",
    "LEARNING_RATE = 0.005\n",
    "EMBEDDING_DIM = 128\n",
    "BATCH_SIZE = 8\n",
    "NUM_EPOCHS = 15\n",
    "MAX_LENGTH = 20480 * 2\n",
    "HIDDEN_DIM = 256\n",
    "NUM_LAYERS = 1\n",
    "NUM_CLASSES = 4\n",
    "\n",
    "DEVICE = torch.device('cuda:0' if torch.cuda.is_available() else 'cpu')\n"
   ]
  },
  {
   "cell_type": "markdown",
   "metadata": {},
   "source": [
    "### Set up CUDA debug environment"
   ]
  },
  {
   "cell_type": "code",
   "execution_count": 2,
   "metadata": {},
   "outputs": [
    {
     "name": "stdout",
     "output_type": "stream",
     "text": [
      "CUDA_LAUNCH_BLOCKING = 1\n",
      "TORCH_USE_CUDA_DSA = 1\n"
     ]
    }
   ],
   "source": [
    "# Enable synchronous CUDA execution for better error reporting\n",
    "os.environ['CUDA_LAUNCH_BLOCKING'] = '1'\n",
    "\n",
    "# Enable device-side assertions in CUDA kernels\n",
    "os.environ['TORCH_USE_CUDA_DSA'] = '1'\n",
    "\n",
    "# Confirm the variables are set\n",
    "print(\"CUDA_LAUNCH_BLOCKING =\", os.getenv('CUDA_LAUNCH_BLOCKING'))\n",
    "print(\"TORCH_USE_CUDA_DSA =\", os.getenv('TORCH_USE_CUDA_DSA'))"
   ]
  },
  {
   "cell_type": "markdown",
   "metadata": {},
   "source": [
    "### Load Data (already cleaned and selected)"
   ]
  },
  {
   "cell_type": "code",
   "execution_count": 3,
   "metadata": {},
   "outputs": [
    {
     "name": "stdout",
     "output_type": "stream",
     "text": [
      "['/media/mike/data/gimc/classifier/report_data/json_0.json', '/media/mike/data/gimc/classifier/report_data/json_1.json', '/media/mike/data/gimc/classifier/report_data/json_10.json', '/media/mike/data/gimc/classifier/report_data/json_11.json', '/media/mike/data/gimc/classifier/report_data/json_12.json', '/media/mike/data/gimc/classifier/report_data/json_13.json', '/media/mike/data/gimc/classifier/report_data/json_14.json', '/media/mike/data/gimc/classifier/report_data/json_15.json', '/media/mike/data/gimc/classifier/report_data/json_2.json', '/media/mike/data/gimc/classifier/report_data/json_3.json', '/media/mike/data/gimc/classifier/report_data/json_4.json', '/media/mike/data/gimc/classifier/report_data/json_5.json', '/media/mike/data/gimc/classifier/report_data/json_6.json', '/media/mike/data/gimc/classifier/report_data/json_7.json', '/media/mike/data/gimc/classifier/report_data/json_8.json', '/media/mike/data/gimc/classifier/report_data/json_9.json']\n",
      "Dataset({\n",
      "    features: ['text', 'label'],\n",
      "    num_rows: 16000\n",
      "})\n"
     ]
    }
   ],
   "source": [
    "from datasets import load_dataset\n",
    "\n",
    "REPORT_DIR = os.path.join(DATA_DIR, \"report_data\")\n",
    "os.makedirs(REPORT_DIR, exist_ok=True)\n",
    "\n",
    "# get all files in the report directory\n",
    "file_paths = [os.path.join(REPORT_DIR, f) for f in os.listdir(REPORT_DIR) if os.path.isfile(os.path.join(REPORT_DIR, f))]\n",
    "print(file_paths)\n",
    "\n",
    "dataset = load_dataset('json', data_files=file_paths)['train']\n",
    "print(dataset)"
   ]
  },
  {
   "cell_type": "markdown",
   "metadata": {},
   "source": [
    "### Split Data"
   ]
  },
  {
   "cell_type": "code",
   "execution_count": 4,
   "metadata": {},
   "outputs": [
    {
     "name": "stdout",
     "output_type": "stream",
     "text": [
      "Train dataset: 12800 samples\n",
      "Validation dataset: 1600 samples\n",
      "Test dataset: 1600 samples\n"
     ]
    }
   ],
   "source": [
    "# First, split into 80% train and 20% (validation + test), with shuffling\n",
    "train_test_split = dataset.train_test_split(test_size=0.2, seed=41, shuffle=True)\n",
    "train_dataset = train_test_split['train']\n",
    "temp_dataset = train_test_split['test']\n",
    "\n",
    "# Then, split the 20% temp_dataset into 10% validation and 10% test, with shuffling\n",
    "validation_test_split = temp_dataset.train_test_split(test_size=0.5, seed=41, shuffle=True)\n",
    "validation_dataset = validation_test_split['train']\n",
    "test_dataset = validation_test_split['test']\n",
    "\n",
    "# Check the size and order of samples in each split\n",
    "print(f\"Train dataset: {len(train_dataset)} samples\")\n",
    "print(f\"Validation dataset: {len(validation_dataset)} samples\")\n",
    "print(f\"Test dataset: {len(test_dataset)} samples\")"
   ]
  },
  {
   "cell_type": "markdown",
   "metadata": {},
   "source": [
    "### Load Tokenizer"
   ]
  },
  {
   "cell_type": "code",
   "execution_count": 5,
   "metadata": {},
   "outputs": [
    {
     "name": "stdout",
     "output_type": "stream",
     "text": [
      "Tokenizer path: /media/mike/data/gimc/classifier/model_data/mal-reformer\n"
     ]
    }
   ],
   "source": [
    "tokenizer_path = os.path.join(DATA_DIR, 'model_data', 'mal-reformer')\n",
    "print(f\"Tokenizer path: {tokenizer_path}\")\n",
    "\n",
    "import torch\n",
    "from transformers import AutoTokenizer, ReformerForSequenceClassification\n",
    "\n",
    "# Load the tokenizer\n",
    "tokenizer = AutoTokenizer.from_pretrained(tokenizer_path)\n",
    "tokenizer.pad_token = \"[PAD]\"\n",
    "tokenizer.cls_token = \"[CLS]\"\n",
    "tokenizer.sep_token = \"[SEP]\""
   ]
  },
  {
   "cell_type": "markdown",
   "metadata": {},
   "source": [
    "### Tokenizer Function"
   ]
  },
  {
   "cell_type": "code",
   "execution_count": 6,
   "metadata": {},
   "outputs": [],
   "source": [
    "def tokenize_function(example):\n",
    "    return tokenizer(\n",
    "        example['text'],\n",
    "        padding='max_length',\n",
    "        truncation=True,\n",
    "        max_length=MAX_LENGTH\n",
    "    )"
   ]
  },
  {
   "cell_type": "code",
   "execution_count": 7,
   "metadata": {},
   "outputs": [
    {
     "data": {
      "application/vnd.jupyter.widget-view+json": {
       "model_id": "240118edbadc458a8de6d644a04d9dda",
       "version_major": 2,
       "version_minor": 0
      },
      "text/plain": [
       "Map:   0%|          | 0/12800 [00:00<?, ? examples/s]"
      ]
     },
     "metadata": {},
     "output_type": "display_data"
    },
    {
     "data": {
      "application/vnd.jupyter.widget-view+json": {
       "model_id": "b6d6444ad17b4c229e5c03f53479d76c",
       "version_major": 2,
       "version_minor": 0
      },
      "text/plain": [
       "Map:   0%|          | 0/1600 [00:00<?, ? examples/s]"
      ]
     },
     "metadata": {},
     "output_type": "display_data"
    },
    {
     "data": {
      "application/vnd.jupyter.widget-view+json": {
       "model_id": "f7d9a8a0a6444f4f9758f56da9455909",
       "version_major": 2,
       "version_minor": 0
      },
      "text/plain": [
       "Map:   0%|          | 0/1600 [00:00<?, ? examples/s]"
      ]
     },
     "metadata": {},
     "output_type": "display_data"
    }
   ],
   "source": [
    "# Tokenize each split\n",
    "tokenized_train_dataset = train_dataset.map(tokenize_function, batched=True)\n",
    "tokenized_validation_dataset = validation_dataset.map(tokenize_function, batched=True)\n",
    "tokenized_test_dataset = test_dataset.map(tokenize_function, batched=True)"
   ]
  },
  {
   "cell_type": "markdown",
   "metadata": {},
   "source": [
    "### Create Dataloaders"
   ]
  },
  {
   "cell_type": "code",
   "execution_count": 8,
   "metadata": {},
   "outputs": [],
   "source": [
    "from torch.utils.data import (TensorDataset, DataLoader, RandomSampler,SequentialSampler)\n",
    "\n",
    "def data_loader(train_dataset, val_dataset, test_dataset, batch_size=BATCH_SIZE):\n",
    "    train_inputs, val_inputs, test_inputs = [], [], []\n",
    "    train_labels, val_labels, test_labels = [], [], []\n",
    "    \n",
    "    for i in tqdm(range(len(train_dataset)), desc=\"Tokenizing train dataset\"):\n",
    "        train_inputs.append(train_dataset[i]['input_ids'])\n",
    "        train_labels.append(train_dataset[i]['label'])\n",
    "    for i in tqdm(range(len(val_dataset)), desc=\"Tokenizing validation dataset\"):\n",
    "        val_inputs.append(val_dataset[i]['input_ids'])\n",
    "        val_labels.append(val_dataset[i]['label'])\n",
    "    for i in tqdm(range(len(test_dataset)), desc=\"Tokenizing test dataset\"):\n",
    "        test_inputs.append(test_dataset[i]['input_ids'])\n",
    "        test_labels.append(test_dataset[i]['label'])\n",
    "\n",
    "    # Convert data type to torch.Tensor\n",
    "    train_inputs = torch.tensor(train_inputs)\n",
    "    val_inputs = torch.tensor(val_inputs)\n",
    "    test_inputs = torch.tensor(test_inputs)\n",
    "    train_labels = torch.tensor(train_labels)\n",
    "    val_labels = torch.tensor(val_labels)\n",
    "    test_labels = torch.tensor(test_labels)\n",
    "                                   \n",
    "    # Create DataLoader for training data\n",
    "    train_data = TensorDataset(train_inputs, train_labels)\n",
    "    train_sampler = RandomSampler(train_data)\n",
    "    train_dataloader = DataLoader(train_data, sampler=train_sampler, batch_size=batch_size)\n",
    "\n",
    "    # Create DataLoader for validation data\n",
    "    val_data = TensorDataset(val_inputs, val_labels)\n",
    "    val_sampler = SequentialSampler(val_data)\n",
    "    val_dataloader = DataLoader(val_data, sampler=val_sampler, batch_size=batch_size)\n",
    "\n",
    "    # create DataLoader for test data\n",
    "    test_data = TensorDataset(test_inputs, test_labels)\n",
    "    test_sampler = SequentialSampler(test_data)\n",
    "    test_dataloader = DataLoader(test_data, sampler=test_sampler, batch_size=batch_size)\n",
    "    return train_dataloader, val_dataloader, test_dataloader"
   ]
  },
  {
   "cell_type": "code",
   "execution_count": 9,
   "metadata": {},
   "outputs": [
    {
     "name": "stderr",
     "output_type": "stream",
     "text": [
      "Tokenizing train dataset: 100%|██████████| 12800/12800 [10:07<00:00, 21.07it/s]\n",
      "Tokenizing validation dataset: 100%|██████████| 1600/1600 [01:15<00:00, 21.26it/s]\n",
      "Tokenizing test dataset: 100%|██████████| 1600/1600 [01:17<00:00, 20.60it/s]\n"
     ]
    }
   ],
   "source": [
    "train_dataloader, val_dataloader, test_dataloader = data_loader(tokenized_train_dataset, tokenized_validation_dataset, tokenized_test_dataset)"
   ]
  },
  {
   "cell_type": "markdown",
   "metadata": {},
   "source": [
    "### Train Model"
   ]
  },
  {
   "cell_type": "code",
   "execution_count": 10,
   "metadata": {},
   "outputs": [
    {
     "name": "stderr",
     "output_type": "stream",
     "text": [
      "/home/mike/projects/GIMC/env/lib/python3.12/site-packages/torch/nn/modules/rnn.py:83: UserWarning: dropout option adds dropout after all but last recurrent layer, so non-zero dropout expects num_layers greater than 1, but got dropout=0.25 and num_layers=1\n",
      "  warnings.warn(\"dropout option adds dropout after all but last \"\n"
     ]
    }
   ],
   "source": [
    "from models.lstm import LSTMClassifier\n",
    "\n",
    "# Initialize the LSTM model\n",
    "model = LSTMClassifier(vocab_size=VOCABULARY_SIZE,\n",
    "                        embed_dim=EMBEDDING_DIM,\n",
    "                        hidden_dim=HIDDEN_DIM,\n",
    "                        num_layers=NUM_LAYERS,\n",
    "                        num_class=NUM_CLASSES,\n",
    "                        dropout=DROPOUT)\n",
    "\n",
    "model = model.to(DEVICE)\n",
    "\n",
    "optimizer = torch.optim.Adam(model.parameters(), lr=LEARNING_RATE)\n",
    "scheduler = torch.optim.lr_scheduler.ReduceLROnPlateau(optimizer,\n",
    "                                                       factor=0.1,\n",
    "                                                       mode='max',\n",
    "                                                       verbose=True)\n"
   ]
  },
  {
   "cell_type": "code",
   "execution_count": 11,
   "metadata": {},
   "outputs": [
    {
     "name": "stdout",
     "output_type": "stream",
     "text": [
      "Loaded checkpoint from /media/mike/data/gimc/classifier/model_data/lstm4mal_checkpoint.pth. Resuming after epoch 15\n",
      "Total Training Time: 0.00 min\n"
     ]
    },
    {
     "name": "stderr",
     "output_type": "stream",
     "text": [
      "                                                                     "
     ]
    },
    {
     "name": "stdout",
     "output_type": "stream",
     "text": [
      "Test accuracy 93.38%\n"
     ]
    },
    {
     "name": "stderr",
     "output_type": "stream",
     "text": [
      "\r"
     ]
    },
    {
     "data": {
      "image/png": "[encoded data removed]",
      "text/plain": [
       "<Figure size 640x480 with 2 Axes>"
      ]
     },
     "metadata": {},
     "output_type": "display_data"
    },
    {
     "data": {
      "image/png": "[encoded data removed]",
      "text/plain": [
       "<Figure size 640x480 with 1 Axes>"
      ]
     },
     "metadata": {},
     "output_type": "display_data"
    }
   ],
   "source": [
    "from utils.train import train_model\n",
    "from utils.plot import plot_accuracy, plot_training_loss\n",
    "\n",
    "model = model.to(DEVICE)\n",
    "minibatch_loss_list, train_acc_list, valid_acc_list = train_model(\n",
    "    model=model,\n",
    "    num_epochs=NUM_EPOCHS,\n",
    "    train_loader=train_dataloader,\n",
    "    valid_loader=val_dataloader,\n",
    "    test_loader=test_dataloader,\n",
    "    optimizer=optimizer,\n",
    "    checkpoint_prefix=CHECKPOINT_PREFIX,\n",
    "    device=DEVICE,\n",
    "    logging_interval=10)\n",
    "\n",
    "plot_training_loss(minibatch_loss_list=minibatch_loss_list,\n",
    "                   num_epochs=NUM_EPOCHS,\n",
    "                   iter_per_epoch=len(train_dataloader),\n",
    "                   results_dir=None,\n",
    "                   averaging_iterations=100)\n",
    "\n",
    "plot_accuracy(train_acc_list=train_acc_list,\n",
    "              valid_acc_list=valid_acc_list,\n",
    "              results_dir=None)"
   ]
  },
  {
   "cell_type": "markdown",
   "metadata": {},
   "source": [
    "### Sanity Check"
   ]
  },
  {
   "cell_type": "code",
   "execution_count": 12,
   "metadata": {},
   "outputs": [],
   "source": [
    "# Create prediction function for raw text\n",
    "def predict_text(text, model, tokenizer, device):\n",
    "    model.eval()\n",
    "    inputs = tokenizer(text, return_tensors='pt', padding='max_length', truncation=True, max_length=MAX_LENGTH).to(device)\n",
    "    input_ids = inputs['input_ids']\n",
    "    with torch.no_grad():\n",
    "        logits = model(input_ids)\n",
    "    return torch.argmax(logits, dim=-1).item()"
   ]
  },
  {
   "cell_type": "code",
   "execution_count": 13,
   "metadata": {},
   "outputs": [
    {
     "name": "stdout",
     "output_type": "stream",
     "text": [
      "label: 0, prediction: 0\n",
      "label: 0, prediction: 0\n",
      "label: 0, prediction: 0\n",
      "label: 0, prediction: 0\n",
      "label: 0, prediction: 0\n",
      "label: 0, prediction: 0\n",
      "label: 0, prediction: 0\n",
      "label: 0, prediction: 0\n",
      "label: 0, prediction: 0\n",
      "label: 0, prediction: 0\n",
      "label: 0, prediction: 0\n",
      "label: 1, prediction: 0\n",
      "label: 1, prediction: 1\n",
      "label: 1, prediction: 1\n",
      "label: 1, prediction: 1\n",
      "label: 1, prediction: 1\n",
      "label: 1, prediction: 1\n",
      "label: 1, prediction: 1\n",
      "label: 1, prediction: 1\n",
      "label: 1, prediction: 1\n",
      "label: 1, prediction: 1\n",
      "label: 1, prediction: 1\n",
      "label: 2, prediction: 2\n",
      "label: 2, prediction: 2\n",
      "label: 2, prediction: 2\n",
      "label: 2, prediction: 2\n",
      "label: 2, prediction: 2\n",
      "label: 2, prediction: 2\n",
      "label: 2, prediction: 2\n",
      "label: 2, prediction: 2\n",
      "label: 2, prediction: 2\n",
      "label: 2, prediction: 2\n",
      "label: 2, prediction: 2\n",
      "label: 3, prediction: 3\n",
      "label: 3, prediction: 3\n",
      "label: 3, prediction: 3\n",
      "label: 3, prediction: 3\n",
      "label: 3, prediction: 3\n",
      "label: 3, prediction: 3\n",
      "label: 3, prediction: 3\n",
      "label: 3, prediction: 3\n",
      "label: 3, prediction: 3\n",
      "label: 3, prediction: 3\n",
      "label: 3, prediction: 3\n"
     ]
    }
   ],
   "source": [
    "\n",
    "for i in range(4):\n",
    "    count = 0\n",
    "    idx = i * 4\n",
    "    with open(os.path.join(REPORT_DIR, f'json_{idx}.json')) as f:\n",
    "        for line in f:\n",
    "            data = json.loads(line)\n",
    "            text = data['text']\n",
    "            prediction = predict_text(text, model, tokenizer, DEVICE)\n",
    "            print(f\"label: {data['label']}, prediction: {prediction}\")\n",
    "            count += 1\n",
    "            if count > 10:\n",
    "                break"
   ]
  }
 ],
 "metadata": {
  "kernelspec": {
   "display_name": "env",
   "language": "python",
   "name": "python3"
  },
  "language_info": {
   "codemirror_mode": {
    "name": "ipython",
    "version": 3
   },
   "file_extension": ".py",
   "mimetype": "text/x-python",
   "name": "python",
   "nbconvert_exporter": "python",
   "pygments_lexer": "ipython3",
   "version": "3.12.3"
  }
 },
 "nbformat": 4,
 "nbformat_minor": 2
}
