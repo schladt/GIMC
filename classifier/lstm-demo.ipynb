{
 "cells": [
  {
   "cell_type": "markdown",
   "metadata": {},
   "source": [
    "### LSTM Example\n",
    "\n",
    "From: https://github.com/andrei-radulescu-banu/stat453-deep-learning-ss21/blob/main/L15/packed_lstm.ipynb"
   ]
  },
  {
   "cell_type": "markdown",
   "metadata": {},
   "source": [
    "### Imports"
   ]
  },
  {
   "cell_type": "code",
   "execution_count": 1,
   "metadata": {},
   "outputs": [],
   "source": [
    "import torch\n",
    "import torch.nn.functional as F\n",
    "import torchtext\n",
    "import time\n",
    "import random\n",
    "import pandas as pd\n",
    "import json\n",
    "from tqdm import tqdm\n",
    "import os\n",
    "import re\n",
    "\n",
    "from sqlalchemy.orm import Session\n",
    "from sqlalchemy import create_engine, select, MetaData, Table\n",
    "from sqlalchemy.ext.automap import automap_base"
   ]
  },
  {
   "cell_type": "markdown",
   "metadata": {},
   "source": [
    "### Settings and Hyperparameters"
   ]
  },
  {
   "cell_type": "code",
   "execution_count": 2,
   "metadata": {},
   "outputs": [],
   "source": [
    "with open ('../settings.json') as f:\n",
    "    settings = json.load(f)\n",
    "\n",
    "db_uri = settings['sqlalchemy_database_uri']\n",
    "\n",
    "RANDOM_SEED = 123\n",
    "torch.manual_seed(RANDOM_SEED)\n",
    "\n",
    "VOCABULARY_SIZE = 20000\n",
    "LEARNING_RATE = 0.005\n",
    "BATCH_SIZE = 128\n",
    "NUM_EPOCHS = 15\n",
    "DEVICE = torch.device('cuda:0' if torch.cuda.is_available() else 'cpu')\n",
    "\n",
    "EMBEDDING_DIM = 128\n",
    "HIDDEN_DIM = 256\n",
    "NUM_CLASSES = 2"
   ]
  },
  {
   "cell_type": "markdown",
   "metadata": {},
   "source": [
    "### Download Dataset"
   ]
  },
  {
   "cell_type": "code",
   "execution_count": 3,
   "metadata": {},
   "outputs": [],
   "source": [
    "# !wget https://github.com/rasbt/python-machine-learning-book-3rd-edition/raw/master/ch08/movie_data.csv.gz -O ~/data/movie_data.csv.gz"
   ]
  },
  {
   "cell_type": "code",
   "execution_count": 4,
   "metadata": {},
   "outputs": [],
   "source": [
    "# !gunzip -f ~/data/movie_data.csv.gz "
   ]
  },
  {
   "cell_type": "markdown",
   "metadata": {},
   "source": [
    "### Load and Check Data"
   ]
  },
  {
   "cell_type": "code",
   "execution_count": 5,
   "metadata": {},
   "outputs": [
    {
     "data": {
      "text/html": [
       "<div>\n",
       "<style scoped>\n",
       "    .dataframe tbody tr th:only-of-type {\n",
       "        vertical-align: middle;\n",
       "    }\n",
       "\n",
       "    .dataframe tbody tr th {\n",
       "        vertical-align: top;\n",
       "    }\n",
       "\n",
       "    .dataframe thead th {\n",
       "        text-align: right;\n",
       "    }\n",
       "</style>\n",
       "<table border=\"1\" class=\"dataframe\">\n",
       "  <thead>\n",
       "    <tr style=\"text-align: right;\">\n",
       "      <th></th>\n",
       "      <th>review</th>\n",
       "      <th>sentiment</th>\n",
       "    </tr>\n",
       "  </thead>\n",
       "  <tbody>\n",
       "    <tr>\n",
       "      <th>0</th>\n",
       "      <td>In 1974, the teenager Martha Moxley (Maggie Gr...</td>\n",
       "      <td>1</td>\n",
       "    </tr>\n",
       "    <tr>\n",
       "      <th>1</th>\n",
       "      <td>OK... so... I really like Kris Kristofferson a...</td>\n",
       "      <td>0</td>\n",
       "    </tr>\n",
       "    <tr>\n",
       "      <th>2</th>\n",
       "      <td>***SPOILER*** Do not read this, if you think a...</td>\n",
       "      <td>0</td>\n",
       "    </tr>\n",
       "    <tr>\n",
       "      <th>3</th>\n",
       "      <td>hi for all the people who have seen this wonde...</td>\n",
       "      <td>1</td>\n",
       "    </tr>\n",
       "    <tr>\n",
       "      <th>4</th>\n",
       "      <td>I recently bought the DVD, forgetting just how...</td>\n",
       "      <td>0</td>\n",
       "    </tr>\n",
       "  </tbody>\n",
       "</table>\n",
       "</div>"
      ],
      "text/plain": [
       "                                              review  sentiment\n",
       "0  In 1974, the teenager Martha Moxley (Maggie Gr...          1\n",
       "1  OK... so... I really like Kris Kristofferson a...          0\n",
       "2  ***SPOILER*** Do not read this, if you think a...          0\n",
       "3  hi for all the people who have seen this wonde...          1\n",
       "4  I recently bought the DVD, forgetting just how...          0"
      ]
     },
     "execution_count": 5,
     "metadata": {},
     "output_type": "execute_result"
    }
   ],
   "source": [
    "df = pd.read_csv('~/data/movie_data.csv')\n",
    "df.head()"
   ]
  },
  {
   "cell_type": "markdown",
   "metadata": {},
   "source": [
    "### Prepare Dataset"
   ]
  },
  {
   "cell_type": "code",
   "execution_count": 6,
   "metadata": {},
   "outputs": [
    {
     "name": "stdout",
     "output_type": "stream",
     "text": [
      "['In 1974, the teenager Martha Moxley (Maggie Grace) moves to the high-class area of Belle Haven, Greenwich, Connecticut. On the Mischief Night, eve of Halloween, she was murdered in the backyard of her house and her murder remained unsolved. Twenty-two years later, the writer Mark Fuhrman (Christopher Meloni), who is a former LA detective that has fallen in disgrace for perjury in O.J. Simpson trial and moved to Idaho, decides to investigate the case with his partner Stephen Weeks (Andrew Mitchell) with the purpose of writing a book. The locals squirm and do not welcome them, but with the support of the retired detective Steve Carroll (Robert Forster) that was in charge of the investigation in the 70\\'s, they discover the criminal and a net of power and money to cover the murder.<br /><br />\"Murder in Greenwich\" is a good TV movie, with the true story of a murder of a fifteen years old girl that was committed by a wealthy teenager whose mother was a Kennedy. The powerful and rich family used their influence to cover the murder for more than twenty years. However, a snoopy detective and convicted perjurer in disgrace was able to disclose how the hideous crime was committed. The screenplay shows the investigation of Mark and the last days of Martha in parallel, but there is a lack of the emotion in the dramatization. My vote is seven.<br /><br />Title (Brazil): Not Available', '1']\n"
     ]
    }
   ],
   "source": [
    "from torchdata.datapipes.iter import IterableWrapper, FileOpener\n",
    "datapipe = IterableWrapper([\"/home/mike/data/movie_data.csv\"])\n",
    "datapipe = FileOpener(datapipe, mode='b')\n",
    "dp = datapipe.parse_csv(skip_lines=1)\n",
    "\n",
    "for sample in dp:\n",
    "     print(sample)\n",
    "     break"
   ]
  },
  {
   "cell_type": "code",
   "execution_count": 7,
   "metadata": {},
   "outputs": [
    {
     "name": "stdout",
     "output_type": "stream",
     "text": [
      "Num Train: 40000\n",
      "Num Validate: 5000\n",
      "Num Test: 5000\n"
     ]
    }
   ],
   "source": [
    "# Split into training, validation, and test sets\n",
    "\n",
    "# Get the number of rows in dataset\n",
    "N_ROWS = len(list(dp)) \n",
    "N_train = int(N_ROWS * 0.8)\n",
    "N_valid = int(N_ROWS * 0.1)\n",
    "N_test = N_ROWS - N_train - N_valid\n",
    "\n",
    "# Split into training and val datapipes early on. Will build vocabulary from training datapipe only.\n",
    "train_dp, valid_dp, test_dp = dp.random_split(total_length=N_ROWS, weights={\"train\": N_train, \"valid\": N_valid, \"test\": N_test}, seed=RANDOM_SEED)\n",
    "\n",
    "print(f'Num Train: {len(train_dp)}')\n",
    "print(f'Num Validate: {len(valid_dp)}')\n",
    "print(f'Num Test: {len(test_dp)}')"
   ]
  },
  {
   "cell_type": "markdown",
   "metadata": {},
   "source": [
    "### Build Vocab"
   ]
  },
  {
   "cell_type": "code",
   "execution_count": 8,
   "metadata": {},
   "outputs": [],
   "source": [
    "from torchtext.vocab import build_vocab_from_iterator\n",
    "from torchtext.data.utils import get_tokenizer\n",
    "\n",
    "tokenizer = get_tokenizer(tokenizer='basic_english')\n",
    "\n",
    "def yield_tokens(data_iter):\n",
    "    for text, _ in data_iter:\n",
    "        yield tokenizer(text)\n",
    "\n",
    "vocab = build_vocab_from_iterator(yield_tokens(train_dp), specials=[\"<unk>\", \"<pad>\"],  max_tokens=VOCABULARY_SIZE)\n",
    "vocab.set_default_index(vocab[\"<unk>\"])\n",
    "PADDING_VALUE=vocab['<PAD>']"
   ]
  },
  {
   "cell_type": "code",
   "execution_count": 9,
   "metadata": {},
   "outputs": [
    {
     "name": "stdout",
     "output_type": "stream",
     "text": [
      "Vocab Size: 20000\n",
      "['<unk>', '<pad>', 'the', '.', ',', 'and', 'a', 'of', 'to', \"'\"]\n"
     ]
    }
   ],
   "source": [
    "print(f'Vocab Size: {len(vocab)}')\n",
    "print(vocab.get_itos()[:10]) # itos = integer-to-string"
   ]
  },
  {
   "cell_type": "code",
   "execution_count": 10,
   "metadata": {},
   "outputs": [
    {
     "name": "stdout",
     "output_type": "stream",
     "text": [
      "input to the text_transform: here is an example\n",
      "output of the text_transform: [135, 10, 41, 475]\n"
     ]
    }
   ],
   "source": [
    "text_transform = lambda x: [vocab[token] for token in tokenizer(x)]\n",
    "label_transform = lambda x: 1 if x == '1' else 0\n",
    "\n",
    "# Print out the output of text_transform\n",
    "print(\"input to the text_transform:\", \"here is an example\")\n",
    "print(\"output of the text_transform:\", text_transform(\"here is an example\"))"
   ]
  },
  {
   "cell_type": "code",
   "execution_count": 11,
   "metadata": {},
   "outputs": [
    {
     "data": {
      "text/plain": [
       "['In 1974, the teenager Martha Moxley (Maggie Grace) moves to the high-class area of Belle Haven, Greenwich, Connecticut. On the Mischief Night, eve of Halloween, she was murdered in the backyard of her house and her murder remained unsolved. Twenty-two years later, the writer Mark Fuhrman (Christopher Meloni), who is a former LA detective that has fallen in disgrace for perjury in O.J. Simpson trial and moved to Idaho, decides to investigate the case with his partner Stephen Weeks (Andrew Mitchell) with the purpose of writing a book. The locals squirm and do not welcome them, but with the support of the retired detective Steve Carroll (Robert Forster) that was in charge of the investigation in the 70\\'s, they discover the criminal and a net of power and money to cover the murder.<br /><br />\"Murder in Greenwich\" is a good TV movie, with the true story of a murder of a fifteen years old girl that was committed by a wealthy teenager whose mother was a Kennedy. The powerful and rich family used their influence to cover the murder for more than twenty years. However, a snoopy detective and convicted perjurer in disgrace was able to disclose how the hideous crime was committed. The screenplay shows the investigation of Mark and the last days of Martha in parallel, but there is a lack of the emotion in the dramatization. My vote is seven.<br /><br />Title (Brazil): Not Available',\n",
       " '1']"
      ]
     },
     "execution_count": 11,
     "metadata": {},
     "output_type": "execute_result"
    }
   ],
   "source": [
    "list(train_dp)[0]"
   ]
  },
  {
   "cell_type": "code",
   "execution_count": 12,
   "metadata": {},
   "outputs": [],
   "source": [
    "from torch.utils.data import DataLoader \n",
    "from torch.nn.utils.rnn import pad_sequence\n",
    "from torch.utils.data import Sampler\n",
    "\n",
    "# following two helper functions from https://medium.com/@bitdribble/migrate-torchtext-to-the-new-0-9-0-api-1ff1472b5d71\n",
    "from torch.utils.data import DataLoader\n",
    "from torch.nn.utils.rnn import pad_sequence\n",
    "import torch\n",
    "\n",
    "def collate_batch(batch):\n",
    "    text_list, label_list = [], []\n",
    "    for (_text, _label) in batch:\n",
    "        processed_text = torch.tensor(text_transform(_text))\n",
    "        text_list.append(processed_text)\n",
    "        label_list.append(label_transform(_label))\n",
    "    return pad_sequence(text_list, padding_value=PADDING_VALUE).to(DEVICE), torch.tensor(label_list).to(DEVICE)\n",
    "\n",
    "class BatchSamplerSimilarLength(Sampler):\n",
    "    def __init__(self, dataset, batch_size, indices=None, shuffle=True):\n",
    "        self.batch_size = batch_size\n",
    "        self.shuffle = shuffle\n",
    "        # get the indices and length\n",
    "        self.indices = [(i, len(tokenizer(s[1]))) for i, s in enumerate(dataset)]\n",
    "        # if indices are passed, then use only the ones passed (for ddp)\n",
    "        if indices is not None:\n",
    "            self.indices = torch.tensor(self.indices)[indices].tolist()\n",
    "\n",
    "    def __iter__(self):\n",
    "        if self.shuffle:\n",
    "            random.shuffle(self.indices)\n",
    "\n",
    "        pooled_indices = []\n",
    "        # create pool of indices with similar lengths\n",
    "        for i in range(0, len(self.indices), self.batch_size * 100):\n",
    "            pooled_indices.extend(sorted(self.indices[i:i + self.batch_size * 100], key=lambda x: x[1]))\n",
    "        self.pooled_indices = [x[0] for x in pooled_indices]\n",
    "\n",
    "        # yield indices for current batch\n",
    "        batches = [self.pooled_indices[i:i + self.batch_size] for i in\n",
    "               range(0, len(self.pooled_indices), self.batch_size)]\n",
    "\n",
    "        if self.shuffle:\n",
    "            random.shuffle(batches)\n",
    "        for batch in batches:\n",
    "            yield batch\n",
    "\n",
    "    def __len__(self):\n",
    "        return len(self.pooled_indices) // self.batch_size\n",
    "\n"
   ]
  },
  {
   "cell_type": "code",
   "execution_count": 13,
   "metadata": {},
   "outputs": [
    {
     "name": "stdout",
     "output_type": "stream",
     "text": [
      "torch.Size([1055, 128])\n",
      "torch.Size([128])\n"
     ]
    }
   ],
   "source": [
    "train_dp_list = list(train_dp)\n",
    "valid_dp_list = list(valid_dp)\n",
    "test_dp_list = list(test_dp)\n",
    "\n",
    "train_loader = DataLoader(train_dp_list, \n",
    "                          batch_sampler=BatchSamplerSimilarLength(dataset = train_dp_list, \n",
    "                                                                  batch_size=BATCH_SIZE),\n",
    "                          collate_fn=collate_batch)\n",
    "valid_loader = DataLoader(train_dp_list, \n",
    "                          batch_sampler=BatchSamplerSimilarLength(dataset = valid_dp_list, \n",
    "                                                                  batch_size=BATCH_SIZE,\n",
    "                                                                  shuffle=False),\n",
    "                          collate_fn=collate_batch)\n",
    "test_loader = DataLoader(train_dp_list, \n",
    "                          batch_sampler=BatchSamplerSimilarLength(dataset = test_dp_list, \n",
    "                                                                  batch_size=BATCH_SIZE,\n",
    "                                                                  shuffle=False),\n",
    "                          collate_fn=collate_batch)\n",
    "\n",
    "text_batch, label_batch = next(iter(train_loader))\n",
    "print(text_batch.size())\n",
    "print(label_batch.size())"
   ]
  },
  {
   "cell_type": "code",
   "execution_count": 14,
   "metadata": {},
   "outputs": [
    {
     "name": "stdout",
     "output_type": "stream",
     "text": [
      "Train\n",
      "Text matrix size: torch.Size([1093, 128])\n",
      "Target vector size: torch.Size([128])\n",
      "\n",
      "Valid:\n",
      "Text matrix size: torch.Size([1062, 128])\n",
      "Target vector size: torch.Size([128])\n",
      "\n",
      "Test:\n",
      "Text matrix size: torch.Size([1062, 128])\n",
      "Target vector size: torch.Size([128])\n"
     ]
    }
   ],
   "source": [
    "print('Train')\n",
    "for text_batch, label_batch in train_loader:\n",
    "    print(f'Text matrix size: {text_batch.size()}')\n",
    "    print(f'Target vector size: {label_batch.size()}')\n",
    "    break\n",
    "    \n",
    "print('\\nValid:')\n",
    "for text_batch, label_batch in valid_loader:\n",
    "    print(f'Text matrix size: {text_batch.size()}')\n",
    "    print(f'Target vector size: {label_batch.size()}')\n",
    "    break\n",
    "    \n",
    "print('\\nTest:')\n",
    "for text_batch, label_batch in test_loader:\n",
    "    print(f'Text matrix size: {text_batch.size()}')\n",
    "    print(f'Target vector size: {label_batch.size()}')\n",
    "    break"
   ]
  },
  {
   "cell_type": "markdown",
   "metadata": {},
   "source": [
    "### Utility Functions"
   ]
  },
  {
   "cell_type": "code",
   "execution_count": 15,
   "metadata": {},
   "outputs": [],
   "source": [
    "import matplotlib.pyplot as plt\n",
    "import numpy as np\n",
    "\n",
    "def compute_accuracy(model, data_loader, device):\n",
    "\n",
    "    with torch.no_grad():\n",
    "\n",
    "        correct_pred, num_examples = 0, 0\n",
    "\n",
    "        for i, (features, targets) in enumerate(data_loader):\n",
    "\n",
    "            features = features.to(device)\n",
    "            targets = targets.float().to(device)\n",
    "\n",
    "            logits = model(features)\n",
    "            _, predicted_labels = torch.max(logits, 1)\n",
    "\n",
    "            num_examples += targets.size(0)\n",
    "            correct_pred += (predicted_labels == targets).sum().to(\"cpu\")\n",
    "\n",
    "    return float(correct_pred)/num_examples * 100\n",
    "\n",
    "\n",
    "def train_model(model, num_epochs, train_loader,\n",
    "                valid_loader, test_loader, optimizer,\n",
    "                device, logging_interval=50,\n",
    "                scheduler=None,\n",
    "                scheduler_on='valid_acc'):\n",
    "\n",
    "    start_time = time.time()\n",
    "    minibatch_loss_list, train_acc_list, valid_acc_list = [], [], []\n",
    "    \n",
    "    for epoch in range(num_epochs):\n",
    "\n",
    "        model.train()\n",
    "        for batch_idx, (features, targets) in enumerate(train_loader):\n",
    "\n",
    "            features = features.to(device)\n",
    "            targets = targets.to(device)\n",
    "\n",
    "            # ## FORWARD AND BACK PROP\n",
    "            logits = model(features)\n",
    "            loss = torch.nn.functional.cross_entropy(logits, targets)\n",
    "            optimizer.zero_grad()\n",
    "\n",
    "            loss.backward()\n",
    "\n",
    "            # ## UPDATE MODEL PARAMETERS\n",
    "            optimizer.step()\n",
    "\n",
    "            # ## LOGGING\n",
    "            minibatch_loss_list.append(loss.item())\n",
    "            if not batch_idx % logging_interval:\n",
    "                print(f'Epoch: {epoch+1:03d}/{num_epochs:03d} '\n",
    "                      f'| Batch {batch_idx:04d}/{len(train_loader):04d} '\n",
    "                      f'| Loss: {loss:.4f}')\n",
    "\n",
    "        model.eval()\n",
    "        with torch.no_grad():  # save memory during inference\n",
    "            train_acc = compute_accuracy(model, train_loader, device=device)\n",
    "            valid_acc = compute_accuracy(model, valid_loader, device=device)\n",
    "            print(f'Epoch: {epoch+1:03d}/{num_epochs:03d} '\n",
    "                  f'| Train: {train_acc :.2f}% '\n",
    "                  f'| Validation: {valid_acc :.2f}%')\n",
    "            train_acc_list.append(train_acc)\n",
    "            valid_acc_list.append(valid_acc)\n",
    "\n",
    "        elapsed = (time.time() - start_time)/60\n",
    "        print(f'Time elapsed: {elapsed:.2f} min')\n",
    "        \n",
    "        if scheduler is not None:\n",
    "\n",
    "            if scheduler_on == 'valid_acc':\n",
    "                scheduler.step(valid_acc_list[-1])\n",
    "            elif scheduler_on == 'minibatch_loss':\n",
    "                scheduler.step(minibatch_loss_list[-1])\n",
    "            else:\n",
    "                raise ValueError(f'Invalid `scheduler_on` choice.')\n",
    "        \n",
    "\n",
    "    elapsed = (time.time() - start_time)/60\n",
    "    print(f'Total Training Time: {elapsed:.2f} min')\n",
    "\n",
    "    test_acc = compute_accuracy(model, test_loader, device=device)\n",
    "    print(f'Test accuracy {test_acc :.2f}%')\n",
    "\n",
    "    return minibatch_loss_list, train_acc_list, valid_acc_list\n",
    "\n",
    "def plot_training_loss(minibatch_loss_list, num_epochs, iter_per_epoch,\n",
    "                       results_dir=None, averaging_iterations=100):\n",
    "\n",
    "    plt.figure()\n",
    "    ax1 = plt.subplot(1, 1, 1)\n",
    "    ax1.plot(range(len(minibatch_loss_list)),\n",
    "             (minibatch_loss_list), label='Minibatch Loss')\n",
    "\n",
    "    if len(minibatch_loss_list) > 1000:\n",
    "        ax1.set_ylim([\n",
    "            0, np.max(minibatch_loss_list[1000:])*1.5\n",
    "            ])\n",
    "    ax1.set_xlabel('Iterations')\n",
    "    ax1.set_ylabel('Loss')\n",
    "\n",
    "    ax1.plot(np.convolve(minibatch_loss_list,\n",
    "                         np.ones(averaging_iterations,)/averaging_iterations,\n",
    "                         mode='valid'),\n",
    "             label='Running Average')\n",
    "    ax1.legend()\n",
    "\n",
    "    ###################\n",
    "    # Set scond x-axis\n",
    "    ax2 = ax1.twiny()\n",
    "    newlabel = list(range(num_epochs+1))\n",
    "\n",
    "    newpos = [e*iter_per_epoch for e in newlabel]\n",
    "\n",
    "    ax2.set_xticks(newpos[::10])\n",
    "    ax2.set_xticklabels(newlabel[::10])\n",
    "\n",
    "    ax2.xaxis.set_ticks_position('bottom')\n",
    "    ax2.xaxis.set_label_position('bottom')\n",
    "    ax2.spines['bottom'].set_position(('outward', 45))\n",
    "    ax2.set_xlabel('Epochs')\n",
    "    ax2.set_xlim(ax1.get_xlim())\n",
    "    ###################\n",
    "\n",
    "    plt.tight_layout()\n",
    "\n",
    "    if results_dir is not None:\n",
    "        image_path = os.path.join(results_dir, 'plot_training_loss.pdf')\n",
    "        plt.savefig(image_path)\n",
    "\n",
    "\n",
    "def plot_accuracy(train_acc_list, valid_acc_list, results_dir):\n",
    "\n",
    "    num_epochs = len(train_acc_list)\n",
    "\n",
    "    plt.plot(np.arange(1, num_epochs+1),\n",
    "             train_acc_list, label='Training')\n",
    "    plt.plot(np.arange(1, num_epochs+1),\n",
    "             valid_acc_list, label='Validation')\n",
    "\n",
    "    plt.xlabel('Epoch')\n",
    "    plt.ylabel('Accuracy')\n",
    "    plt.legend()\n",
    "\n",
    "    plt.tight_layout()\n",
    "\n",
    "    if results_dir is not None:\n",
    "        image_path = os.path.join(\n",
    "            results_dir, 'plot_acc_training_validation.pdf')\n",
    "        plt.savefig(image_path)"
   ]
  },
  {
   "cell_type": "markdown",
   "metadata": {},
   "source": [
    "### LSTM Model"
   ]
  },
  {
   "cell_type": "code",
   "execution_count": 16,
   "metadata": {},
   "outputs": [],
   "source": [
    "class LSTM(torch.nn.Module):\n",
    "    \n",
    "    def __init__(self, input_dim, embedding_dim, hidden_dim, output_dim):\n",
    "        super().__init__()\n",
    "\n",
    "        self.embedding = torch.nn.Embedding(input_dim, embedding_dim)\n",
    "        \n",
    "        self.rnn = torch.nn.LSTM(embedding_dim,\n",
    "                                 hidden_dim)        \n",
    "        \n",
    "        self.fc = torch.nn.Linear(hidden_dim, output_dim)\n",
    "        \n",
    "\n",
    "    def forward(self, text):\n",
    "        # text dim: [sentence length, batch size]        \n",
    "        embedded = self.embedding(text)\n",
    "        # embedded dim: [sentence length, batch size, embedding dim]\n",
    "        \n",
    "        output, (hidden, cell) = self.rnn(embedded)\n",
    "        # output dim: [sentence length, batch size, hidden dim]\n",
    "        # hidden dim: [1, batch size, hidden dim]\n",
    "\n",
    "        hidden.squeeze_(0)\n",
    "        # hidden dim: [batch size, hidden dim]\n",
    "        \n",
    "        output = self.fc(hidden)\n",
    "        return output"
   ]
  },
  {
   "cell_type": "markdown",
   "metadata": {},
   "source": [
    "### Train Model"
   ]
  },
  {
   "cell_type": "code",
   "execution_count": 17,
   "metadata": {},
   "outputs": [
    {
     "name": "stdout",
     "output_type": "stream",
     "text": [
      "Epoch: 001/015 | Batch 0000/0312 | Loss: 0.6923\n",
      "Epoch: 001/015 | Batch 0100/0312 | Loss: 0.6880\n",
      "Epoch: 001/015 | Batch 0200/0312 | Loss: 0.6931\n",
      "Epoch: 001/015 | Batch 0300/0312 | Loss: 0.6955\n",
      "Epoch: 001/015 | Train: 49.82% | Validation: 49.36%\n",
      "Time elapsed: 0.61 min\n",
      "Epoch: 002/015 | Batch 0000/0312 | Loss: 0.6921\n",
      "Epoch: 002/015 | Batch 0100/0312 | Loss: 0.6901\n",
      "Epoch: 002/015 | Batch 0200/0312 | Loss: 0.6971\n",
      "Epoch: 002/015 | Batch 0300/0312 | Loss: 0.6940\n",
      "Epoch: 002/015 | Train: 50.36% | Validation: 50.78%\n",
      "Time elapsed: 1.19 min\n",
      "Epoch: 003/015 | Batch 0000/0312 | Loss: 0.6867\n",
      "Epoch: 003/015 | Batch 0100/0312 | Loss: 0.6900\n",
      "Epoch: 003/015 | Batch 0200/0312 | Loss: 0.6877\n",
      "Epoch: 003/015 | Batch 0300/0312 | Loss: 0.6938\n",
      "Epoch: 003/015 | Train: 50.39% | Validation: 50.84%\n",
      "Time elapsed: 1.77 min\n",
      "Epoch: 004/015 | Batch 0000/0312 | Loss: 0.6903\n",
      "Epoch: 004/015 | Batch 0100/0312 | Loss: 0.6985\n",
      "Epoch: 004/015 | Batch 0200/0312 | Loss: 0.6903\n",
      "Epoch: 004/015 | Batch 0300/0312 | Loss: 0.6964\n",
      "Epoch: 004/015 | Train: 50.48% | Validation: 50.92%\n",
      "Time elapsed: 2.35 min\n",
      "Epoch: 005/015 | Batch 0000/0312 | Loss: 0.6884\n",
      "Epoch: 005/015 | Batch 0100/0312 | Loss: 0.6877\n",
      "Epoch: 005/015 | Batch 0200/0312 | Loss: 0.6926\n",
      "Epoch: 005/015 | Batch 0300/0312 | Loss: 0.5943\n",
      "Epoch: 005/015 | Train: 74.00% | Validation: 75.16%\n",
      "Time elapsed: 2.94 min\n",
      "Epoch: 006/015 | Batch 0000/0312 | Loss: 0.5228\n",
      "Epoch: 006/015 | Batch 0100/0312 | Loss: 0.3852\n",
      "Epoch: 006/015 | Batch 0200/0312 | Loss: 0.2896\n",
      "Epoch: 006/015 | Batch 0300/0312 | Loss: 0.2715\n",
      "Epoch: 006/015 | Train: 89.46% | Validation: 89.12%\n",
      "Time elapsed: 3.53 min\n",
      "Epoch: 007/015 | Batch 0000/0312 | Loss: 0.1604\n",
      "Epoch: 007/015 | Batch 0100/0312 | Loss: 0.1729\n",
      "Epoch: 007/015 | Batch 0200/0312 | Loss: 0.2811\n",
      "Epoch: 007/015 | Batch 0300/0312 | Loss: 0.1964\n",
      "Epoch: 007/015 | Train: 93.08% | Validation: 93.00%\n",
      "Time elapsed: 4.09 min\n",
      "Epoch: 008/015 | Batch 0000/0312 | Loss: 0.1750\n",
      "Epoch: 008/015 | Batch 0100/0312 | Loss: 0.1098\n",
      "Epoch: 008/015 | Batch 0200/0312 | Loss: 0.1474\n",
      "Epoch: 008/015 | Batch 0300/0312 | Loss: 0.1893\n",
      "Epoch: 008/015 | Train: 95.39% | Validation: 95.26%\n",
      "Time elapsed: 4.64 min\n",
      "Epoch: 009/015 | Batch 0000/0312 | Loss: 0.1213\n",
      "Epoch: 009/015 | Batch 0100/0312 | Loss: 0.1880\n",
      "Epoch: 009/015 | Batch 0200/0312 | Loss: 0.1315\n",
      "Epoch: 009/015 | Batch 0300/0312 | Loss: 0.2470\n",
      "Epoch: 009/015 | Train: 96.65% | Validation: 96.36%\n",
      "Time elapsed: 5.20 min\n",
      "Epoch: 010/015 | Batch 0000/0312 | Loss: 0.0607\n",
      "Epoch: 010/015 | Batch 0100/0312 | Loss: 0.0757\n",
      "Epoch: 010/015 | Batch 0200/0312 | Loss: 0.0690\n",
      "Epoch: 010/015 | Batch 0300/0312 | Loss: 0.1687\n",
      "Epoch: 010/015 | Train: 97.77% | Validation: 97.94%\n",
      "Time elapsed: 5.76 min\n",
      "Epoch: 011/015 | Batch 0000/0312 | Loss: 0.0852\n",
      "Epoch: 011/015 | Batch 0100/0312 | Loss: 0.0574\n",
      "Epoch: 011/015 | Batch 0200/0312 | Loss: 0.0602\n",
      "Epoch: 011/015 | Batch 0300/0312 | Loss: 0.1601\n",
      "Epoch: 011/015 | Train: 98.24% | Validation: 98.22%\n",
      "Time elapsed: 6.32 min\n",
      "Epoch: 012/015 | Batch 0000/0312 | Loss: 0.0272\n",
      "Epoch: 012/015 | Batch 0100/0312 | Loss: 0.0635\n",
      "Epoch: 012/015 | Batch 0200/0312 | Loss: 0.0694\n",
      "Epoch: 012/015 | Batch 0300/0312 | Loss: 0.0819\n",
      "Epoch: 012/015 | Train: 98.75% | Validation: 98.66%\n",
      "Time elapsed: 6.88 min\n",
      "Epoch: 013/015 | Batch 0000/0312 | Loss: 0.0227\n",
      "Epoch: 013/015 | Batch 0100/0312 | Loss: 0.0577\n",
      "Epoch: 013/015 | Batch 0200/0312 | Loss: 0.1146\n",
      "Epoch: 013/015 | Batch 0300/0312 | Loss: 0.0306\n",
      "Epoch: 013/015 | Train: 98.88% | Validation: 98.64%\n",
      "Time elapsed: 7.44 min\n",
      "Epoch: 014/015 | Batch 0000/0312 | Loss: 0.0247\n",
      "Epoch: 014/015 | Batch 0100/0312 | Loss: 0.0240\n",
      "Epoch: 014/015 | Batch 0200/0312 | Loss: 0.0361\n",
      "Epoch: 014/015 | Batch 0300/0312 | Loss: 0.0391\n",
      "Epoch: 014/015 | Train: 98.84% | Validation: 98.46%\n",
      "Time elapsed: 8.00 min\n",
      "Epoch: 015/015 | Batch 0000/0312 | Loss: 0.0267\n",
      "Epoch: 015/015 | Batch 0100/0312 | Loss: 0.0488\n",
      "Epoch: 015/015 | Batch 0200/0312 | Loss: 0.0679\n",
      "Epoch: 015/015 | Batch 0300/0312 | Loss: 0.0365\n",
      "Epoch: 015/015 | Train: 99.26% | Validation: 99.18%\n",
      "Time elapsed: 8.56 min\n",
      "Total Training Time: 8.56 min\n",
      "Test accuracy 99.18%\n"
     ]
    }
   ],
   "source": [
    "model = LSTM(input_dim=len(vocab),\n",
    "             embedding_dim=EMBEDDING_DIM,\n",
    "             hidden_dim=HIDDEN_DIM,\n",
    "             output_dim=NUM_CLASSES # could use 1 for binary classification\n",
    ")\n",
    "\n",
    "model = model.to(DEVICE)\n",
    "\n",
    "optimizer = torch.optim.Adam(model.parameters(), lr=LEARNING_RATE)\n",
    "scheduler = torch.optim.lr_scheduler.ReduceLROnPlateau(optimizer,\n",
    "                                                       factor=0.1,\n",
    "                                                       mode='max',\n",
    "                                                       verbose=True)\n",
    "\n",
    "minibatch_loss_list, train_acc_list, valid_acc_list = train_model(\n",
    "    model=model,\n",
    "    num_epochs=NUM_EPOCHS,\n",
    "    train_loader=train_loader,\n",
    "    valid_loader=valid_loader,\n",
    "    test_loader=test_loader,\n",
    "    optimizer=optimizer,\n",
    "    device=DEVICE,\n",
    "    logging_interval=100)"
   ]
  },
  {
   "cell_type": "code",
   "execution_count": 18,
   "metadata": {},
   "outputs": [
    {
     "data": {
      "image/png": "[encoded data removed]",
      "text/plain": [
       "<Figure size 640x480 with 2 Axes>"
      ]
     },
     "metadata": {},
     "output_type": "display_data"
    },
    {
     "data": {
      "image/png": "[encoded data removed]",
      "text/plain": [
       "<Figure size 640x480 with 1 Axes>"
      ]
     },
     "metadata": {},
     "output_type": "display_data"
    }
   ],
   "source": [
    "plot_training_loss(minibatch_loss_list=minibatch_loss_list,\n",
    "                   num_epochs=NUM_EPOCHS,\n",
    "                   iter_per_epoch=len(train_loader),\n",
    "                   results_dir=None,\n",
    "                   averaging_iterations=100)\n",
    "plt.show()\n",
    "\n",
    "plot_accuracy(train_acc_list=train_acc_list,\n",
    "              valid_acc_list=valid_acc_list,\n",
    "              results_dir=None)\n",
    "plt.show()"
   ]
  },
  {
   "cell_type": "code",
   "execution_count": 19,
   "metadata": {},
   "outputs": [
    {
     "name": "stdout",
     "output_type": "stream",
     "text": [
      "Probability positive:\n"
     ]
    },
    {
     "data": {
      "text/plain": [
       "0.9927759"
      ]
     },
     "execution_count": 19,
     "metadata": {},
     "output_type": "execute_result"
    }
   ],
   "source": [
    "def predict_sentiment(model, sentence):\n",
    "\n",
    "    model.eval()\n",
    "    tokenized = tokenizer(sentence)\n",
    "    indexed = [vocab[t] for t in tokenized]\n",
    "    length = [len(indexed)]\n",
    "    tensor = torch.LongTensor(indexed).to(DEVICE)\n",
    "    tensor = tensor.unsqueeze(1)\n",
    "    length_tensor = torch.LongTensor(length)\n",
    "    prediction = F.softmax(model(tensor), dim=1)\n",
    "    return prediction.to(\"cpu\").squeeze(dim=0).detach().numpy()\n",
    "\n",
    "print('Probability positive:')\n",
    "predict_sentiment(model, \"This is such an awesome movie, I really love it!\")[1]"
   ]
  },
  {
   "cell_type": "code",
   "execution_count": 28,
   "metadata": {},
   "outputs": [
    {
     "name": "stdout",
     "output_type": "stream",
     "text": [
      "Probability positive:\n",
      "0.99088585\n",
      "Probability positive:\n"
     ]
    },
    {
     "data": {
      "text/plain": [
       "0.012482532"
      ]
     },
     "execution_count": 28,
     "metadata": {},
     "output_type": "execute_result"
    }
   ],
   "source": [
    "print('Probability positive:')\n",
    "print(predict_sentiment(model, \"That fight scene was dope. solid\")[1])\n",
    "\n",
    "print('Probability positive:')\n",
    "predict_sentiment(model, \"not my cup of tea\")[1]"
   ]
  }
 ],
 "metadata": {
  "kernelspec": {
   "display_name": "env",
   "language": "python",
   "name": "python3"
  },
  "language_info": {
   "codemirror_mode": {
    "name": "ipython",
    "version": 3
   },
   "file_extension": ".py",
   "mimetype": "text/x-python",
   "name": "python",
   "nbconvert_exporter": "python",
   "pygments_lexer": "ipython3",
   "version": "3.10.12"
  }
 },
 "nbformat": 4,
 "nbformat_minor": 2
}
