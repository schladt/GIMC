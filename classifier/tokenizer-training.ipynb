{
 "cells": [
  {
   "cell_type": "markdown",
   "metadata": {},
   "source": [
    "# Tokenizer Training\n",
    "\n",
    "The tokenizer will be trained using the `ByteLevelBPETokenizer` algorithm from the `tokenizers` library. Training data is from GMIC dataset."
   ]
  },
  {
   "cell_type": "markdown",
   "metadata": {},
   "source": [
    "### Imports"
   ]
  },
  {
   "cell_type": "code",
   "execution_count": 1,
   "metadata": {},
   "outputs": [],
   "source": [
    "# imports\n",
    "%load_ext autoreload\n",
    "%autoreload 2\n",
    "\n",
    "import os\n",
    "import random\n",
    "import json\n",
    "\n",
    "import torch"
   ]
  },
  {
   "cell_type": "markdown",
   "metadata": {},
   "source": [
    "### Settings"
   ]
  },
  {
   "cell_type": "code",
   "execution_count": 2,
   "metadata": {},
   "outputs": [],
   "source": [
    "with open ('../settings.json') as f:\n",
    "    settings = json.load(f)\n",
    "\n",
    "DATA_DIR = os.path.join(settings['data_path'], 'classifier')\n",
    "os.makedirs(DATA_DIR, exist_ok=True)\n",
    "CHECKPOINT_DIR = os.path.join(DATA_DIR, \"model_data\")\n",
    "os.makedirs(CHECKPOINT_DIR, exist_ok=True)\n",
    "CHECKPOINT_PREFIX = os.path.join(CHECKPOINT_DIR, \"tokenizer\")\n",
    "\n",
    "db_uri = settings['sqlalchemy_database_uri']\n",
    "\n",
    "RANDOM_SEED = 4321\n",
    "torch.manual_seed(RANDOM_SEED)\n",
    "random.seed(RANDOM_SEED)\n",
    "torch.manual_seed(RANDOM_SEED)\n",
    "torch.backends.cudnn.deterministic = True\n",
    "\n",
    "VOCABULARY_SIZE = 20000\n",
    "DROPOUT = 0.25\n",
    "LEARNING_RATE = 0.0001\n",
    "EMBEDDING_DIM = 128\n",
    "BATCH_SIZE = 32\n",
    "NUM_EPOCHS = 25\n",
    "NUM_CLASSES = 4\n",
    "DEVICE = torch.device('cuda:0' if torch.cuda.is_available() else 'cpu')"
   ]
  },
  {
   "cell_type": "markdown",
   "metadata": {},
   "source": [
    "### Get Data from the Database"
   ]
  },
  {
   "cell_type": "code",
   "execution_count": null,
   "metadata": {},
   "outputs": [
    {
     "name": "stderr",
     "output_type": "stream",
     "text": [
      "Loading raw data:   0%|          | 0/4 [00:00<?, ?it/s]"
     ]
    },
    {
     "name": "stdout",
     "output_type": "stream",
     "text": [
      "Found 10166 AgentTesla reports\n"
     ]
    },
    {
     "name": "stderr",
     "output_type": "stream",
     "text": [
      "Reading AgentTesla reports: 100%|██████████| 10166/10166 [03:44<00:00, 45.26it/s]\n",
      "Loading raw data:  25%|██▌       | 1/4 [03:44<11:14, 224.76s/it]"
     ]
    },
    {
     "name": "stdout",
     "output_type": "stream",
     "text": [
      "Found 10246 RedLineStealer reports\n"
     ]
    },
    {
     "name": "stderr",
     "output_type": "stream",
     "text": [
      "Reading RedLineStealer reports: 100%|██████████| 10246/10246 [03:43<00:00, 45.81it/s]\n",
      "Loading raw data:  50%|█████     | 2/4 [07:28<07:28, 224.16s/it]"
     ]
    },
    {
     "name": "stdout",
     "output_type": "stream",
     "text": [
      "Found 10247 RaccoonStealer reports\n"
     ]
    },
    {
     "name": "stderr",
     "output_type": "stream",
     "text": [
      "Reading RaccoonStealer reports: 100%|██████████| 10247/10247 [01:48<00:00, 94.70it/s]\n",
      "Loading raw data:  75%|███████▌  | 3/4 [09:16<02:51, 171.25s/it]"
     ]
    },
    {
     "name": "stdout",
     "output_type": "stream",
     "text": [
      "Found 9714 benign reports\n"
     ]
    },
    {
     "name": "stderr",
     "output_type": "stream",
     "text": [
      "Reading benign reports: 100%|██████████| 9714/9714 [02:19<00:00, 69.56it/s] \n",
      "Loading raw data: 100%|██████████| 4/4 [11:36<00:00, 174.13s/it]\n"
     ]
    }
   ],
   "source": [
    "# from utils.mal_data import get_raw_data\n",
    "# signatures = ['AgentTesla', 'RedLineStealer', 'RaccoonStealer', 'benign']\n",
    "# reports = get_raw_data(signatures)"
   ]
  },
  {
   "cell_type": "code",
   "execution_count": null,
   "metadata": {},
   "outputs": [],
   "source": []
  },
  {
   "cell_type": "code",
   "execution_count": null,
   "metadata": {},
   "outputs": [
    {
     "name": "stderr",
     "output_type": "stream",
     "text": [
      "Processing reports: 100%|██████████| 40373/40373 [09:09<00:00, 73.41it/s]   \n"
     ]
    }
   ],
   "source": [
    "# from tqdm import tqdm\n",
    "\n",
    "# # make sure that CHECKPOINT_PREFIX exists\n",
    "# os.makedirs(CHECKPOINT_PREFIX, exist_ok=True)\n",
    "\n",
    "# text_data = []\n",
    "# file_count = 0\n",
    "# for report in tqdm(reports, desc=\"Processing reports\"):\n",
    "#     # clean up whitespace\n",
    "#     report['text'] = report['text'].replace('\\n', ' ')\n",
    "#     report['text'] = report['text'].replace('\\r', ' ')\n",
    "#     report['text'] = report['text'].replace('\\t', ' ')\n",
    "#     report['text'] = report['text'].replace('  ', ' ')\n",
    "#     report['text'] = report['text'].replace('   ', ' ')\n",
    "#     report['text'] = report['text'].replace('    ', ' ')\n",
    "    \n",
    "#     # add to text data\n",
    "#     text_data.append(report['text'])\n",
    "\n",
    "#     # write to file every 5000 lines\n",
    "#     if len(text_data) >= 5000:\n",
    "#         with open(os.path.join(CHECKPOINT_PREFIX, f\"text_{file_count}.txt\"), 'w') as f:\n",
    "#             f.write('\\n'.join(text_data))\n",
    "#         file_count += 1\n",
    "#         text_data = []\n",
    "    \n",
    "# # save last file\n",
    "# with open(os.path.join(CHECKPOINT_PREFIX, f\"text_{file_count}.txt\"), 'w') as f:\n",
    "#     f.write('\\n'.join(text_data))"
   ]
  }
 ],
 "metadata": {
  "kernelspec": {
   "display_name": "env",
   "language": "python",
   "name": "python3"
  },
  "language_info": {
   "codemirror_mode": {
    "name": "ipython",
    "version": 3
   },
   "file_extension": ".py",
   "mimetype": "text/x-python",
   "name": "python",
   "nbconvert_exporter": "python",
   "pygments_lexer": "ipython3",
   "version": "3.12.3"
  }
 },
 "nbformat": 4,
 "nbformat_minor": 2
}
