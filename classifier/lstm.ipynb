{
 "cells": [
  {
   "cell_type": "markdown",
   "metadata": {},
   "source": [
    "### Imports"
   ]
  },
  {
   "cell_type": "code",
   "execution_count": 113,
   "metadata": {},
   "outputs": [],
   "source": [
    "import torch\n",
    "import torch.nn.functional as F\n",
    "import time\n",
    "import random\n",
    "import json\n",
    "from tqdm import tqdm\n",
    "import os\n",
    "import pickle\n",
    "\n",
    "from torchtext.data.utils import get_tokenizer\n",
    "\n",
    "from torch.utils.data import DataLoader \n",
    "from torch.nn.utils.rnn import pad_sequence\n",
    "from torch.utils.data import Sampler\n",
    "\n",
    "from sqlalchemy.orm import Session\n",
    "from sqlalchemy import create_engine, select, MetaData, Table"
   ]
  },
  {
   "cell_type": "markdown",
   "metadata": {},
   "source": [
    "### Settings and Hyperparameters"
   ]
  },
  {
   "cell_type": "code",
   "execution_count": 2,
   "metadata": {},
   "outputs": [],
   "source": [
    "with open ('../settings.json') as f:\n",
    "    settings = json.load(f)\n",
    "\n",
    "db_uri = settings['sqlalchemy_database_uri']\n",
    "\n",
    "RANDOM_SEED = 4444\n",
    "torch.manual_seed(RANDOM_SEED)\n",
    "random.seed(RANDOM_SEED)\n",
    "torch.manual_seed(RANDOM_SEED)\n",
    "torch.backends.cudnn.deterministic = True\n",
    "\n",
    "VOCABULARY_SIZE = 20000\n",
    "LEARNING_RATE = 0.01\n",
    "BATCH_SIZE = 16\n",
    "NUM_EPOCHS = 4\n",
    "DEVICE = torch.device('cuda:0' if torch.cuda.is_available() else 'cpu')\n",
    "\n",
    "EMBEDDING_DIM = 256\n",
    "HIDDEN_DIM = 512\n",
    "NUM_CLASSES = 2"
   ]
  },
  {
   "cell_type": "markdown",
   "metadata": {},
   "source": [
    "### Define Tokenizer"
   ]
  },
  {
   "cell_type": "code",
   "execution_count": 3,
   "metadata": {},
   "outputs": [],
   "source": [
    "def custom_tokenizer(line):\n",
    "    line = line.lower()\n",
    "    line = line.replace(',', ' ')\n",
    "    line = line.replace('\\\\', ' ')\n",
    "    line = line.replace('\\\\\\\\', ' ')\n",
    "    return line.split()\n",
    "\n",
    "tokenizer = get_tokenizer(tokenizer=custom_tokenizer)"
   ]
  },
  {
   "cell_type": "markdown",
   "metadata": {},
   "source": [
    "### Load Data"
   ]
  },
  {
   "cell_type": "code",
   "execution_count": 4,
   "metadata": {},
   "outputs": [
    {
     "name": "stdout",
     "output_type": "stream",
     "text": [
      "Loading reports from file\n"
     ]
    }
   ],
   "source": [
    "# check if json files exist\n",
    "if not os.path.isfile('reports.json'):\n",
    "    # connect to database\n",
    "    engine = create_engine(db_uri)\n",
    "\n",
    "    # load tables\n",
    "    metadata_obj = MetaData()\n",
    "    conn = engine.connect()\n",
    "\n",
    "    Tag = Table('tag', metadata_obj, autoload_with=engine)\n",
    "    SampleTag = Table('sample_tag', metadata_obj, autoload_with=engine)\n",
    "    Analysis = Table('analysis', metadata_obj, autoload_with=engine)\n",
    "\n",
    "    # Start a session\n",
    "    session = Session(engine)\n",
    "\n",
    "    # get all reports with the tag 'file_search_dfs'\n",
    "    stmt = select(Analysis.c.report).join(SampleTag, Tag.c.id == SampleTag.c.tag_id).join(\n",
    "        Analysis, SampleTag.c.sample_id == Analysis.c.sample).where(\n",
    "        Tag.c.value == 'file_search_dfs'\n",
    "    )\n",
    "\n",
    "    results = session.execute(stmt).fetchall()\n",
    "    dfs_report_paths = [r[0] for r in results] \n",
    "\n",
    "    # get all reports with the tag 'file_search_bfs'\n",
    "    stmt = select(Analysis.c.report).join(SampleTag, Tag.c.id == SampleTag.c.tag_id).join(\n",
    "        Analysis, SampleTag.c.sample_id == Analysis.c.sample).where(\n",
    "        Tag.c.value == 'file_search_bfs'\n",
    "    )\n",
    "\n",
    "    results = session.execute(stmt).fetchall()\n",
    "    bfs_report_paths = [r[0] for r in results]\n",
    "\n",
    "    # Close the session\n",
    "    session.close()\n",
    "\n",
    "    # fetch reports\n",
    "    bfs_reports = []\n",
    "    for report_path in tqdm(bfs_report_paths, desc=\"Reading BFS reports\"):\n",
    "        with open(report_path) as f:\n",
    "            bfs_reports.append(f.read())\n",
    "\n",
    "    dfs_reports = []\n",
    "    for report_path in tqdm(dfs_report_paths, desc=\"Reading DFS reports\"):\n",
    "        with open(report_path) as f:\n",
    "            dfs_reports.append(f.read())\n",
    "\n",
    "    # combine reports\n",
    "    reports = [[r, 'bfs'] for r in bfs_reports] + [[r, 'dfs'] for r in dfs_reports]\n",
    "\n",
    "    # shuffle reports\n",
    "    random.shuffle(reports)\n",
    "\n",
    "    # Tokenize reports\n",
    "    i = 0\n",
    "    for report in tqdm(reports, desc=\"Tokenizing reports\"):\n",
    "        dynamic_report = json.loads(report[0])['dynamic']\n",
    "        dynamic_report_tokenized = []\n",
    "        for item in dynamic_report:\n",
    "            line = f\"{item['Operation']}, {item['Path']}, {item['Result']}\"\n",
    "            dynamic_report_tokenized.extend(tokenizer(line))\n",
    "        reports[i][0] = dynamic_report_tokenized\n",
    "        i += 1\n",
    "\n",
    "    # json dump reports to file\n",
    "    print(\"Dumping reports to file\")\n",
    "    with open('reports.json', 'w') as f:\n",
    "        json.dump(reports, f)\n",
    "\n",
    "else:\n",
    "    print(\"Loading reports from file\")\n",
    "    # load reports from file\n",
    "    with open('reports.json') as f:\n",
    "        reports = json.load(f)"
   ]
  },
  {
   "cell_type": "code",
   "execution_count": 5,
   "metadata": {},
   "outputs": [],
   "source": [
    "reports = [[r[0], r[1]] for r in reports if r[1] in ['bfs', 'dfs']]"
   ]
  },
  {
   "cell_type": "markdown",
   "metadata": {},
   "source": [
    "### Split Data"
   ]
  },
  {
   "cell_type": "code",
   "execution_count": 6,
   "metadata": {},
   "outputs": [
    {
     "name": "stdout",
     "output_type": "stream",
     "text": [
      "Num Train: 16123\n",
      "Num Validate: 2015\n",
      "Num Test: 2016\n"
     ]
    }
   ],
   "source": [
    "# Split into training, validation, and test sets\n",
    "from torchdata.datapipes.iter import IterableWrapper\n",
    "\n",
    "\n",
    "# Get the number of rows in dataset\n",
    "N_ROWS = len(list(dp)) \n",
    "N_train = int(N_ROWS * 0.8)\n",
    "N_valid = int(N_ROWS * 0.1)\n",
    "N_test = N_ROWS - N_train - N_valid\n",
    "\n",
    "# Split into training and val datapipes early on. Will build vocabulary from training datapipe only.\n",
    "train_dp, valid_dp, test_dp = dp.random_split(total_length=N_ROWS, weights={\"train\": N_train, \"valid\": N_valid, \"test\": N_test}, seed=RANDOM_SEED)\n",
    "\n",
    "print(f'Num Train: {len(train_dp)}')\n",
    "print(f'Num Validate: {len(valid_dp)}')\n",
    "print(f'Num Test: {len(test_dp)}')"
   ]
  },
  {
   "cell_type": "markdown",
   "metadata": {},
   "source": [
    "### Build Vocabulary"
   ]
  },
  {
   "cell_type": "code",
   "execution_count": 7,
   "metadata": {},
   "outputs": [],
   "source": [
    "# build vocab\n",
    "from torchtext.vocab import build_vocab_from_iterator\n",
    "def yield_tokens(data_iter):\n",
    "    for text, _ in data_iter:\n",
    "        yield text\n",
    "\n",
    "vocab = build_vocab_from_iterator(yield_tokens(train_dp), specials=[\"<unk>\", \"<pad>\"], max_tokens=VOCABULARY_SIZE)\n",
    "vocab.set_default_index(vocab[\"<unk>\"])\n",
    "PADDING_VALUE=vocab['<PAD>']"
   ]
  },
  {
   "cell_type": "code",
   "execution_count": 8,
   "metadata": {},
   "outputs": [
    {
     "name": "stdout",
     "output_type": "stream",
     "text": [
      "input to the text_transform: here is an example\n",
      "output of the text_transform: [105, 136, 3, 94, 116, 3, 51, 50, 2, 7, 5, 6, 4, 8, 95, 3, 51, 50, 2, 38, 52, 121, 3, 13, 2, 38, 43, 44, 3, 118, 2, 38, 43, 44, 3, 26, 2, 38, 43, 44, 3, 26, 2, 38, 43, 44, 3, 14, 2, 38, 43, 44, 3, 28, 16, 18, 17, 19, 30, 29, 40, 28, 16, 18, 17, 19, 30, 29, 3, 34, 16, 18, 17, 19, 30, 29, 132, 32, 33, 31, 41, 16, 18, 17, 19, 30, 29, 3, 28, 16, 18, 17, 19, 30, 29, 113, 108, 40, 28, 16, 18, 17, 19, 30, 29, 113, 108, 32, 33, 31, 28, 16, 18, 17, 19, 30, 29, 40, 28, 16, 18, 17, 19, 30, 29, 3, 34, 16, 18, 17, 19, 30, 29, 104, 32, 33, 31, 41, 16, 18, 17, 19, 30, 29, 3, 13, 2, 7, 5, 6, 4, 8, 3, 51, 50, 2, 38, 52, 123, 3, 51, 50, 2, 38, 52, 119, 3, 34, 16, 18, 17, 19, 102, 98, 127, 32, 33, 31, 28, 16, 18, 17, 19, 115, 111, 109, 40, 28, 16, 18, 17, 19, 115, 111, 109, 32, 33, 31, 34, 16, 18, 17, 19, 102, 98, 126, 32, 33, 31, 28, 16, 18, 17, 19, 48, 46, 40, 28, 16, 18, 17, 19, 48, 46, 3, 34, 16, 18, 17, 19, 48, 46, 134, 32, 33, 31, 34, 16, 18, 17, 19, 48, 46, 135, 3, 41, 16, 18, 17, 19, 48, 46, 3, 34, 16, 18, 17, 19, 102, 98, 129, 32, 33, 31, 28, 16, 18, 17, 19, 112, 110, 40, 28, 16, 18, 17, 19, 112, 110, 32, 33, 31, 28, 16, 18, 17, 19, 114, 107, 106, 40, 28, 16, 18, 17, 19, 114, 107, 106, 32, 33, 31, 28, 16, 90, 91, 89, 38, 93, 92, 3, 34, 16, 90, 91, 89, 38, 93, 92, 133, 32, 33, 31, 41, 16, 90, 91, 89, 38, 93, 92, 3, 28, 117, 90, 91, 89, 38, 93, 92, 32, 33, 31, 28, 16, 18, 17, 19, 42, 40, 28, 16, 18, 17, 19, 42, 3, 34, 16, 18, 17, 19, 42, 131, 3, 41, 16, 18, 17, 19, 42, 3, 28, 16, 18, 17, 19, 42, 40, 28, 16, 18, 17, 19, 42, 3, 34, 16, 18, 17, 19, 42, 137, 32, 33, 31, 41, 16, 18, 17, 19, 42, 3, 51, 50, 2, 38, 52, 122, 3, 94, 116, 3, 28, 16, 18, 17, 19, 45, 47, 49, 40, 28, 16, 18, 17, 19, 45, 47, 49, 3, 34, 16, 18, 17, 19, 45, 47, 49, 124, 3, 34, 16, 18, 17, 19, 45, 47, 49, 125, 3, 28, 16, 18, 17, 19, 30, 29, 40, 28, 16, 18, 17, 19, 30, 29, 3, 34, 16, 18, 17, 19, 30, 29, 104, 32, 33, 31, 41, 16, 18, 17, 19, 30, 29, 3, 120, 2, 7, 5, 6, 4, 8, 95, 3, 13, 2, 7, 5, 6, 4, 8, 9, 3, 26, 2, 27, 3, 25, 2, 7, 5, 6, 4, 8, 9, 39, 3, 25, 2, 7, 5, 6, 4, 8, 9, 3, 23, 2, 7, 5, 6, 4, 8, 9, 10, 21, 22, 20, 13, 2, 7, 5, 6, 4, 8, 9, 10, 3, 24, 2, 7, 5, 6, 4, 8, 9, 10, 3, 14, 2, 7, 5, 6, 4, 8, 9, 10, 3, 15, 2, 7, 5, 6, 4, 8, 9, 10, 3, 23, 2, 7, 5, 6, 4, 8, 9, 11, 21, 22, 20, 13, 2, 7, 5, 6, 4, 8, 9, 11, 3, 24, 2, 7, 5, 6, 4, 8, 9, 11, 3, 14, 2, 7, 5, 6, 4, 8, 9, 11, 3, 15, 2, 7, 5, 6, 4, 8, 9, 11, 3, 23, 2, 7, 5, 6, 4, 8, 9, 12, 21, 22, 20, 13, 2, 7, 5, 6, 4, 8, 9, 12, 3, 26, 2, 27, 3, 24, 2, 7, 5, 6, 4, 8, 9, 12, 3, 14, 2, 7, 5, 6, 4, 8, 9, 12, 3, 15, 2, 7, 5, 6, 4, 8, 9, 12, 3, 25, 2, 7, 5, 6, 4, 8, 9, 35, 37, 36, 14, 2, 7, 5, 6, 4, 8, 9, 3, 15, 2, 7, 5, 6, 4, 8, 9, 3, 28, 16, 18, 17, 19, 30, 29, 40, 28, 16, 18, 17, 19, 30, 29, 3, 34, 16, 18, 17, 19, 30, 29, 104, 32, 33, 31, 41, 16, 18, 17, 19, 30, 29, 3, 13, 2, 7, 5, 6, 4, 8, 9, 12, 3, 25, 2, 7, 5, 6, 4, 8, 9, 12, 39, 3, 25, 2, 7, 5, 6, 4, 8, 9, 12, 3, 23, 2, 7, 5, 6, 4, 8, 9, 12, 10, 21, 22, 20, 13, 2, 7, 5, 6, 4, 8, 9, 12, 10, 3, 26, 2, 27, 3, 24, 2, 7, 5, 6, 4, 8, 9, 12, 10, 3, 14, 2, 7, 5, 6, 4, 8, 9, 12, 10, 3, 15, 2, 7, 5, 6, 4, 8, 9, 12, 10, 3, 23, 2, 7, 5, 6, 4, 8, 9, 12, 11, 21, 22, 20, 13, 2, 7, 5, 6, 4, 8, 9, 12, 11, 3, 26, 2, 27, 3, 24, 2, 7, 5, 6, 4, 8, 9, 12, 11, 3, 14, 2, 7, 5, 6, 4, 8, 9, 12, 11, 3, 15, 2, 7, 5, 6, 4, 8, 9, 12, 11, 3, 23, 2, 7, 5, 6, 4, 8, 9, 12, 12, 21, 22, 20, 13, 2, 7, 5, 6, 4, 8, 9, 12, 12, 3, 26, 2, 27, 3, 24, 2, 7, 5, 6, 4, 8, 9, 12, 12, 3, 14, 2, 7, 5, 6, 4, 8, 9, 12, 12, 3, 15, 2, 7, 5, 6, 4, 8, 9, 12, 12, 3, 23, 2, 7, 5, 6, 4, 8, 9, 12, 85, 21, 22, 20, 13, 2, 7, 5, 6, 4, 8, 9, 12, 85, 3, 26, 2, 27, 3, 24, 2, 7, 5, 6, 4, 8, 9, 12, 85, 3, 14, 2, 7, 5, 6, 4, 8, 9, 12, 85, 3, 15, 2, 7, 5, 6, 4, 8, 9, 12, 85, 3, 23, 2, 7, 5, 6, 4, 8, 9, 12, 86, 21, 22, 20, 13, 2, 7, 5, 6, 4, 8, 9, 12, 86, 3, 24, 2, 7, 5, 6, 4, 8, 9, 12, 86, 3, 14, 2, 7, 5, 6, 4, 8, 9, 12, 86, 3, 15, 2, 7, 5, 6, 4, 8, 9, 12, 86, 3, 23, 2, 7, 5, 6, 4, 8, 9, 12, 87, 21, 22, 20, 13, 2, 7, 5, 6, 4, 8, 9, 12, 87, 3, 26, 2, 27, 3, 24, 2, 7, 5, 6, 4, 8, 9, 12, 87, 3, 14, 2, 7, 5, 6, 4, 8, 9, 12, 87, 3, 15, 2, 7, 5, 6, 4, 8, 9, 12, 87, 3, 25, 2, 7, 5, 6, 4, 8, 9, 12, 35, 37, 36, 14, 2, 7, 5, 6, 4, 8, 9, 12, 3, 15, 2, 7, 5, 6, 4, 8, 9, 12, 3, 13, 2, 7, 5, 6, 4, 8, 9, 12, 12, 3, 25, 2, 7, 5, 6, 4, 8, 9, 12, 12, 39, 3, 25, 2, 7, 5, 6, 4, 8, 9, 12, 12, 3, 23, 2, 7, 5, 6, 4, 8, 9, 12, 12, 80, 21, 22, 20, 13, 2, 7, 5, 6, 4, 8, 9, 12, 12, 80, 3, 26, 2, 27, 3, 24, 2, 7, 5, 6, 4, 8, 9, 12, 12, 80, 3, 14, 2, 7, 5, 6, 4, 8, 9, 12, 12, 80, 3, 15, 2, 7, 5, 6, 4, 8, 9, 12, 12, 80, 3, 23, 2, 7, 5, 6, 4, 8, 9, 12, 12, 81, 21, 22, 20, 13, 2, 7, 5, 6, 4, 8, 9, 12, 12, 81, 3, 26, 2, 27, 3, 24, 2, 7, 5, 6, 4, 8, 9, 12, 12, 81, 3, 14, 2, 7, 5, 6, 4, 8, 9, 12, 12, 81, 3, 15, 2, 7, 5, 6, 4, 8, 9, 12, 12, 81, 3, 23, 2, 7, 5, 6, 4, 8, 9, 12, 12, 82, 21, 22, 20, 13, 2, 7, 5, 6, 4, 8, 9, 12, 12, 82, 3, 26, 2, 27, 3, 24, 2, 7, 5, 6, 4, 8, 9, 12, 12, 82, 3, 14, 2, 7, 5, 6, 4, 8, 9, 12, 12, 82, 3, 15, 2, 7, 5, 6, 4, 8, 9, 12, 12, 82, 3, 25, 2, 7, 5, 6, 4, 8, 9, 12, 12, 35, 37, 36, 14, 2, 7, 5, 6, 4, 8, 9, 12, 12, 3, 15, 2, 7, 5, 6, 4, 8, 9, 12, 12, 3, 13, 2, 7, 5, 6, 4, 8, 9, 12, 11, 3, 25, 2, 7, 5, 6, 4, 8, 9, 12, 11, 39, 3, 25, 2, 7, 5, 6, 4, 8, 9, 12, 11, 3, 23, 2, 7, 5, 6, 4, 8, 9, 12, 11, 77, 21, 22, 20, 13, 2, 7, 5, 6, 4, 8, 9, 12, 11, 77, 3, 26, 2, 27, 3, 24, 2, 7, 5, 6, 4, 8, 9, 12, 11, 77, 3, 14, 2, 7, 5, 6, 4, 8, 9, 12, 11, 77, 3, 15, 2, 7, 5, 6, 4, 8, 9, 12, 11, 77, 3, 23, 2, 7, 5, 6, 4, 8, 9, 12, 11, 78, 21, 22, 20, 13, 2, 7, 5, 6, 4, 8, 9, 12, 11, 78, 3, 26, 2, 27, 3, 24, 2, 7, 5, 6, 4, 8, 9, 12, 11, 78, 3, 14, 2, 7, 5, 6, 4, 8, 9, 12, 11, 78, 3, 15, 2, 7, 5, 6, 4, 8, 9, 12, 11, 78, 3, 23, 2, 7, 5, 6, 4, 8, 9, 12, 11, 79, 21, 22, 20, 13, 2, 7, 5, 6, 4, 8, 9, 12, 11, 79, 3, 26, 2, 27, 3, 24, 2, 7, 5, 6, 4, 8, 9, 12, 11, 79, 3, 14, 2, 7, 5, 6, 4, 8, 9, 12, 11, 79, 3, 15, 2, 7, 5, 6, 4, 8, 9, 12, 11, 79, 3, 25, 2, 7, 5, 6, 4, 8, 9, 12, 11, 35, 37, 36, 14, 2, 7, 5, 6, 4, 8, 9, 12, 11, 3, 15, 2, 7, 5, 6, 4, 8, 9, 12, 11, 3, 13, 2, 7, 5, 6, 4, 8, 9, 12, 10, 3, 25, 2, 7, 5, 6, 4, 8, 9, 12, 10, 39, 3, 25, 2, 7, 5, 6, 4, 8, 9, 12, 10, 3, 23, 2, 7, 5, 6, 4, 8, 9, 12, 10, 73, 21, 22, 20, 13, 2, 7, 5, 6, 4, 8, 9, 12, 10, 73, 3, 26, 2, 27, 3, 24, 2, 7, 5, 6, 4, 8, 9, 12, 10, 73, 3, 14, 2, 7, 5, 6, 4, 8, 9, 12, 10, 73, 3, 15, 2, 7, 5, 6, 4, 8, 9, 12, 10, 73, 3, 23, 2, 7, 5, 6, 4, 8, 9, 12, 10, 74, 21, 22, 20, 13, 2, 7, 5, 6, 4, 8, 9, 12, 10, 74, 3, 26, 2, 27, 3, 24, 2, 7, 5, 6, 4, 8, 9, 12, 10, 74, 3, 14, 2, 7, 5, 6, 4, 8, 9, 12, 10, 74, 3, 15, 2, 7, 5, 6, 4, 8, 9, 12, 10, 74, 3, 23, 2, 7, 5, 6, 4, 8, 9, 12, 10, 75, 21, 22, 20, 13, 2, 7, 5, 6, 4, 8, 9, 12, 10, 75, 3, 26, 2, 27, 3, 24, 2, 7, 5, 6, 4, 8, 9, 12, 10, 75, 3, 14, 2, 7, 5, 6, 4, 8, 9, 12, 10, 75, 3, 15, 2, 7, 5, 6, 4, 8, 9, 12, 10, 75, 3, 25, 2, 7, 5, 6, 4, 8, 9, 12, 10, 35, 37, 36, 14, 2, 7, 5, 6, 4, 8, 9, 12, 10, 3, 15, 2, 7, 5, 6, 4, 8, 9, 12, 10, 3, 13, 2, 7, 5, 6, 4, 8, 9, 11, 3, 25, 2, 7, 5, 6, 4, 8, 9, 11, 39, 3, 25, 2, 7, 5, 6, 4, 8, 9, 11, 3, 23, 2, 7, 5, 6, 4, 8, 9, 11, 10, 21, 22, 20, 13, 2, 7, 5, 6, 4, 8, 9, 11, 10, 3, 26, 2, 27, 3, 24, 2, 7, 5, 6, 4, 8, 9, 11, 10, 3, 14, 2, 7, 5, 6, 4, 8, 9, 11, 10, 3, 15, 2, 7, 5, 6, 4, 8, 9, 11, 10, 3, 23, 2, 7, 5, 6, 4, 8, 9, 11, 11, 21, 22, 20, 13, 2, 7, 5, 6, 4, 8, 9, 11, 11, 3, 26, 2, 27, 3, 24, 2, 7, 5, 6, 4, 8, 9, 11, 11, 3, 14, 2, 7, 5, 6, 4, 8, 9, 11, 11, 3, 15, 2, 7, 5, 6, 4, 8, 9, 11, 11, 3, 23, 2, 7, 5, 6, 4, 8, 9, 11, 12, 21, 22, 20, 13, 2, 7, 5, 6, 4, 8, 9, 11, 12, 3, 26, 2, 27, 3, 24, 2, 7, 5, 6, 4, 8, 9, 11, 12, 3, 14, 2, 7, 5, 6, 4, 8, 9, 11, 12, 3, 15, 2, 7, 5, 6, 4, 8, 9, 11, 12, 3, 23, 2, 7, 5, 6, 4, 8, 9, 11, 76, 21, 22, 20, 13, 2, 7, 5, 6, 4, 8, 9, 11, 76, 3, 26, 2, 27, 3, 24, 2, 7, 5, 6, 4, 8, 9, 11, 76, 3, 14, 2, 7, 5, 6, 4, 8, 9, 11, 76, 3, 15, 2, 7, 5, 6, 4, 8, 9, 11, 76, 3, 23, 2, 7, 5, 6, 4, 8, 9, 11, 83, 21, 22, 20, 13, 2, 7, 5, 6, 4, 8, 9, 11, 83, 3, 26, 2, 27, 3, 24, 2, 7, 5, 6, 4, 8, 9, 11, 83, 3, 14, 2, 7, 5, 6, 4, 8, 9, 11, 83, 3, 15, 2, 7, 5, 6, 4, 8, 9, 11, 83, 3, 23, 2, 7, 5, 6, 4, 8, 9, 11, 84, 21, 22, 20, 13, 2, 7, 5, 6, 4, 8, 9, 11, 84, 3, 26, 2, 27, 3, 24, 2, 7, 5, 6, 4, 8, 9, 11, 84, 3, 14, 2, 7, 5, 6, 4, 8, 9, 11, 84, 3, 15, 2, 7, 5, 6, 4, 8, 9, 11, 84, 3, 25, 2, 7, 5, 6, 4, 8, 9, 11, 35, 37, 36, 14, 2, 7, 5, 6, 4, 8, 9, 11, 3, 15, 2, 7, 5, 6, 4, 8, 9, 11, 3, 13, 2, 7, 5, 6, 4, 8, 9, 11, 12, 3, 25, 2, 7, 5, 6, 4, 8, 9, 11, 12, 39, 3, 25, 2, 7, 5, 6, 4, 8, 9, 11, 12, 3, 23, 2, 7, 5, 6, 4, 8, 9, 11, 12, 70, 21, 22, 20, 13, 2, 7, 5, 6, 4, 8, 9, 11, 12, 70, 3, 26, 2, 27, 3, 24, 2, 7, 5, 6, 4, 8, 9, 11, 12, 70, 3, 14, 2, 7, 5, 6, 4, 8, 9, 11, 12, 70, 3, 15, 2, 7, 5, 6, 4, 8, 9, 11, 12, 70, 3, 23, 2, 7, 5, 6, 4, 8, 9, 11, 12, 71, 21, 22, 20, 13, 2, 7, 5, 6, 4, 8, 9, 11, 12, 71, 3, 26, 2, 27, 3, 24, 2, 7, 5, 6, 4, 8, 9, 11, 12, 71, 3, 14, 2, 7, 5, 6, 4, 8, 9, 11, 12, 71, 3, 15, 2, 7, 5, 6, 4, 8, 9, 11, 12, 71, 3, 23, 2, 7, 5, 6, 4, 8, 9, 11, 12, 72, 21, 22, 20, 13, 2, 7, 5, 6, 4, 8, 9, 11, 12, 72, 3, 24, 2, 7, 5, 6, 4, 8, 9, 11, 12, 72, 3, 14, 2, 7, 5, 6, 4, 8, 9, 11, 12, 72, 3, 15, 2, 7, 5, 6, 4, 8, 9, 11, 12, 72, 3, 25, 2, 7, 5, 6, 4, 8, 9, 11, 12, 35, 37, 36, 14, 2, 7, 5, 6, 4, 8, 9, 11, 12, 3, 15, 2, 7, 5, 6, 4, 8, 9, 11, 12, 3, 13, 2, 7, 5, 6, 4, 8, 9, 11, 11, 3, 25, 2, 7, 5, 6, 4, 8, 9, 11, 11, 39, 3, 25, 2, 7, 5, 6, 4, 8, 9, 11, 11, 3, 23, 2, 7, 5, 6, 4, 8, 9, 11, 11, 67, 21, 22, 20, 13, 2, 7, 5, 6, 4, 8, 9, 11, 11, 67, 3, 26, 2, 27, 3, 24, 2, 7, 5, 6, 4, 8, 9, 11, 11, 67, 3, 14, 2, 7, 5, 6, 4, 8, 9, 11, 11, 67, 3, 15, 2, 7, 5, 6, 4, 8, 9, 11, 11, 67, 3, 23, 2, 7, 5, 6, 4, 8, 9, 11, 11, 68, 21, 22, 20, 13, 2, 7, 5, 6, 4, 8, 9, 11, 11, 68, 3, 24, 2, 7, 5, 6, 4, 8, 9, 11, 11, 68, 3, 14, 2, 7, 5, 6, 4, 8, 9, 11, 11, 68, 3, 15, 2, 7, 5, 6, 4, 8, 9, 11, 11, 68, 3, 23, 2, 7, 5, 6, 4, 8, 9, 11, 11, 69, 21, 22, 20, 13, 2, 7, 5, 6, 4, 8, 9, 11, 11, 69, 3, 26, 2, 27, 3, 24, 2, 7, 5, 6, 4, 8, 9, 11, 11, 69, 3, 14, 2, 7, 5, 6, 4, 8, 9, 11, 11, 69, 3, 15, 2, 7, 5, 6, 4, 8, 9, 11, 11, 69, 3, 25, 2, 7, 5, 6, 4, 8, 9, 11, 11, 35, 37, 36, 14, 2, 7, 5, 6, 4, 8, 9, 11, 11, 3, 15, 2, 7, 5, 6, 4, 8, 9, 11, 11, 3, 13, 2, 7, 5, 6, 4, 8, 9, 11, 10, 3, 25, 2, 7, 5, 6, 4, 8, 9, 11, 10, 39, 3, 25, 2, 7, 5, 6, 4, 8, 9, 11, 10, 3, 23, 2, 7, 5, 6, 4, 8, 9, 11, 10, 63, 21, 22, 20, 13, 2, 7, 5, 6, 4, 8, 9, 11, 10, 63, 3, 26, 2, 27, 3, 24, 2, 7, 5, 6, 4, 8, 9, 11, 10, 63, 3, 14, 2, 7, 5, 6, 4, 8, 9, 11, 10, 63, 3, 15, 2, 7, 5, 6, 4, 8, 9, 11, 10, 63, 3, 23, 2, 7, 5, 6, 4, 8, 9, 11, 10, 64, 21, 22, 20, 13, 2, 7, 5, 6, 4, 8, 9, 11, 10, 64, 3, 26, 2, 27, 3, 24, 2, 7, 5, 6, 4, 8, 9, 11, 10, 64, 3, 14, 2, 7, 5, 6, 4, 8, 9, 11, 10, 64, 3, 15, 2, 7, 5, 6, 4, 8, 9, 11, 10, 64, 3, 23, 2, 7, 5, 6, 4, 8, 9, 11, 10, 66, 21, 22, 20, 13, 2, 7, 5, 6, 4, 8, 9, 11, 10, 66, 3, 26, 2, 27, 3, 24, 2, 7, 5, 6, 4, 8, 9, 11, 10, 66, 3, 14, 2, 7, 5, 6, 4, 8, 9, 11, 10, 66, 3, 15, 2, 7, 5, 6, 4, 8, 9, 11, 10, 66, 3, 25, 2, 7, 5, 6, 4, 8, 9, 11, 10, 35, 37, 36, 14, 2, 7, 5, 6, 4, 8, 9, 11, 10, 3, 15, 2, 7, 5, 6, 4, 8, 9, 11, 10, 3, 13, 2, 7, 5, 6, 4, 8, 9, 10, 3, 25, 2, 7, 5, 6, 4, 8, 9, 10, 39, 3, 25, 2, 7, 5, 6, 4, 8, 9, 10, 3, 23, 2, 7, 5, 6, 4, 8, 9, 10, 10, 21, 22, 20, 13, 2, 7, 5, 6, 4, 8, 9, 10, 10, 3, 26, 2, 27, 3, 24, 2, 7, 5, 6, 4, 8, 9, 10, 10, 3, 14, 2, 7, 5, 6, 4, 8, 9, 10, 10, 3, 15, 2, 7, 5, 6, 4, 8, 9, 10, 10, 3, 23, 2, 7, 5, 6, 4, 8, 9, 10, 11, 21, 22, 20, 13, 2, 7, 5, 6, 4, 8, 9, 10, 11, 3, 26, 2, 27, 3, 24, 2, 7, 5, 6, 4, 8, 9, 10, 11, 3, 14, 2, 7, 5, 6, 4, 8, 9, 10, 11, 3, 15, 2, 7, 5, 6, 4, 8, 9, 10, 11, 3, 23, 2, 7, 5, 6, 4, 8, 9, 10, 12, 21, 22, 20, 13, 2, 7, 5, 6, 4, 8, 9, 10, 12, 3, 24, 2, 7, 5, 6, 4, 8, 9, 10, 12, 3, 14, 2, 7, 5, 6, 4, 8, 9, 10, 12, 3, 15, 2, 7, 5, 6, 4, 8, 9, 10, 12, 3, 23, 2, 7, 5, 6, 4, 8, 9, 10, 53, 21, 22, 20, 13, 2, 7, 5, 6, 4, 8, 9, 10, 53, 3, 26, 2, 27, 3, 24, 2, 7, 5, 6, 4, 8, 9, 10, 53, 3, 14, 2, 7, 5, 6, 4, 8, 9, 10, 53, 3, 15, 2, 7, 5, 6, 4, 8, 9, 10, 53, 3, 23, 2, 7, 5, 6, 4, 8, 9, 10, 54, 21, 22, 20, 13, 2, 7, 5, 6, 4, 8, 9, 10, 54, 3, 24, 2, 7, 5, 6, 4, 8, 9, 10, 54, 3, 14, 2, 7, 5, 6, 4, 8, 9, 10, 54, 3, 15, 2, 7, 5, 6, 4, 8, 9, 10, 54, 3, 23, 2, 7, 5, 6, 4, 8, 9, 10, 65, 21, 22, 20, 13, 2, 7, 5, 6, 4, 8, 9, 10, 65, 3, 26, 2, 27, 3, 24, 2, 7, 5, 6, 4, 8, 9, 10, 65, 3, 14, 2, 7, 5, 6, 4, 8, 9, 10, 65, 3, 15, 2, 7, 5, 6, 4, 8, 9, 10, 65, 3, 25, 2, 7, 5, 6, 4, 8, 9, 10, 35, 37, 36, 14, 2, 7, 5, 6, 4, 8, 9, 10, 3, 15, 2, 7, 5, 6, 4, 8, 9, 10, 3, 13, 2, 7, 5, 6, 4, 8, 9, 10, 12, 3, 25, 2, 7, 5, 6, 4, 8, 9, 10, 12, 39, 3, 25, 2, 7, 5, 6, 4, 8, 9, 10, 12, 3, 23, 2, 7, 5, 6, 4, 8, 9, 10, 12, 60, 21, 22, 20, 13, 2, 7, 5, 6, 4, 8, 9, 10, 12, 60, 3, 26, 2, 27, 3, 24, 2, 7, 5, 6, 4, 8, 9, 10, 12, 60, 3, 14, 2, 7, 5, 6, 4, 8, 9, 10, 12, 60, 3, 15, 2, 7, 5, 6, 4, 8, 9, 10, 12, 60, 3, 23, 2, 7, 5, 6, 4, 8, 9, 10, 12, 61, 21, 22, 20, 13, 2, 7, 5, 6, 4, 8, 9, 10, 12, 61, 3, 26, 2, 27, 3, 24, 2, 7, 5, 6, 4, 8, 9, 10, 12, 61, 3, 14, 2, 7, 5, 6, 4, 8, 9, 10, 12, 61, 3, 15, 2, 7, 5, 6, 4, 8, 9, 10, 12, 61, 3, 23, 2, 7, 5, 6, 4, 8, 9, 10, 12, 62, 21, 22, 20, 13, 2, 7, 5, 6, 4, 8, 9, 10, 12, 62, 3, 24, 2, 7, 5, 6, 4, 8, 9, 10, 12, 62, 3, 14, 2, 7, 5, 6, 4, 8, 9, 10, 12, 62, 3, 15, 2, 7, 5, 6, 4, 8, 9, 10, 12, 62, 3, 25, 2, 7, 5, 6, 4, 8, 9, 10, 12, 35, 37, 36, 14, 2, 7, 5, 6, 4, 8, 9, 10, 12, 3, 15, 2, 7, 5, 6, 4, 8, 9, 10, 12, 3, 13, 2, 7, 5, 6, 4, 8, 9, 10, 11, 3, 25, 2, 7, 5, 6, 4, 8, 9, 10, 11, 39, 3, 25, 2, 7, 5, 6, 4, 8, 9, 10, 11, 3, 23, 2, 7, 5, 6, 4, 8, 9, 10, 11, 57, 21, 22, 20, 13, 2, 7, 5, 6, 4, 8, 9, 10, 11, 57, 3, 26, 2, 27, 3, 24, 2, 7, 5, 6, 4, 8, 9, 10, 11, 57, 3, 14, 2, 7, 5, 6, 4, 8, 9, 10, 11, 57, 3, 15, 2, 7, 5, 6, 4, 8, 9, 10, 11, 57, 3, 23, 2, 7, 5, 6, 4, 8, 9, 10, 11, 58, 21, 22, 20, 13, 2, 7, 5, 6, 4, 8, 9, 10, 11, 58, 3, 26, 2, 27, 3, 24, 2, 7, 5, 6, 4, 8, 9, 10, 11, 58, 3, 14, 2, 7, 5, 6, 4, 8, 9, 10, 11, 58, 3, 15, 2, 7, 5, 6, 4, 8, 9, 10, 11, 58, 3, 23, 2, 7, 5, 6, 4, 8, 9, 10, 11, 59, 21, 22, 20, 13, 2, 7, 5, 6, 4, 8, 9, 10, 11, 59, 3, 26, 2, 27, 3, 24, 2, 7, 5, 6, 4, 8, 9, 10, 11, 59, 3, 14, 2, 7, 5, 6, 4, 8, 9, 10, 11, 59, 3, 15, 2, 7, 5, 6, 4, 8, 9, 10, 11, 59, 3, 25, 2, 7, 5, 6, 4, 8, 9, 10, 11, 35, 37, 36, 14, 2, 7, 5, 6, 4, 8, 9, 10, 11, 3, 15, 2, 7, 5, 6, 4, 8, 9, 10, 11, 3, 13, 2, 7, 5, 6, 4, 8, 9, 10, 10, 3, 25, 2, 7, 5, 6, 4, 8, 9, 10, 10, 39, 3, 25, 2, 7, 5, 6, 4, 8, 9, 10, 10, 3, 23, 2, 7, 5, 6, 4, 8, 9, 10, 10, 55, 21, 22, 20, 13, 2, 7, 5, 6, 4, 8, 9, 10, 10, 55, 3, 26, 2, 27, 3, 24, 2, 7, 5, 6, 4, 8, 9, 10, 10, 55, 3, 14, 2, 7, 5, 6, 4, 8, 9, 10, 10, 55, 3, 15, 2, 7, 5, 6, 4, 8, 9, 10, 10, 55, 3, 23, 2, 7, 5, 6, 4, 8, 9, 10, 10, 56, 21, 22, 20, 13, 2, 7, 5, 6, 4, 8, 9, 10, 10, 56, 3, 26, 2, 27, 3, 24, 2, 7, 5, 6, 4, 8, 9, 10, 10, 56, 3, 14, 2, 7, 5, 6, 4, 8, 9, 10, 10, 56, 3, 15, 2, 7, 5, 6, 4, 8, 9, 10, 10, 56, 3, 23, 2, 7, 5, 6, 4, 8, 9, 10, 10, 88, 21, 22, 20, 13, 2, 7, 5, 6, 4, 8, 9, 10, 10, 88, 3, 24, 2, 7, 5, 6, 4, 8, 9, 10, 10, 88, 3, 14, 2, 7, 5, 6, 4, 8, 9, 10, 10, 88, 3, 15, 2, 7, 5, 6, 4, 8, 9, 10, 10, 88, 3, 25, 2, 7, 5, 6, 4, 8, 9, 10, 10, 35, 37, 36, 14, 2, 7, 5, 6, 4, 8, 9, 10, 10, 3, 15, 2, 7, 5, 6, 4, 8, 9, 10, 10, 3, 94, 97, 3, 94, 97, 3, 105, 97, 3, 28, 16, 18, 17, 99, 96, 100, 101, 103, 3, 34, 16, 18, 17, 99, 96, 100, 101, 103, 128, 130, 7, 5, 6, 4, 8, 95, 32, 33, 31, 41, 16, 18, 17, 99, 96, 100, 101, 103, 3, 14, 2, 7, 5, 6, 4, 8, 3, 15, 2, 7, 5, 6, 4, 8, 3, 41, 16, 18, 17, 19, 45, 47, 49, 3]\n"
     ]
    }
   ],
   "source": [
    "text_transform = lambda x: [vocab[token] for token in x]\n",
    "label_transform = lambda x: 1 if x == 'dfs' else 0\n",
    "\n",
    "# Print out the output of text_transform\n",
    "print(\"input to the text_transform:\", \"here is an example\")\n",
    "print(\"output of the text_transform:\", text_transform(list(train_dp)[0][0]))"
   ]
  },
  {
   "cell_type": "code",
   "execution_count": 9,
   "metadata": {},
   "outputs": [],
   "source": [
    "# define batching functions\n",
    "\n",
    "def collate_batch(batch):\n",
    "    text_list, label_list = [], []\n",
    "    for (_text, _label) in batch:\n",
    "        processed_text = torch.tensor(text_transform(_text))\n",
    "        text_list.append(processed_text)\n",
    "        label_list.append(label_transform(_label))\n",
    "    return pad_sequence(text_list, padding_value=PADDING_VALUE).to(DEVICE), torch.tensor(label_list).to(DEVICE)\n",
    "\n",
    "class BatchSamplerSimilarLength(Sampler):\n",
    "    def __init__(self, dataset, batch_size, indices=None, shuffle=True):\n",
    "        self.batch_size = batch_size\n",
    "        self.shuffle = shuffle\n",
    "        # get the indices and length\n",
    "        self.indices = [(i, len(s[1])) for i, s in enumerate(dataset)]\n",
    "        # if indices are passed, then use only the ones passed (for ddp)\n",
    "        if indices is not None:\n",
    "            self.indices = torch.tensor(self.indices)[indices].tolist()\n",
    "\n",
    "    def __iter__(self):\n",
    "        if self.shuffle:\n",
    "            random.shuffle(self.indices)\n",
    "\n",
    "        pooled_indices = []\n",
    "        # create pool of indices with similar lengths\n",
    "        for i in range(0, len(self.indices), self.batch_size * 100):\n",
    "            pooled_indices.extend(sorted(self.indices[i:i + self.batch_size * 100], key=lambda x: x[1]))\n",
    "        self.pooled_indices = [x[0] for x in pooled_indices]\n",
    "\n",
    "        # yield indices for current batch\n",
    "        batches = [self.pooled_indices[i:i + self.batch_size] for i in\n",
    "               range(0, len(self.pooled_indices), self.batch_size)]\n",
    "\n",
    "        if self.shuffle:\n",
    "            random.shuffle(batches)\n",
    "        for batch in batches:\n",
    "            yield batch\n",
    "\n",
    "    def __len__(self):\n",
    "        return len(self.pooled_indices) // self.batch_size\n",
    "\n"
   ]
  },
  {
   "cell_type": "code",
   "execution_count": 10,
   "metadata": {},
   "outputs": [
    {
     "name": "stdout",
     "output_type": "stream",
     "text": [
      "torch.Size([4522, 16])\n",
      "torch.Size([16])\n"
     ]
    }
   ],
   "source": [
    "train_dp_list = list(train_dp)\n",
    "valid_dp_list = list(valid_dp)\n",
    "test_dp_list = list(test_dp)\n",
    "\n",
    "train_loader = DataLoader(train_dp_list, \n",
    "                          batch_sampler=BatchSamplerSimilarLength(dataset = train_dp_list, \n",
    "                                                                  batch_size=BATCH_SIZE),\n",
    "                          collate_fn=collate_batch)\n",
    "valid_loader = DataLoader(train_dp_list, \n",
    "                          batch_sampler=BatchSamplerSimilarLength(dataset = valid_dp_list, \n",
    "                                                                  batch_size=BATCH_SIZE,\n",
    "                                                                  shuffle=False),\n",
    "                          collate_fn=collate_batch)\n",
    "test_loader = DataLoader(train_dp_list, \n",
    "                          batch_sampler=BatchSamplerSimilarLength(dataset = test_dp_list, \n",
    "                                                                  batch_size=BATCH_SIZE,\n",
    "                                                                  shuffle=False),\n",
    "                          collate_fn=collate_batch)\n",
    "\n",
    "text_batch, label_batch = next(iter(train_loader))\n",
    "print(text_batch.size())\n",
    "print(label_batch.size())"
   ]
  },
  {
   "cell_type": "code",
   "execution_count": 11,
   "metadata": {},
   "outputs": [
    {
     "name": "stdout",
     "output_type": "stream",
     "text": [
      "Train\n",
      "Text matrix size: torch.Size([4501, 16])\n",
      "Target vector size: torch.Size([16])\n",
      "\n",
      "Valid:\n",
      "Text matrix size: torch.Size([10085, 16])\n",
      "Target vector size: torch.Size([16])\n",
      "\n",
      "Test:\n",
      "Text matrix size: torch.Size([10085, 16])\n",
      "Target vector size: torch.Size([16])\n"
     ]
    }
   ],
   "source": [
    "print('Train')\n",
    "for text_batch, label_batch in train_loader:\n",
    "    print(f'Text matrix size: {text_batch.size()}')\n",
    "    print(f'Target vector size: {label_batch.size()}')\n",
    "    break\n",
    "    \n",
    "print('\\nValid:')\n",
    "for text_batch, label_batch in valid_loader:\n",
    "    print(f'Text matrix size: {text_batch.size()}')\n",
    "    print(f'Target vector size: {label_batch.size()}')\n",
    "    break\n",
    "    \n",
    "print('\\nTest:')\n",
    "for text_batch, label_batch in test_loader:\n",
    "    print(f'Text matrix size: {text_batch.size()}')\n",
    "    print(f'Target vector size: {label_batch.size()}')\n",
    "    break"
   ]
  },
  {
   "cell_type": "markdown",
   "metadata": {},
   "source": [
    "### Utility Functions"
   ]
  },
  {
   "cell_type": "code",
   "execution_count": 12,
   "metadata": {},
   "outputs": [],
   "source": [
    "import matplotlib.pyplot as plt\n",
    "import numpy as np\n",
    "\n",
    "def compute_accuracy(model, data_loader, device):\n",
    "\n",
    "    with torch.no_grad():\n",
    "\n",
    "        correct_pred, num_examples = 0, 0\n",
    "\n",
    "        for i, (features, targets) in enumerate(data_loader):\n",
    "\n",
    "            features = features.to(device).long()\n",
    "            targets = targets.to(device).long()\n",
    "\n",
    "            logits = model(features)\n",
    "            _, predicted_labels = torch.max(logits, 1)\n",
    "\n",
    "            num_examples += targets.size(0)\n",
    "            correct_pred += (predicted_labels == targets).sum().to(\"cpu\")\n",
    "\n",
    "    return float(correct_pred)/num_examples * 100\n",
    "\n",
    "\n",
    "def train_model(model, num_epochs, train_loader,\n",
    "                valid_loader, test_loader, optimizer,\n",
    "                device, logging_interval=50,\n",
    "                scheduler=None,\n",
    "                scheduler_on='valid_acc'):\n",
    "\n",
    "    start_time = time.time()\n",
    "    minibatch_loss_list, train_acc_list, valid_acc_list = [], [], []\n",
    "    \n",
    "    for epoch in range(num_epochs):\n",
    "\n",
    "        model.train()\n",
    "        for batch_idx, (features, targets) in enumerate(train_loader):\n",
    "\n",
    "            features = features.to(device).long()\n",
    "            targets = targets.to(device).long()\n",
    "\n",
    "            # ## FORWARD AND BACK PROP\n",
    "            logits = model(features)\n",
    "            loss = torch.nn.functional.cross_entropy(logits, targets)\n",
    "            optimizer.zero_grad()\n",
    "\n",
    "            loss.backward()\n",
    "\n",
    "            # ## UPDATE MODEL PARAMETERS\n",
    "            optimizer.step()\n",
    "\n",
    "            # ## LOGGING\n",
    "            minibatch_loss_list.append(loss.item())\n",
    "            if not batch_idx % logging_interval:\n",
    "                print(f'Epoch: {epoch+1:03d}/{num_epochs:03d} '\n",
    "                      f'| Batch {batch_idx:04d}/{len(train_loader):04d} '\n",
    "                      f'| Loss: {loss:.4f}')\n",
    "\n",
    "        model.eval()\n",
    "        with torch.no_grad():  # save memory during inference\n",
    "            train_acc = compute_accuracy(model, train_loader, device=device)\n",
    "            valid_acc = compute_accuracy(model, valid_loader, device=device)\n",
    "            print(f'Epoch: {epoch+1:03d}/{num_epochs:03d} '\n",
    "                  f'| Train: {train_acc :.2f}% '\n",
    "                  f'| Validation: {valid_acc :.2f}%')\n",
    "            train_acc_list.append(train_acc)\n",
    "            valid_acc_list.append(valid_acc)\n",
    "\n",
    "        elapsed = (time.time() - start_time)/60\n",
    "        print(f'Time elapsed: {elapsed:.2f} min')\n",
    "        \n",
    "        if scheduler is not None:\n",
    "\n",
    "            if scheduler_on == 'valid_acc':\n",
    "                scheduler.step(valid_acc_list[-1])\n",
    "            elif scheduler_on == 'minibatch_loss':\n",
    "                scheduler.step(minibatch_loss_list[-1])\n",
    "            else:\n",
    "                raise ValueError(f'Invalid `scheduler_on` choice.')\n",
    "        \n",
    "\n",
    "    elapsed = (time.time() - start_time)/60\n",
    "    print(f'Total Training Time: {elapsed:.2f} min')\n",
    "\n",
    "    test_acc = compute_accuracy(model, test_loader, device=device)\n",
    "    print(f'Test accuracy {test_acc :.2f}%')\n",
    "\n",
    "    return minibatch_loss_list, train_acc_list, valid_acc_list\n",
    "\n",
    "def plot_training_loss(minibatch_loss_list, num_epochs, iter_per_epoch,\n",
    "                       results_dir=None, averaging_iterations=100):\n",
    "\n",
    "    plt.figure()\n",
    "    ax1 = plt.subplot(1, 1, 1)\n",
    "    ax1.plot(range(len(minibatch_loss_list)),\n",
    "             (minibatch_loss_list), label='Minibatch Loss')\n",
    "\n",
    "    if len(minibatch_loss_list) > 1000:\n",
    "        ax1.set_ylim([\n",
    "            0, np.max(minibatch_loss_list[1000:])*1.5\n",
    "            ])\n",
    "    ax1.set_xlabel('Iterations')\n",
    "    ax1.set_ylabel('Loss')\n",
    "\n",
    "    ax1.plot(np.convolve(minibatch_loss_list,\n",
    "                         np.ones(averaging_iterations,)/averaging_iterations,\n",
    "                         mode='valid'),\n",
    "             label='Running Average')\n",
    "    ax1.legend()\n",
    "\n",
    "    ###################\n",
    "    # Set scond x-axis\n",
    "    ax2 = ax1.twiny()\n",
    "    newlabel = list(range(num_epochs+1))\n",
    "\n",
    "    newpos = [e*iter_per_epoch for e in newlabel]\n",
    "\n",
    "    ax2.set_xticks(newpos[::10])\n",
    "    ax2.set_xticklabels(newlabel[::10])\n",
    "\n",
    "    ax2.xaxis.set_ticks_position('bottom')\n",
    "    ax2.xaxis.set_label_position('bottom')\n",
    "    ax2.spines['bottom'].set_position(('outward', 45))\n",
    "    ax2.set_xlabel('Epochs')\n",
    "    ax2.set_xlim(ax1.get_xlim())\n",
    "    ###################\n",
    "\n",
    "    plt.tight_layout()\n",
    "\n",
    "    if results_dir is not None:\n",
    "        image_path = os.path.join(results_dir, 'plot_training_loss.pdf')\n",
    "        plt.savefig(image_path)\n",
    "\n",
    "\n",
    "def plot_accuracy(train_acc_list, valid_acc_list, results_dir):\n",
    "\n",
    "    num_epochs = len(train_acc_list)\n",
    "\n",
    "    plt.plot(np.arange(1, num_epochs+1),\n",
    "             train_acc_list, label='Training')\n",
    "    plt.plot(np.arange(1, num_epochs+1),\n",
    "             valid_acc_list, label='Validation')\n",
    "\n",
    "    plt.xlabel('Epoch')\n",
    "    plt.ylabel('Accuracy')\n",
    "    plt.legend()\n",
    "\n",
    "    plt.tight_layout()\n",
    "\n",
    "    if results_dir is not None:\n",
    "        image_path = os.path.join(\n",
    "            results_dir, 'plot_acc_training_validation.pdf')\n",
    "        plt.savefig(image_path)"
   ]
  },
  {
   "cell_type": "markdown",
   "metadata": {},
   "source": [
    "### LSTM Model"
   ]
  },
  {
   "cell_type": "code",
   "execution_count": 13,
   "metadata": {},
   "outputs": [],
   "source": [
    "class LSTM(torch.nn.Module):\n",
    "    \n",
    "    def __init__(self, input_dim, embedding_dim, hidden_dim, output_dim):\n",
    "        super().__init__()\n",
    "\n",
    "        self.embedding = torch.nn.Embedding(input_dim, embedding_dim)\n",
    "        \n",
    "        self.rnn = torch.nn.LSTM(embedding_dim,\n",
    "                                 hidden_dim)        \n",
    "        \n",
    "        self.fc = torch.nn.Linear(hidden_dim, output_dim)\n",
    "        \n",
    "\n",
    "    def forward(self, text):\n",
    "        # text dim: [sentence length, batch size]        \n",
    "        embedded = self.embedding(text)\n",
    "        # embedded dim: [sentence length, batch size, embedding dim]\n",
    "        \n",
    "        output, (hidden, cell) = self.rnn(embedded)\n",
    "        # output dim: [sentence length, batch size, hidden dim]\n",
    "        # hidden dim: [1, batch size, hidden dim]\n",
    "\n",
    "        hidden.squeeze_(0)\n",
    "        # hidden dim: [batch size, hidden dim]\n",
    "        \n",
    "        output = self.fc(hidden)\n",
    "        return output"
   ]
  },
  {
   "cell_type": "markdown",
   "metadata": {},
   "source": [
    "### Train Model"
   ]
  },
  {
   "cell_type": "code",
   "execution_count": 14,
   "metadata": {},
   "outputs": [
    {
     "name": "stdout",
     "output_type": "stream",
     "text": [
      "Epoch: 001/004 | Batch 0000/1007 | Loss: 0.6828\n",
      "Epoch: 001/004 | Batch 0100/1007 | Loss: 0.7642\n",
      "Epoch: 001/004 | Batch 0200/1007 | Loss: 0.7147\n",
      "Epoch: 001/004 | Batch 0300/1007 | Loss: 0.7199\n",
      "Epoch: 001/004 | Batch 0400/1007 | Loss: 0.6213\n",
      "Epoch: 001/004 | Batch 0500/1007 | Loss: 0.6869\n",
      "Epoch: 001/004 | Batch 0600/1007 | Loss: 0.6583\n",
      "Epoch: 001/004 | Batch 0700/1007 | Loss: 0.7244\n",
      "Epoch: 001/004 | Batch 0800/1007 | Loss: 0.5626\n",
      "Epoch: 001/004 | Batch 0900/1007 | Loss: 0.1105\n",
      "Epoch: 001/004 | Batch 1000/1007 | Loss: 0.0058\n",
      "Epoch: 001/004 | Train: 99.96% | Validation: 100.00%\n",
      "Time elapsed: 6.12 min\n",
      "Epoch: 002/004 | Batch 0000/1007 | Loss: 0.0031\n",
      "Epoch: 002/004 | Batch 0100/1007 | Loss: 0.0014\n",
      "Epoch: 002/004 | Batch 0200/1007 | Loss: 0.0032\n",
      "Epoch: 002/004 | Batch 0300/1007 | Loss: 0.0022\n",
      "Epoch: 002/004 | Batch 0400/1007 | Loss: 0.0014\n",
      "Epoch: 002/004 | Batch 0500/1007 | Loss: 0.0009\n",
      "Epoch: 002/004 | Batch 0600/1007 | Loss: 0.0007\n",
      "Epoch: 002/004 | Batch 0700/1007 | Loss: 0.0005\n",
      "Epoch: 002/004 | Batch 0800/1007 | Loss: 0.0007\n",
      "Epoch: 002/004 | Batch 0900/1007 | Loss: 0.0006\n",
      "Epoch: 002/004 | Batch 1000/1007 | Loss: 0.0005\n",
      "Epoch: 002/004 | Train: 99.96% | Validation: 100.00%\n",
      "Time elapsed: 11.97 min\n",
      "Epoch: 003/004 | Batch 0000/1007 | Loss: 0.0005\n",
      "Epoch: 003/004 | Batch 0100/1007 | Loss: 0.0006\n",
      "Epoch: 003/004 | Batch 0200/1007 | Loss: 0.0013\n",
      "Epoch: 003/004 | Batch 0300/1007 | Loss: 0.0004\n",
      "Epoch: 003/004 | Batch 0400/1007 | Loss: 0.0003\n",
      "Epoch: 003/004 | Batch 0500/1007 | Loss: 0.0005\n",
      "Epoch: 003/004 | Batch 0600/1007 | Loss: 0.0001\n",
      "Epoch: 003/004 | Batch 0700/1007 | Loss: 0.0002\n",
      "Epoch: 003/004 | Batch 0800/1007 | Loss: 0.0003\n",
      "Epoch: 003/004 | Batch 0900/1007 | Loss: 0.0002\n",
      "Epoch: 003/004 | Batch 1000/1007 | Loss: 0.0004\n",
      "Epoch: 003/004 | Train: 99.96% | Validation: 100.00%\n",
      "Time elapsed: 17.84 min\n",
      "Epoch: 004/004 | Batch 0000/1007 | Loss: 0.0005\n",
      "Epoch: 004/004 | Batch 0100/1007 | Loss: 0.0004\n",
      "Epoch: 004/004 | Batch 0200/1007 | Loss: 0.0007\n",
      "Epoch: 004/004 | Batch 0300/1007 | Loss: 0.0008\n",
      "Epoch: 004/004 | Batch 0400/1007 | Loss: 0.0001\n",
      "Epoch: 004/004 | Batch 0500/1007 | Loss: 0.0001\n",
      "Epoch: 004/004 | Batch 0600/1007 | Loss: 0.0008\n",
      "Epoch: 004/004 | Batch 0700/1007 | Loss: 0.0001\n",
      "Epoch: 004/004 | Batch 0800/1007 | Loss: 0.0002\n",
      "Epoch: 004/004 | Batch 0900/1007 | Loss: 0.0001\n",
      "Epoch: 004/004 | Batch 1000/1007 | Loss: 0.0001\n",
      "Epoch: 004/004 | Train: 99.95% | Validation: 99.90%\n",
      "Time elapsed: 23.72 min\n",
      "Total Training Time: 23.72 min\n",
      "Test accuracy 99.90%\n"
     ]
    }
   ],
   "source": [
    "model = LSTM(input_dim=len(vocab),\n",
    "             embedding_dim=EMBEDDING_DIM,\n",
    "             hidden_dim=HIDDEN_DIM,\n",
    "             output_dim=NUM_CLASSES # could use 1 for binary classification\n",
    ")\n",
    "\n",
    "model = model.to(DEVICE)\n",
    "\n",
    "optimizer = torch.optim.Adam(model.parameters(), lr=LEARNING_RATE)\n",
    "scheduler = torch.optim.lr_scheduler.ReduceLROnPlateau(optimizer,\n",
    "                                                       factor=0.1,\n",
    "                                                       mode='max',\n",
    "                                                       verbose=True)\n",
    "\n",
    "minibatch_loss_list, train_acc_list, valid_acc_list = train_model(\n",
    "    model=model,\n",
    "    num_epochs=NUM_EPOCHS,\n",
    "    train_loader=train_loader,\n",
    "    valid_loader=valid_loader,\n",
    "    test_loader=test_loader,\n",
    "    optimizer=optimizer,\n",
    "    device=DEVICE,\n",
    "    logging_interval=100)"
   ]
  },
  {
   "cell_type": "code",
   "execution_count": 15,
   "metadata": {},
   "outputs": [
    {
     "data": {
      "image/png": "[encoded data removed]",
      "text/plain": [
       "<Figure size 640x480 with 2 Axes>"
      ]
     },
     "metadata": {},
     "output_type": "display_data"
    },
    {
     "data": {
      "image/png": "[encoded data removed]",
      "text/plain": [
       "<Figure size 640x480 with 1 Axes>"
      ]
     },
     "metadata": {},
     "output_type": "display_data"
    }
   ],
   "source": [
    "plot_training_loss(minibatch_loss_list=minibatch_loss_list,\n",
    "                   num_epochs=NUM_EPOCHS,\n",
    "                   iter_per_epoch=len(train_loader),\n",
    "                   results_dir=None,\n",
    "                   averaging_iterations=100)\n",
    "plt.show()\n",
    "\n",
    "plot_accuracy(train_acc_list=train_acc_list,\n",
    "              valid_acc_list=valid_acc_list,\n",
    "              results_dir=None)\n",
    "plt.show()"
   ]
  },
  {
   "cell_type": "code",
   "execution_count": 114,
   "metadata": {},
   "outputs": [],
   "source": [
    "# save model, vocab, and optimizer state\n",
    "torch.save(model.state_dict(), 'model_data/lstm_01.pt')\n",
    "torch.save(optimizer.state_dict(), 'model_data/optimizer_01.pt')\n",
    "\n",
    "# save the vocab\n",
    "with open('model_data/vocab_01.pkl', 'wb') as f:\n",
    "    pickle.dump(vocab, f)"
   ]
  },
  {
   "cell_type": "code",
   "execution_count": 109,
   "metadata": {},
   "outputs": [],
   "source": [
    "def get_prediction(model, sentence):\n",
    "\n",
    "    with torch.no_grad():\n",
    "        model.eval()\n",
    "        if type(sentence) == str:\n",
    "            tokenized = tokenizer(sentence)\n",
    "        elif type(sentence) == list:\n",
    "            tokenized = sentence\n",
    "        else:\n",
    "            raise TypeError('sentence must be str or list')\n",
    "        indexed = [vocab[t] for t in tokenized]\n",
    "        # print(indexed)\n",
    "        length = [len(indexed)]\n",
    "        tensor = torch.LongTensor(indexed).to(DEVICE)\n",
    "        tensor = tensor.unsqueeze(1)\n",
    "        prediction = F.softmax(model(tensor), dim=1)\n",
    "    return prediction.to(\"cpu\").squeeze(dim=0).detach().numpy()"
   ]
  },
  {
   "cell_type": "code",
   "execution_count": 112,
   "metadata": {},
   "outputs": [
    {
     "name": "stdout",
     "output_type": "stream",
     "text": [
      "dfs 1 [5.6039954e-07 9.9999940e-01]\n",
      "bfs 0 [9.9999988e-01 1.2491958e-07]\n",
      "bfs 0 [9.9999988e-01 1.2491958e-07]\n",
      "bfs 0 [9.9999988e-01 1.2491958e-07]\n",
      "bfs 0 [9.999999e-01 1.249098e-07]\n",
      "dfs 1 [5.6039954e-07 9.9999940e-01]\n",
      "dfs 1 [5.6039954e-07 9.9999940e-01]\n",
      "dfs 1 [5.6039954e-07 9.9999940e-01]\n",
      "bfs 0 [9.9999988e-01 1.2491958e-07]\n",
      "dfs 1 [5.6039954e-07 9.9999940e-01]\n"
     ]
    }
   ],
   "source": [
    "# shuffle reports\n",
    "random.shuffle(reports)\n",
    "\n",
    "for i in range(10):\n",
    "    report = reports[i]\n",
    "    pred = get_prediction(model, report[0])\n",
    "    print(report[1], np.argmax(pred), pred)"
   ]
  }
 ],
 "metadata": {
  "kernelspec": {
   "display_name": "env",
   "language": "python",
   "name": "python3"
  },
  "language_info": {
   "codemirror_mode": {
    "name": "ipython",
    "version": 3
   },
   "file_extension": ".py",
   "mimetype": "text/x-python",
   "name": "python",
   "nbconvert_exporter": "python",
   "pygments_lexer": "ipython3",
   "version": "3.10.12"
  }
 },
 "nbformat": 4,
 "nbformat_minor": 2
}
