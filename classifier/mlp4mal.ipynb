{
 "cells": [
  {
   "cell_type": "markdown",
   "metadata": {},
   "source": [
    "# MLP for NLP Classification\n",
    "Reference Docs:\n",
    "- https://colab.research.google.com/drive/1WUy4G2SsoLelrZDkO2I0v9tHx9x27NJK?usp=sharing"
   ]
  },
  {
   "cell_type": "markdown",
   "metadata": {},
   "source": [
    "### Imports and Settings"
   ]
  },
  {
   "cell_type": "code",
   "execution_count": 1,
   "metadata": {},
   "outputs": [],
   "source": [
    "%load_ext autoreload\n",
    "%autoreload 2\n",
    "\n",
    "import os, gc\n",
    "import numpy as np\n",
    "import random\n",
    "from tqdm import tqdm\n",
    "import torch\n",
    "%matplotlib inline\n",
    "\n",
    "import json\n",
    "import torch\n",
    "\n",
    "with open ('../settings.json') as f:\n",
    "    settings = json.load(f)\n",
    "\n",
    "DATA_DIR = os.path.join(settings['data_path'], 'classifier')\n",
    "os.makedirs(DATA_DIR, exist_ok=True)\n",
    "CHECKPOINT_DIR = os.path.join(DATA_DIR, \"model_data\")\n",
    "os.makedirs(CHECKPOINT_DIR, exist_ok=True)\n",
    "CHECKPOINT_PREFIX = os.path.join(CHECKPOINT_DIR, \"mlp4mal\")\n",
    "\n",
    "db_uri = settings['sqlalchemy_database_uri']\n",
    "\n",
    "RANDOM_SEED = 4321\n",
    "torch.manual_seed(RANDOM_SEED)\n",
    "random.seed(RANDOM_SEED)\n",
    "torch.manual_seed(RANDOM_SEED)\n",
    "torch.backends.cudnn.deterministic = True\n",
    "\n",
    "VOCABULARY_SIZE = 20000\n",
    "DROPOUT = 0.25\n",
    "LEARNING_RATE = 0.0001\n",
    "EMBEDDING_DIM = 128\n",
    "BATCH_SIZE = 32\n",
    "NUM_EPOCHS = 15\n",
    "NUM_CLASSES = 4\n",
    "MAX_LENGTH = 20480 * 2\n",
    "DEVICE = torch.device('cuda:0' if torch.cuda.is_available() else 'cpu')\n",
    "\n"
   ]
  },
  {
   "cell_type": "markdown",
   "metadata": {},
   "source": [
    "### Set up CUDA debug environment"
   ]
  },
  {
   "cell_type": "code",
   "execution_count": 2,
   "metadata": {},
   "outputs": [
    {
     "name": "stdout",
     "output_type": "stream",
     "text": [
      "CUDA_LAUNCH_BLOCKING = 1\n",
      "TORCH_USE_CUDA_DSA = 1\n"
     ]
    }
   ],
   "source": [
    "# Enable synchronous CUDA execution for better error reporting\n",
    "os.environ['CUDA_LAUNCH_BLOCKING'] = '1'\n",
    "\n",
    "# Enable device-side assertions in CUDA kernels\n",
    "os.environ['TORCH_USE_CUDA_DSA'] = '1'\n",
    "\n",
    "# Confirm the variables are set\n",
    "print(\"CUDA_LAUNCH_BLOCKING =\", os.getenv('CUDA_LAUNCH_BLOCKING'))\n",
    "print(\"TORCH_USE_CUDA_DSA =\", os.getenv('TORCH_USE_CUDA_DSA'))"
   ]
  },
  {
   "cell_type": "markdown",
   "metadata": {},
   "source": [
    "### Load Data (already cleaned and selected)"
   ]
  },
  {
   "cell_type": "code",
   "execution_count": 3,
   "metadata": {},
   "outputs": [
    {
     "name": "stdout",
     "output_type": "stream",
     "text": [
      "['/media/mike/data/gimc/classifier/report_data/json_0.json', '/media/mike/data/gimc/classifier/report_data/json_1.json', '/media/mike/data/gimc/classifier/report_data/json_10.json', '/media/mike/data/gimc/classifier/report_data/json_11.json', '/media/mike/data/gimc/classifier/report_data/json_12.json', '/media/mike/data/gimc/classifier/report_data/json_13.json', '/media/mike/data/gimc/classifier/report_data/json_14.json', '/media/mike/data/gimc/classifier/report_data/json_15.json', '/media/mike/data/gimc/classifier/report_data/json_2.json', '/media/mike/data/gimc/classifier/report_data/json_3.json', '/media/mike/data/gimc/classifier/report_data/json_4.json', '/media/mike/data/gimc/classifier/report_data/json_5.json', '/media/mike/data/gimc/classifier/report_data/json_6.json', '/media/mike/data/gimc/classifier/report_data/json_7.json', '/media/mike/data/gimc/classifier/report_data/json_8.json', '/media/mike/data/gimc/classifier/report_data/json_9.json']\n",
      "Dataset({\n",
      "    features: ['text', 'label'],\n",
      "    num_rows: 16000\n",
      "})\n"
     ]
    }
   ],
   "source": [
    "from datasets import load_dataset\n",
    "\n",
    "REPORT_DIR = os.path.join(DATA_DIR, \"report_data\")\n",
    "os.makedirs(REPORT_DIR, exist_ok=True)\n",
    "\n",
    "# get all files in the report directory\n",
    "file_paths = [os.path.join(REPORT_DIR, f) for f in os.listdir(REPORT_DIR) if os.path.isfile(os.path.join(REPORT_DIR, f))]\n",
    "print(file_paths)\n",
    "\n",
    "dataset = load_dataset('json', data_files=file_paths)['train']\n",
    "print(dataset)"
   ]
  },
  {
   "cell_type": "markdown",
   "metadata": {},
   "source": [
    "### Split Data"
   ]
  },
  {
   "cell_type": "code",
   "execution_count": 4,
   "metadata": {},
   "outputs": [
    {
     "name": "stdout",
     "output_type": "stream",
     "text": [
      "Train dataset: 12800 samples\n",
      "Validation dataset: 1600 samples\n",
      "Test dataset: 1600 samples\n"
     ]
    }
   ],
   "source": [
    "# First, split into 40% train and 20% (validation + test), with shuffling\n",
    "train_test_split = dataset.train_test_split(test_size=0.2, seed=42, shuffle=True)\n",
    "train_dataset = train_test_split['train']\n",
    "temp_dataset = train_test_split['test']\n",
    "\n",
    "# Then, split the 20% temp_dataset into 10% validation and 10% test, with shuffling\n",
    "validation_test_split = temp_dataset.train_test_split(test_size=0.5, seed=42, shuffle=True)\n",
    "validation_dataset = validation_test_split['train']\n",
    "test_dataset = validation_test_split['test']\n",
    "\n",
    "# Check the size and order of samples in each split\n",
    "print(f\"Train dataset: {len(train_dataset)} samples\")\n",
    "print(f\"Validation dataset: {len(validation_dataset)} samples\")\n",
    "print(f\"Test dataset: {len(test_dataset)} samples\")\n"
   ]
  },
  {
   "cell_type": "markdown",
   "metadata": {},
   "source": [
    "### Load Tokenizer"
   ]
  },
  {
   "cell_type": "code",
   "execution_count": 5,
   "metadata": {},
   "outputs": [
    {
     "name": "stdout",
     "output_type": "stream",
     "text": [
      "Tokenizer path: /media/mike/data/gimc/classifier/model_data/mal-reformer\n"
     ]
    }
   ],
   "source": [
    "tokenizer_path = os.path.join(DATA_DIR, 'model_data', 'mal-reformer')\n",
    "print(f\"Tokenizer path: {tokenizer_path}\")\n",
    "\n",
    "import torch\n",
    "from transformers import AutoTokenizer, ReformerForSequenceClassification\n",
    "\n",
    "# Load the tokenizer\n",
    "tokenizer = AutoTokenizer.from_pretrained(tokenizer_path)\n",
    "tokenizer.pad_token = \"[PAD]\"\n",
    "tokenizer.cls_token = \"[CLS]\"\n",
    "tokenizer.sep_token = \"[SEP]\""
   ]
  },
  {
   "cell_type": "markdown",
   "metadata": {},
   "source": [
    "### Tokenizer Function"
   ]
  },
  {
   "cell_type": "code",
   "execution_count": 6,
   "metadata": {},
   "outputs": [],
   "source": [
    "def tokenize_function(example):\n",
    "    return tokenizer(\n",
    "        example['text'],\n",
    "        padding='max_length',\n",
    "        truncation=True,\n",
    "        max_length=MAX_LENGTH\n",
    "    )"
   ]
  },
  {
   "cell_type": "code",
   "execution_count": 7,
   "metadata": {},
   "outputs": [],
   "source": [
    "# Tokenize each split\n",
    "tokenized_train_dataset = train_dataset.map(tokenize_function, batched=True)\n",
    "tokenized_validation_dataset = validation_dataset.map(tokenize_function, batched=True)\n",
    "tokenized_test_dataset = test_dataset.map(tokenize_function, batched=True)"
   ]
  },
  {
   "cell_type": "markdown",
   "metadata": {},
   "source": [
    "### Create Dataloaders"
   ]
  },
  {
   "cell_type": "code",
   "execution_count": 8,
   "metadata": {},
   "outputs": [],
   "source": [
    "from torch.utils.data import (TensorDataset, DataLoader, RandomSampler,SequentialSampler)\n",
    "\n",
    "def data_loader(train_dataset, val_dataset, test_dataset, batch_size=BATCH_SIZE):\n",
    "    train_inputs, val_inputs, test_inputs = [], [], []\n",
    "    train_labels, val_labels, test_labels = [], [], []\n",
    "    \n",
    "    for i in tqdm(range(len(train_dataset)), desc=\"Tokenizing train dataset\"):\n",
    "        train_inputs.append(train_dataset[i]['input_ids'])\n",
    "        train_labels.append(train_dataset[i]['label'])\n",
    "    for i in tqdm(range(len(val_dataset)), desc=\"Tokenizing validation dataset\"):\n",
    "        val_inputs.append(val_dataset[i]['input_ids'])\n",
    "        val_labels.append(val_dataset[i]['label'])\n",
    "    for i in tqdm(range(len(test_dataset)), desc=\"Tokenizing test dataset\"):\n",
    "        test_inputs.append(test_dataset[i]['input_ids'])\n",
    "        test_labels.append(test_dataset[i]['label'])\n",
    "\n",
    "    # Convert data type to torch.Tensor\n",
    "    train_inputs = torch.tensor(train_inputs)\n",
    "    val_inputs = torch.tensor(val_inputs)\n",
    "    test_inputs = torch.tensor(test_inputs)\n",
    "    train_labels = torch.tensor(train_labels)\n",
    "    val_labels = torch.tensor(val_labels)\n",
    "    test_labels = torch.tensor(test_labels)\n",
    "                                   \n",
    "    # Create DataLoader for training data\n",
    "    train_data = TensorDataset(train_inputs, train_labels)\n",
    "    train_sampler = RandomSampler(train_data)\n",
    "    train_dataloader = DataLoader(train_data, sampler=train_sampler, batch_size=batch_size)\n",
    "\n",
    "    # Create DataLoader for validation data\n",
    "    val_data = TensorDataset(val_inputs, val_labels)\n",
    "    val_sampler = SequentialSampler(val_data)\n",
    "    val_dataloader = DataLoader(val_data, sampler=val_sampler, batch_size=batch_size)\n",
    "\n",
    "    # create DataLoader for test data\n",
    "    test_data = TensorDataset(test_inputs, test_labels)\n",
    "    test_sampler = SequentialSampler(test_data)\n",
    "    test_dataloader = DataLoader(test_data, sampler=test_sampler, batch_size=batch_size)\n",
    "    return train_dataloader, val_dataloader, test_dataloader"
   ]
  },
  {
   "cell_type": "code",
   "execution_count": 9,
   "metadata": {},
   "outputs": [
    {
     "name": "stderr",
     "output_type": "stream",
     "text": [
      "Tokenizing train dataset: 100%|██████████| 12800/12800 [09:28<00:00, 22.52it/s]\n",
      "Tokenizing validation dataset: 100%|██████████| 1600/1600 [01:10<00:00, 22.63it/s]\n",
      "Tokenizing test dataset: 100%|██████████| 1600/1600 [01:09<00:00, 23.03it/s]\n"
     ]
    }
   ],
   "source": [
    "train_dataloader, val_dataloader, test_dataloader = data_loader(tokenized_train_dataset, tokenized_validation_dataset, tokenized_test_dataset)"
   ]
  },
  {
   "cell_type": "markdown",
   "metadata": {},
   "source": [
    "### Train Loop"
   ]
  },
  {
   "cell_type": "code",
   "execution_count": 10,
   "metadata": {},
   "outputs": [
    {
     "name": "stdout",
     "output_type": "stream",
     "text": [
      "Epoch: 001/015 | Train: 68.24% | Validation: 69.38% | Elapsed: 0.12 min\n",
      "Epoch: 002/015 | Train: 92.97% | Validation: 94.25% | Elapsed: 0.23 min\n",
      "Epoch: 003/015 | Train: 92.96% | Validation: 94.38% | Elapsed: 0.35 min\n",
      "Epoch: 004/015 | Train: 92.93% | Validation: 94.19% | Elapsed: 0.47 min\n",
      "Epoch: 005/015 | Train: 92.92% | Validation: 94.31% | Elapsed: 0.59 min\n",
      "Epoch: 006/015 | Train: 92.98% | Validation: 94.19% | Elapsed: 0.71 min\n",
      "Epoch: 007/015 | Train: 93.02% | Validation: 94.31% | Elapsed: 0.82 min\n",
      "Epoch: 008/015 | Train: 93.05% | Validation: 94.25% | Elapsed: 0.94 min\n",
      "Epoch: 009/015 | Train: 93.08% | Validation: 94.31% | Elapsed: 1.06 min\n",
      "Epoch: 010/015 | Train: 93.04% | Validation: 94.19% | Elapsed: 1.18 min\n",
      "Epoch: 011/015 | Train: 93.16% | Validation: 94.44% | Elapsed: 1.30 min\n",
      "Epoch: 012/015 | Train: 93.14% | Validation: 94.38% | Elapsed: 1.41 min\n",
      "Epoch: 013/015 | Train: 93.06% | Validation: 94.25% | Elapsed: 1.53 min\n",
      "Epoch: 014/015 | Train: 93.34% | Validation: 94.56% | Elapsed: 1.65 min\n",
      "Epoch: 015/015 | Train: 93.16% | Validation: 94.38% | Elapsed: 1.76 min\n",
      "Total Training Time: 1.77 min\n",
      "Test accuracy 93.44%\n"
     ]
    },
    {
     "data": {
      "image/png": "[encoded data removed]",
      "text/plain": [
       "<Figure size 640x480 with 2 Axes>"
      ]
     },
     "metadata": {},
     "output_type": "display_data"
    },
    {
     "data": {
      "image/png": "[encoded data removed]",
      "text/plain": [
       "<Figure size 640x480 with 1 Axes>"
      ]
     },
     "metadata": {},
     "output_type": "display_data"
    }
   ],
   "source": [
    "from utils.train import train_model\n",
    "from utils.plot import plot_accuracy, plot_training_loss\n",
    "from torch import optim\n",
    "from models.mlp_nlp import MLP_NLP\n",
    "\n",
    "model = MLP_NLP(vocab_size=VOCABULARY_SIZE,\n",
    "                embed_dim=EMBEDDING_DIM,\n",
    "                num_class=NUM_CLASSES,\n",
    "                hidden_size1=513,\n",
    "                hidden_size2=256,\n",
    "                hidden_size3=128,\n",
    "                dropout=DROPOUT)\n",
    "\n",
    "optimizer = optim.Adam(model.parameters(), lr=LEARNING_RATE)\n",
    "scheduler = optim.lr_scheduler.ReduceLROnPlateau(optimizer, mode='max', factor=0.1, patience=2, verbose=True)\n",
    "\n",
    "model = model.to(DEVICE)\n",
    "\n",
    "minibatch_loss_list, train_acc_list, valid_acc_list = train_model(\n",
    "    model=model,\n",
    "    num_epochs=NUM_EPOCHS,\n",
    "    train_loader=train_dataloader,\n",
    "    valid_loader=val_dataloader,\n",
    "    test_loader=test_dataloader,\n",
    "    optimizer=optimizer,\n",
    "    checkpoint_prefix=CHECKPOINT_PREFIX,\n",
    "    device=DEVICE,\n",
    "    logging_interval=100)\n",
    "\n",
    "plot_training_loss(minibatch_loss_list=minibatch_loss_list,\n",
    "                   num_epochs=NUM_EPOCHS,\n",
    "                   iter_per_epoch=len(train_dataloader),\n",
    "                   results_dir=None,\n",
    "                   averaging_iterations=100)\n",
    "\n",
    "plot_accuracy(train_acc_list=train_acc_list,\n",
    "              valid_acc_list=valid_acc_list,\n",
    "              results_dir=None)"
   ]
  },
  {
   "cell_type": "markdown",
   "metadata": {},
   "source": [
    "### Sanity Check"
   ]
  },
  {
   "cell_type": "code",
   "execution_count": 11,
   "metadata": {},
   "outputs": [],
   "source": [
    "# Create prediction function for raw text\n",
    "def predict_text(text, model, tokenizer, device):\n",
    "    model.eval()\n",
    "    inputs = tokenizer(text, return_tensors='pt', padding='max_length', truncation=True, max_length=MAX_LENGTH).to(device)\n",
    "    input_ids = inputs['input_ids']\n",
    "    with torch.no_grad():\n",
    "        logits = model(input_ids)\n",
    "    return torch.argmax(logits, dim=-1).item()\n"
   ]
  },
  {
   "cell_type": "code",
   "execution_count": 12,
   "metadata": {},
   "outputs": [
    {
     "name": "stdout",
     "output_type": "stream",
     "text": [
      "label: 0, prediction: 0\n",
      "label: 0, prediction: 0\n",
      "label: 0, prediction: 0\n",
      "label: 0, prediction: 0\n",
      "label: 0, prediction: 0\n",
      "label: 0, prediction: 0\n",
      "label: 0, prediction: 0\n",
      "label: 0, prediction: 0\n",
      "label: 0, prediction: 0\n",
      "label: 0, prediction: 0\n",
      "label: 0, prediction: 0\n",
      "label: 1, prediction: 0\n",
      "label: 1, prediction: 1\n",
      "label: 1, prediction: 1\n",
      "label: 1, prediction: 1\n",
      "label: 1, prediction: 1\n",
      "label: 1, prediction: 1\n",
      "label: 1, prediction: 1\n",
      "label: 1, prediction: 0\n",
      "label: 1, prediction: 1\n",
      "label: 1, prediction: 1\n",
      "label: 1, prediction: 1\n",
      "label: 2, prediction: 2\n",
      "label: 2, prediction: 2\n",
      "label: 2, prediction: 2\n",
      "label: 2, prediction: 2\n",
      "label: 2, prediction: 2\n",
      "label: 2, prediction: 2\n",
      "label: 2, prediction: 2\n",
      "label: 2, prediction: 2\n",
      "label: 2, prediction: 2\n",
      "label: 2, prediction: 2\n",
      "label: 2, prediction: 2\n",
      "label: 3, prediction: 3\n",
      "label: 3, prediction: 3\n",
      "label: 3, prediction: 3\n",
      "label: 3, prediction: 3\n",
      "label: 3, prediction: 3\n",
      "label: 3, prediction: 3\n",
      "label: 3, prediction: 3\n",
      "label: 3, prediction: 3\n",
      "label: 3, prediction: 3\n",
      "label: 3, prediction: 3\n",
      "label: 3, prediction: 3\n"
     ]
    }
   ],
   "source": [
    "\n",
    "for i in range(4):\n",
    "    count = 0\n",
    "    idx = i * 4\n",
    "    with open(os.path.join(REPORT_DIR, f'json_{idx}.json')) as f:\n",
    "        for line in f:\n",
    "            data = json.loads(line)\n",
    "            text = data['text']\n",
    "            prediction = predict_text(text, model, tokenizer, DEVICE)\n",
    "            print(f\"label: {data['label']}, prediction: {prediction}\")\n",
    "            count += 1\n",
    "            if count > 10:\n",
    "                break"
   ]
  }
 ],
 "metadata": {
  "kernelspec": {
   "display_name": "env",
   "language": "python",
   "name": "python3"
  },
  "language_info": {
   "codemirror_mode": {
    "name": "ipython",
    "version": 3
   },
   "file_extension": ".py",
   "mimetype": "text/x-python",
   "name": "python",
   "nbconvert_exporter": "python",
   "pygments_lexer": "ipython3",
   "version": "3.12.3"
  }
 },
 "nbformat": 4,
 "nbformat_minor": 2
}
