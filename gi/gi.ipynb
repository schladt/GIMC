{
 "cells": [
  {
   "cell_type": "markdown",
   "metadata": {},
   "source": [
    "# Imports"
   ]
  },
  {
   "cell_type": "code",
   "execution_count": 7,
   "metadata": {},
   "outputs": [],
   "source": [
    "import os\n",
    "import json "
   ]
  },
  {
   "cell_type": "markdown",
   "metadata": {},
   "source": [
    "# Settings"
   ]
  },
  {
   "cell_type": "code",
   "execution_count": 8,
   "metadata": {},
   "outputs": [],
   "source": [
    "\n",
    "setting_file = os.path.abspath(os.path.join('..', 'settings.json'))\n",
    "\n",
    "with open(setting_file, 'r') as f:\n",
    "    settings = json.load(f)\n"
   ]
  },
  {
   "cell_type": "markdown",
   "metadata": {},
   "source": [
    "# Connect to Database\n",
    "Use SqlAlchemy to autoload tables"
   ]
  },
  {
   "cell_type": "code",
   "execution_count": 9,
   "metadata": {},
   "outputs": [],
   "source": [
    "# use sqlalchemy and reflection to get the table names\n",
    "from sqlalchemy import create_engine, MetaData, Table, func\n",
    "from sqlalchemy.orm import sessionmaker\n",
    "\n",
    "# create the engine\n",
    "engine = create_engine(settings['sqlalchemy_database_uri'])\n",
    "\n",
    "# Reflect the tables\n",
    "metadata = MetaData()\n",
    "metadata.reflect(bind=engine)\n",
    "\n",
    "# create connection\n",
    "conn = engine.connect()\n",
    "Session = sessionmaker(bind=engine)\n",
    "session = Session()\n",
    "\n",
    "# load tables\n",
    "Prototypes = Table('prototypes', metadata, autoload_with=engine)\n",
    "Analysis = Table('analysis', metadata, autoload_with=engine)\n",
    "Sample = Table('sample', metadata, autoload_with=engine)\n",
    "Tag = Table('tag', metadata, autoload_with=engine)\n",
    "SampleTag = Table('sample_tag', metadata, autoload_with=engine)"
   ]
  },
  {
   "cell_type": "markdown",
   "metadata": {},
   "source": [
    "# Retrieve and write prototype code to file"
   ]
  },
  {
   "cell_type": "code",
   "execution_count": 10,
   "metadata": {},
   "outputs": [],
   "source": [
    "# get one prototype\n",
    "prototype = session.query(Prototypes).first()\n",
    "\n",
    "tmp_dir = os.path.abspath('tmp')\n",
    "os.makedirs(tmp_dir, exist_ok=True)\n",
    "\n",
    "# write the prototype to a file\n",
    "prototype_source = os.path.join(tmp_dir, 'prototype.c')\n",
    "with open(prototype_source, 'w') as f:\n",
    "    f.write(prototype.code)\n"
   ]
  },
  {
   "cell_type": "markdown",
   "metadata": {},
   "source": [
    "# Create XML file of prototype code"
   ]
  },
  {
   "cell_type": "code",
   "execution_count": 11,
   "metadata": {},
   "outputs": [
    {
     "name": "stdout",
     "output_type": "stream",
     "text": [
      "\n"
     ]
    }
   ],
   "source": [
    "srcml_client = settings['srcml_client']\n",
    "\n",
    "# use subprocess to run the srcml client\n",
    "import subprocess\n",
    "\n",
    "\n",
    "# compile the code\n",
    "prototype_xml = os.path.join(tmp_dir, 'prototype.xml')            \n",
    "result = subprocess.run([srcml_client, prototype_source, '-o', prototype_xml], capture_output=True, text=True)\n",
    "\n",
    "# check if the command was successful\n",
    "if result.returncode != 0:\n",
    "    print(result.stderr)\n",
    "    raise Exception('Failed to run srcml client')\n",
    "else:\n",
    "    print(result.stdout)\n"
   ]
  }
 ],
 "metadata": {
  "kernelspec": {
   "display_name": "env",
   "language": "python",
   "name": "python3"
  },
  "language_info": {
   "codemirror_mode": {
    "name": "ipython",
    "version": 3
   },
   "file_extension": ".py",
   "mimetype": "text/x-python",
   "name": "python",
   "nbconvert_exporter": "python",
   "pygments_lexer": "ipython3",
   "version": "3.10.12"
  }
 },
 "nbformat": 4,
 "nbformat_minor": 2
}
